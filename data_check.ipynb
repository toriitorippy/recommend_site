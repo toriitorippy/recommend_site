{
 "cells": [
  {
   "cell_type": "code",
   "execution_count": 1,
   "id": "20a9e61c",
   "metadata": {},
   "outputs": [],
   "source": [
    "import pandas as pd\n",
    "import matplotlib.pyplot as plt\n",
    "import japanize_matplotlib \n",
    "import numpy as np\n",
    "import optuna.integration.lightgbm as lgb\n",
    "import lightgbm as lgb2\n",
    "from sklearn.model_selection import train_test_split\n",
    "from sklearn.metrics import mean_squared_error\n",
    "from sklearn.metrics import r2_score\n",
    "\n",
    "%matplotlib inline"
   ]
  },
  {
   "cell_type": "code",
   "execution_count": 2,
   "id": "3c78d89b",
   "metadata": {},
   "outputs": [
    {
     "name": "stdout",
     "output_type": "stream",
     "text": [
      "Untitled.ipynb\r\n",
      "gbm.txt\r\n",
      "\u001b[34mrecommend_site\u001b[m\u001b[m\r\n",
      "生活者総合調査2019.csv\r\n",
      "生活者総合調査2019_itemlist.txt\r\n",
      "生活者総合調査2019調査概要.pdf\r\n",
      "生活者総合調査2019調査項目.xlsx\r\n"
     ]
    }
   ],
   "source": [
    "!ls"
   ]
  },
  {
   "cell_type": "code",
   "execution_count": 3,
   "id": "a08d4aa4",
   "metadata": {
    "scrolled": true
   },
   "outputs": [
    {
     "name": "stderr",
     "output_type": "stream",
     "text": [
      "/usr/local/lib/python3.9/site-packages/IPython/core/interactiveshell.py:3441: DtypeWarning: Columns (46,72,77,91,92,93,95,169,170,171,172,173,174,175,176,179,180,181,182,183,184,185,186,189,190,234,235,236,237,238,239,243,244,245,246,247,248,250,251,252,253,254,274,275,276,277,334,348,349,459,785,853,889,950,975,1423,1425,1428,1429,1430,1431,1432,1433,1434,1435,1436,1437,1438,1439,1440,1443,1444,1445,1448,1449,1450,1451,1452,1453,1454,1455,1456,1457,1458,1459,1460,1461,1462,1463,1464,1465,1467,1469,1470,1471,1472,1473,1474,1475,1476,1477,1478,1479,1480,1481,1482,1484,1485,1486,1487,1488,1489,1491,1492,1494,1495,1496,1497,1498,1499,1500,1501,1502,1503,1504,1505,1506,1507,1508,1509,1510,1511,1512,1513,1514,1515,1516,1518,1519,1520,1521,1522,1523,1524,1525,1526,1528,1529,1530,1531,1532,1533,1534,1535,1536,1537,1538,1539,1540,1541,1542,1543,1544,1545,1546,1547,1548,1549,1550,1551,1552,1553,1554,1555,1556,1557,1558,1559,1560,1561,1562,1563,1564,1565,1566,1567,1568,1569,1570,1571,1572,1573,1574,1575,1576,1577,1578,1579,1580,1581,1582,1583,1584,1585,1586,1587,1588,1589,1590,1591,1592,1593,1594,1595,1596,1597,1598,1599,1600,1601,1602,1603,1604,1605,1606,1607,1608,1609,1610,1611,1612,1613,1614,1615,1616,1617,1618,1619,1620,1621,1622,1623,1624,1625,1626,1627,1628,1629,1630,1631,1632,1633,1634,1635,1636,1637,1638,1639,1640,1641,1642,1643,1644,1645,1646,1647,1648,1649,1650,1651,1652,1653,1654,1655,1656,1657,1658,1659,1660,1661,1662,1663,1664,1665,1666,1667,1668,1669,1670,1671,1672,1673,1674,1675,1676,1677,1678,1679,1680,1681,1682,1683,1684,1685,1686,1687,1688,1689,1690,1691,1692,1693,1694,1695,1696,1697,1698,1699,1700,1701,1702,1703,1704,1705,1706,1707,1708,1709,1710,1711,1712,1713,1714,1715,1716,1717,1718,1719,1720,1721,1722,1723,1724,1725,1726,1727,1728,1729,1730,1731,1732,1733,1734,1735,1736,1737,1738,1739,1740,1741,1742,1743,1744,1745,1746,1747,1748,1749,1750,1751,1752,1753,1754,1755,1756,1757,1758,1759,1760,1761,1762,1763,1764,1765,1766,1767,1768,1769,1770,1771,1772,1773,1774,1775,1776,1777,1778,1779,1780,1781,1782,1783,1784,1785,1786,1787,1788,1789,1790,1791,1792,1793,1794,1795,1796,1797,1798,1799,1800,1801,1802,1803,1804,1805,1806,1807,1808,1809,1810,1811,1812,1813,1814,1815,1816,1817,1818,1819,1820,1821,1822,1823,1824,1825,1826,1827,1828,1829,1830,1831,1832,1909,1910,1911,1912,1918,1922,1923,1924,1925,1930,1931,1932,1933,1934,1935,1958,1959,1968,1971,1974,1976,1978,1980,1983,1984,1985,1986,1988,1990,1991,1994,1996,1998,1999,2000,2004,2005,2008,2009,2010,2011,2012,2013,2014,2015,2016,2904,2908,2909,2910,2911,2912,2913,2914,2915,2916,2919,2920,2924,2925,2926,2927,2934,2935,2938,2941,2942,2943,2944,2945,2947,2948,2949,2950,2952,2953,2954,2955,2958,2959,2963,2965,2966,2967,2969,2970,2972,2974,2975,2976,2978,2979,2980,2983,2987,2992,2993,2994,2995,2996,3000,3001,3002,3003,3004,3005,3006,3007,3008,3010,3011,3013,3014,3017,3019,3021,3022,3023,3024,3025,3026,3027,3028,3029,3030,3031,3033,3035,3037,3039,3040,3047,3048,3049,3050,3051,3053,3054,3055,3056,3057,3058,3060,3061,3062,3063,3064,3065,3066,3068,3069,3070,3071,3072,3073,3074,3075,3078,3079,3080,3081,3082,3083,3084,3085,3086,3087,3088,3089,3090,3091,3092,3094,3095,3096,3102,3103,3105,3106,3107,3108,3109,3110,3111,3112,3114,3115,3116,3117,3118,3120,3121,3122,3123,3124,3127,3128,3129,3130,3131,3133,3134,3135,3136,3137,3138,3139,3140,3143,3144,3145,3146,3147,3148,3151,3153,3154,3156,3158,3159,3160,3161,3162,3163,3164,3165,3166,3167,3168,3170,3171,3172,3174,3175,3176,3177,3178,3179,3180,3184,3185,3186,3187,3188,3189,3190,3191,3192,3193,3194,3195,3196,3306,3307,3308,3309,3310,3311,3312,3313,3314,3315,3316,3317,3318,3319,3320,3321,3322,3323,3324,3325,3326,3327,3328,3329,3330,3331,3332,3333,3334,3335,3336,3337,3338,3339,3340,3341,3342,3343,3344,3345,3346,3347,3348,3349,3350,3351,3352,3353,3354,3355,3356,3357,3358,3359,3361,3362,3367,3370,3371,3372,3373,3374,3375,3378,3382,3383,3384,3385,3386,3387,3390,3391,3392,3393,3409,3410,3411,3412,3413,3414,3415,3416,3417,3418,3419,3420,3421,3422,3423,3424,3425,3426,3427,3428,3429,3430,3431,3432,3433,3434,3435,3436,3437,3438,3439,3440,3441,3442,3443,3444,3445,3446,3447,3448,3449,3450,3451,3452,3468,3469,3470,3471,3472,3473,3474,3475,3476,3477,3478,3479,3480,3481,3482,3489,3495,3496,3497,3498,3499,3500,3504,3506,3507,3508,3511,3512,3515,3519,3520,3521,3522,3524,3525,3527,3528,3529,3530,3531,3532,3533,3534,3535,3536,3537,3538,3539,3540,3541,3542,3543,3544,3545,3546,3547,3548,3549,3550,3551,3552,3553,3554,3557,3563,3564,3565,3566,3567,3568,3569,3570,3571,3572,3573,3574,3575,3576,3577,3578,3579,3580,3581,3582,3583,3584,3585,3586,3587,3588,3589,3590,3591,3592,3593,3594,3595,3596,3597,3598,3599,3600,3601,3602,3603,3604,3605,3606,3607,3608,3609,3610,3611,3612,3613,3614,3615,3616,3617,3618,3619,3620,3621,3622,3623,3624,3625,3626,3627,3628,3629,3630,3631,3632,3633,3634,3635,3636,3637,3638,3639,3640,3641,3642,3643,3644,3645,3646,3647,3648,3649,3650,3651,3652,3653,3654,3655,3656,3657,3658,3659,3660,3661,3662,3663,3664,3665,3666,3667,3668,3669,3670,3671,3672,3673,3674,3675,3676,3677,3678,3679,3680,3681,3682,3683,3684,3685,3686,3687,3688,3689,3690,3691,3692,3693,3694,3695,3696,3697,3698,3699,3700,3701,3702,3703,3704,3705,3706,3707,3708,3709,3710,3711,3712,3713,3714,3715,3716,3717,3718,3719,3720,3721,3722,3723,3724,3725,3726,3727,3728,3729,3730,3731,3732,3733,3734,3735,3909,3910,3911,3912,3913,3914,3915,3916,3917,3918,3919,3920,3921,3922,3923,3924,3925,3926,3927,3928,3929,3930,3931,3932,3933,3934,3935,3936,3937,3938,3939,3940,3941,3942,3943,3944,3945,3946,3947,3948,3949,3950,3951,3952,3953,3954,3955,3956,3957,3958,3959,3960,3961,3962,3963,3964,3965,3966,3967,3968,3969,3970,3971,3972,3973,3974,3975,3976,3977,3978,3979,3980,3981,3982,3983,3984,3985,3986,3987,3988,3989,3990,3991,3992,3993,3994,3995,3996,3997,3998,3999,4000,4001,4002,4003,4004,4005,4006,4007,4008,4009,4010,4011,4012,4013,4014,4015,4016,4017,4018,4019,4020,4021,4022,4023,4024,4025,4026,4027,4028,4029,4030,4031,4032,4033,4034,4035,4036,4037,4038,4039,4040,4041,4042,4043,4044,4045,4046,4047,4048,4049,4050,4051,4052,4053,4054,4055,4056,4057,4058,4059,4060,4061,4062,4063,4064,4065,4066,4067,4068,4069,4070,4071,4072,4073,4074,4075,4076,4077,4078,4079,4080,4081,4084,4085,4086,4087,4088,4093,4094,4116,4120,4122,4123,4128,4129,4136,4138,4142,4147,4149,4151,4153,4154,4156,4158,4160,4161,4164,4169,4186,4187,4207,4208,4218,4221,4222,4229,4230,4231,4232,4233,4235,4236,4239,4243,4244,4245,4246,4247,4248,4249,4259,4261,4262,4263,4264,4282,4288,4307,4308,4309,4313,4314,4315,4317,4318,4319,4320,4321,4322,4324,4328,4329,4333,4337,4339,4342,4344,4345,4346,4347,4348,4351,4352,4353,4360,4363,4365,4371,4377,4378,4380,4381,4383,4384,4386,4387,4390,4391,4412,4413,4414,4416,4420,4435,4459,4461,4467,4468,4469,4470,4472,4473,4474,4475,4476,4477,4478,4479,4480,4481,4482,4483,4484,4485,4487,4488,4489,4490,4491,4492,4493,4494,4495,4496,4497,4498,4499,4500,4501,4503,4504,4505,4506,4507,4508,4509,4510,4511,4512,4513,4514,4515,4516,4517,4518,4519,4520,4521,4522,4523,4524,4525,4526,4527,4528,4529,4530,4531,4532,4533,4534,4535,4536,4537,4538,4539,4540,4541,4542,4543,4544,4545,4546,4547,4548,4549,4550,4551,4552,4553,4554,4555,4557,4558,4559,4560,4561,4562,4563,4564,4565,4566,4567,4568,4569,4570,4571,4572,4573,4574,4575,4576,4577,4578,4579,4580,4583,4584,4585,5062,5063,5064,5065,5067,5068,5069,5070,5071,5072,5073,5074,5075,5076,5077,5078,5079,5080,5082,5083,5084,5085,5086,5087,5088,5089,5090,5091,5092,5093,5094,5095,5096,5097,5098,5099,5100,5101,5102,5103,5104,5105,5106,5107,5108,5109,5110,5111,5112,5113,5114,5115,5116,5117,5118,5119,5120,5121,5122,5123,5124,5125,5126,5127,5128,5129,5130,5131,5132,5133,5134,5135,5136,5137,5138,5139,5140,5142,5143,5144,5145,5146,5147,5148,5149,5150,5151,5152,5153,5154,5155,5156,5157,5158,5159,5160,5161,5162,5163,5164,5165,5166,5167,5168,5169,5170,5171,5172,5173,5174,5175,5176,5177,5178,5179,5180,5245,5246,5247,5250,5251,5254,5255,5281,5284,5285,5286,5287,5288,5289,5298,5303,5307,5308,5310,5313,5314,5315,5338,5340,5342,5343,5344,5345,5350,5352,5353,5354,5355,5356,5357,5358,5359,5360,5361,5362,5365,5558,5559,5560,5561,5562,5563,5564,5565,5566,5567,5568,5569,5570,5571,5572,5573,5575,5576,5577,5578,5579,5580,5581,5582,5583,5584,5585,5586,5587,5589,5590,5591,5593,5594,5595,5596,5597,5598,5599,5600,5601,5602,5603,5604,5605,5606,5607,5608,5610,5611,5612,5613,5614,5615,5616,5617,5618,5619,5620,5621,5622,5624,5625,5626,5629,5630,5631,5632,5704,5705,5706,5707,5708,5709,5710,5711,5712,5713,5714,5715,5716,5717,5718,5719,5720,5721,5722,5723,5724,5725,5726,5727,5728,5729,5730,5731,5732,5733,5734,5735,5736,5737,5739,5740,5741,5744,5745,5747,5749,5750,5751,5752,5754,5755,5756,5757,5759,5765,5766,5768,5775,5776,5777,5778,5779,5780,5781,5782,5783,5785,5786,5787,5788,5790,5791,5792,5793,5794,5795,5796,5797,5798,5799,5800,5801,5802,5803,5805,5806,5807,5808,5809,5810,5811,5812,5813,5814,5815,5816,5817,5818,5819,5821,5822,5823,5824,5825,5826,5827,5828,5829,5830,5831,5832,5833,5834,5835,5836,5837,5838,5839,5840,5841,5842,5843,5844,5845,5846,5847,5848,5849,5850,5851,5852,5853,5854,5855,5856,5857,5858,5859,5860,5861,5862,5863,5864,5865,5866,5867,5868,5869,5870,5871,5872,5873,5875,5876,5877,5878,5879,5880,5881,5882,5883,5884,5885,5886,5887,5888,5889,5890,5891,5892,5893,5894,5895,5896,5897,5898,5901,5902,5903,5904,5907,5908,5910,5911,5912,5913,5914,5915,5916,5917,5918,5919,5920,5921,5922,5923,5924,5925,5927,5928,5929,5930,5931,5932,5933,5934,5935,5936,5937,5938,5939,5941,5942,5943,5946,5947,5948,5949,5950,5951,5952,5953,6670,6671,6672,6673,6675,6676,6677,6678,6679,6680,6681,6682,6683,6684,6685,6686,6687,6688,6690,6691,6692,6693,6694,6695,6696,6697,6698,6699,6700,6701,6702,6703,6704,6705,6706,6707,6708,6709,6710,6711,6712,6713,6714,6715,6716,6717,6718,6719,6720,6721,6722,6723,6724,6725,6726,6727,6728,6729,6730,6731,6732,6733,6734,6735,6736,6737,6738,6739,6740,6741,6742,6743,6744,6745,6746,6747,6748,6750,6751,6752,6753,6754,6755,6756,6757,6758,6759,6760,6761,6762,6763,6764,6765,6766,6767,6768,6769,6770,6771,6772,6773,6774,6775,6776,6777,6778,6779,6780,6781,6782,6783,6784,6785,6786,6787,6788,6792,6793,6795,6796,6797,6798,6799,6800,6801,6802,6803,6804,6805,6806,6807,6808,6809,6810,6811,6812,6813,6814,6815,6816,6817,6818,6819,6820,6821,6822,6823,6824,6825,6826,6827,6828,6832,6833,6834,6835,6836,6837,6838) have mixed types.Specify dtype option on import or set low_memory=False.\n",
      "  exec(code_obj, self.user_global_ns, self.user_ns)\n"
     ]
    }
   ],
   "source": [
    "data = pd.read_csv('生活者総合調査2019.csv', encoding = \"shift-jis\")"
   ]
  },
  {
   "cell_type": "code",
   "execution_count": 4,
   "id": "86d42db2",
   "metadata": {},
   "outputs": [
    {
     "data": {
      "text/html": [
       "<div>\n",
       "<style scoped>\n",
       "    .dataframe tbody tr th:only-of-type {\n",
       "        vertical-align: middle;\n",
       "    }\n",
       "\n",
       "    .dataframe tbody tr th {\n",
       "        vertical-align: top;\n",
       "    }\n",
       "\n",
       "    .dataframe thead th {\n",
       "        text-align: right;\n",
       "    }\n",
       "</style>\n",
       "<table border=\"1\" class=\"dataframe\">\n",
       "  <thead>\n",
       "    <tr style=\"text-align: right;\">\n",
       "      <th></th>\n",
       "      <th>KEY</th>\n",
       "      <th>SKEY</th>\n",
       "      <th>DUMMY00</th>\n",
       "      <th>AAF1</th>\n",
       "      <th>AAF2</th>\n",
       "      <th>AAF3</th>\n",
       "      <th>AAF3_1</th>\n",
       "      <th>AAF4</th>\n",
       "      <th>AAF5</th>\n",
       "      <th>AAAA</th>\n",
       "      <th>...</th>\n",
       "      <th>CL2</th>\n",
       "      <th>CL3</th>\n",
       "      <th>CL4</th>\n",
       "      <th>CL5</th>\n",
       "      <th>CL6</th>\n",
       "      <th>CL7</th>\n",
       "      <th>CL8</th>\n",
       "      <th>CL9</th>\n",
       "      <th>CL10</th>\n",
       "      <th>CL11</th>\n",
       "    </tr>\n",
       "  </thead>\n",
       "  <tbody>\n",
       "    <tr>\n",
       "      <th>0</th>\n",
       "      <td>100000001</td>\n",
       "      <td>197100000129</td>\n",
       "      <td>NaN</td>\n",
       "      <td>2</td>\n",
       "      <td>46</td>\n",
       "      <td>13</td>\n",
       "      <td>1</td>\n",
       "      <td>1</td>\n",
       "      <td>1</td>\n",
       "      <td>12</td>\n",
       "      <td>...</td>\n",
       "      <td>8.0</td>\n",
       "      <td>NaN</td>\n",
       "      <td>7.0</td>\n",
       "      <td>4.0</td>\n",
       "      <td>3.0</td>\n",
       "      <td>NaN</td>\n",
       "      <td>5.0</td>\n",
       "      <td>7.0</td>\n",
       "      <td>NaN</td>\n",
       "      <td>NaN</td>\n",
       "    </tr>\n",
       "    <tr>\n",
       "      <th>1</th>\n",
       "      <td>100000002</td>\n",
       "      <td>197100000024</td>\n",
       "      <td>NaN</td>\n",
       "      <td>1</td>\n",
       "      <td>43</td>\n",
       "      <td>13</td>\n",
       "      <td>1</td>\n",
       "      <td>2</td>\n",
       "      <td>3</td>\n",
       "      <td>1</td>\n",
       "      <td>...</td>\n",
       "      <td>NaN</td>\n",
       "      <td>6.0</td>\n",
       "      <td>NaN</td>\n",
       "      <td>6.0</td>\n",
       "      <td>6.0</td>\n",
       "      <td>1.0</td>\n",
       "      <td>NaN</td>\n",
       "      <td>NaN</td>\n",
       "      <td>2.0</td>\n",
       "      <td>NaN</td>\n",
       "    </tr>\n",
       "    <tr>\n",
       "      <th>2</th>\n",
       "      <td>100000003</td>\n",
       "      <td>197100000185</td>\n",
       "      <td>NaN</td>\n",
       "      <td>1</td>\n",
       "      <td>33</td>\n",
       "      <td>27</td>\n",
       "      <td>2</td>\n",
       "      <td>1</td>\n",
       "      <td>1,2,3</td>\n",
       "      <td>1</td>\n",
       "      <td>...</td>\n",
       "      <td>NaN</td>\n",
       "      <td>1.0</td>\n",
       "      <td>NaN</td>\n",
       "      <td>1.0</td>\n",
       "      <td>1.0</td>\n",
       "      <td>1.0</td>\n",
       "      <td>NaN</td>\n",
       "      <td>NaN</td>\n",
       "      <td>1.0</td>\n",
       "      <td>NaN</td>\n",
       "    </tr>\n",
       "    <tr>\n",
       "      <th>3</th>\n",
       "      <td>100000004</td>\n",
       "      <td>197100000135</td>\n",
       "      <td>NaN</td>\n",
       "      <td>1</td>\n",
       "      <td>28</td>\n",
       "      <td>27</td>\n",
       "      <td>2</td>\n",
       "      <td>2</td>\n",
       "      <td>1,3</td>\n",
       "      <td>14</td>\n",
       "      <td>...</td>\n",
       "      <td>NaN</td>\n",
       "      <td>3.0</td>\n",
       "      <td>NaN</td>\n",
       "      <td>3.0</td>\n",
       "      <td>3.0</td>\n",
       "      <td>1.0</td>\n",
       "      <td>NaN</td>\n",
       "      <td>NaN</td>\n",
       "      <td>2.0</td>\n",
       "      <td>1.0</td>\n",
       "    </tr>\n",
       "    <tr>\n",
       "      <th>4</th>\n",
       "      <td>100000005</td>\n",
       "      <td>197100000096</td>\n",
       "      <td>NaN</td>\n",
       "      <td>1</td>\n",
       "      <td>40</td>\n",
       "      <td>13</td>\n",
       "      <td>1</td>\n",
       "      <td>1</td>\n",
       "      <td>1,2</td>\n",
       "      <td>5</td>\n",
       "      <td>...</td>\n",
       "      <td>NaN</td>\n",
       "      <td>2.0</td>\n",
       "      <td>NaN</td>\n",
       "      <td>7.0</td>\n",
       "      <td>7.0</td>\n",
       "      <td>6.0</td>\n",
       "      <td>NaN</td>\n",
       "      <td>NaN</td>\n",
       "      <td>7.0</td>\n",
       "      <td>NaN</td>\n",
       "    </tr>\n",
       "    <tr>\n",
       "      <th>...</th>\n",
       "      <td>...</td>\n",
       "      <td>...</td>\n",
       "      <td>...</td>\n",
       "      <td>...</td>\n",
       "      <td>...</td>\n",
       "      <td>...</td>\n",
       "      <td>...</td>\n",
       "      <td>...</td>\n",
       "      <td>...</td>\n",
       "      <td>...</td>\n",
       "      <td>...</td>\n",
       "      <td>...</td>\n",
       "      <td>...</td>\n",
       "      <td>...</td>\n",
       "      <td>...</td>\n",
       "      <td>...</td>\n",
       "      <td>...</td>\n",
       "      <td>...</td>\n",
       "      <td>...</td>\n",
       "      <td>...</td>\n",
       "      <td>...</td>\n",
       "    </tr>\n",
       "    <tr>\n",
       "      <th>13851</th>\n",
       "      <td>100015008</td>\n",
       "      <td>197100015201</td>\n",
       "      <td>NaN</td>\n",
       "      <td>2</td>\n",
       "      <td>63</td>\n",
       "      <td>28</td>\n",
       "      <td>2</td>\n",
       "      <td>1</td>\n",
       "      <td>2</td>\n",
       "      <td>12</td>\n",
       "      <td>...</td>\n",
       "      <td>NaN</td>\n",
       "      <td>NaN</td>\n",
       "      <td>NaN</td>\n",
       "      <td>NaN</td>\n",
       "      <td>NaN</td>\n",
       "      <td>NaN</td>\n",
       "      <td>8.0</td>\n",
       "      <td>5.0</td>\n",
       "      <td>NaN</td>\n",
       "      <td>NaN</td>\n",
       "    </tr>\n",
       "    <tr>\n",
       "      <th>13852</th>\n",
       "      <td>100015009</td>\n",
       "      <td>197100021895</td>\n",
       "      <td>NaN</td>\n",
       "      <td>2</td>\n",
       "      <td>34</td>\n",
       "      <td>29</td>\n",
       "      <td>2</td>\n",
       "      <td>1</td>\n",
       "      <td>2</td>\n",
       "      <td>1</td>\n",
       "      <td>...</td>\n",
       "      <td>7.0</td>\n",
       "      <td>NaN</td>\n",
       "      <td>3.0</td>\n",
       "      <td>5.0</td>\n",
       "      <td>3.0</td>\n",
       "      <td>NaN</td>\n",
       "      <td>4.0</td>\n",
       "      <td>6.0</td>\n",
       "      <td>NaN</td>\n",
       "      <td>NaN</td>\n",
       "    </tr>\n",
       "    <tr>\n",
       "      <th>13853</th>\n",
       "      <td>100015010</td>\n",
       "      <td>197100018965</td>\n",
       "      <td>NaN</td>\n",
       "      <td>1</td>\n",
       "      <td>38</td>\n",
       "      <td>12</td>\n",
       "      <td>1</td>\n",
       "      <td>3</td>\n",
       "      <td>NaN</td>\n",
       "      <td>1</td>\n",
       "      <td>...</td>\n",
       "      <td>NaN</td>\n",
       "      <td>2.0</td>\n",
       "      <td>NaN</td>\n",
       "      <td>5.0</td>\n",
       "      <td>3.0</td>\n",
       "      <td>2.0</td>\n",
       "      <td>NaN</td>\n",
       "      <td>NaN</td>\n",
       "      <td>3.0</td>\n",
       "      <td>NaN</td>\n",
       "    </tr>\n",
       "    <tr>\n",
       "      <th>13854</th>\n",
       "      <td>100015011</td>\n",
       "      <td>197100002878</td>\n",
       "      <td>NaN</td>\n",
       "      <td>1</td>\n",
       "      <td>25</td>\n",
       "      <td>26</td>\n",
       "      <td>2</td>\n",
       "      <td>1</td>\n",
       "      <td>1,2,3</td>\n",
       "      <td>11</td>\n",
       "      <td>...</td>\n",
       "      <td>NaN</td>\n",
       "      <td>4.0</td>\n",
       "      <td>NaN</td>\n",
       "      <td>5.0</td>\n",
       "      <td>2.0</td>\n",
       "      <td>2.0</td>\n",
       "      <td>NaN</td>\n",
       "      <td>NaN</td>\n",
       "      <td>3.0</td>\n",
       "      <td>6.0</td>\n",
       "    </tr>\n",
       "    <tr>\n",
       "      <th>13855</th>\n",
       "      <td>100015012</td>\n",
       "      <td>197100021888</td>\n",
       "      <td>NaN</td>\n",
       "      <td>2</td>\n",
       "      <td>31</td>\n",
       "      <td>14</td>\n",
       "      <td>1</td>\n",
       "      <td>1</td>\n",
       "      <td>2</td>\n",
       "      <td>3</td>\n",
       "      <td>...</td>\n",
       "      <td>2.0</td>\n",
       "      <td>NaN</td>\n",
       "      <td>4.0</td>\n",
       "      <td>5.0</td>\n",
       "      <td>3.0</td>\n",
       "      <td>NaN</td>\n",
       "      <td>6.0</td>\n",
       "      <td>4.0</td>\n",
       "      <td>NaN</td>\n",
       "      <td>NaN</td>\n",
       "    </tr>\n",
       "  </tbody>\n",
       "</table>\n",
       "<p>13856 rows × 6861 columns</p>\n",
       "</div>"
      ],
      "text/plain": [
       "             KEY          SKEY  DUMMY00  AAF1  AAF2  AAF3  AAF3_1  AAF4  \\\n",
       "0      100000001  197100000129      NaN     2    46    13       1     1   \n",
       "1      100000002  197100000024      NaN     1    43    13       1     2   \n",
       "2      100000003  197100000185      NaN     1    33    27       2     1   \n",
       "3      100000004  197100000135      NaN     1    28    27       2     2   \n",
       "4      100000005  197100000096      NaN     1    40    13       1     1   \n",
       "...          ...           ...      ...   ...   ...   ...     ...   ...   \n",
       "13851  100015008  197100015201      NaN     2    63    28       2     1   \n",
       "13852  100015009  197100021895      NaN     2    34    29       2     1   \n",
       "13853  100015010  197100018965      NaN     1    38    12       1     3   \n",
       "13854  100015011  197100002878      NaN     1    25    26       2     1   \n",
       "13855  100015012  197100021888      NaN     2    31    14       1     1   \n",
       "\n",
       "        AAF5  AAAA  ...  CL2  CL3  CL4  CL5  CL6  CL7  CL8  CL9  CL10  CL11  \n",
       "0          1    12  ...  8.0  NaN  7.0  4.0  3.0  NaN  5.0  7.0   NaN   NaN  \n",
       "1          3     1  ...  NaN  6.0  NaN  6.0  6.0  1.0  NaN  NaN   2.0   NaN  \n",
       "2      1,2,3     1  ...  NaN  1.0  NaN  1.0  1.0  1.0  NaN  NaN   1.0   NaN  \n",
       "3        1,3    14  ...  NaN  3.0  NaN  3.0  3.0  1.0  NaN  NaN   2.0   1.0  \n",
       "4        1,2     5  ...  NaN  2.0  NaN  7.0  7.0  6.0  NaN  NaN   7.0   NaN  \n",
       "...      ...   ...  ...  ...  ...  ...  ...  ...  ...  ...  ...   ...   ...  \n",
       "13851      2    12  ...  NaN  NaN  NaN  NaN  NaN  NaN  8.0  5.0   NaN   NaN  \n",
       "13852      2     1  ...  7.0  NaN  3.0  5.0  3.0  NaN  4.0  6.0   NaN   NaN  \n",
       "13853    NaN     1  ...  NaN  2.0  NaN  5.0  3.0  2.0  NaN  NaN   3.0   NaN  \n",
       "13854  1,2,3    11  ...  NaN  4.0  NaN  5.0  2.0  2.0  NaN  NaN   3.0   6.0  \n",
       "13855      2     3  ...  2.0  NaN  4.0  5.0  3.0  NaN  6.0  4.0   NaN   NaN  \n",
       "\n",
       "[13856 rows x 6861 columns]"
      ]
     },
     "execution_count": 4,
     "metadata": {},
     "output_type": "execute_result"
    }
   ],
   "source": [
    "data"
   ]
  },
  {
   "cell_type": "code",
   "execution_count": 5,
   "id": "7c66e578",
   "metadata": {},
   "outputs": [],
   "source": [
    "def visualize_data(df, label_tuple, column, width=18):\n",
    "    items = [len(df[df[column]==float(i[0])]) for i in label_tuple]\n",
    "    items_name = [i[1] for i in label_tuple]\n",
    "\n",
    "    plt.figure(figsize=(width, 4))\n",
    "    plt.bar(items_name, items, 0.35)"
   ]
  },
  {
   "cell_type": "code",
   "execution_count": 6,
   "id": "abc97b5d",
   "metadata": {},
   "outputs": [],
   "source": [
    "tihou_tuple = (\n",
    "(1, '関東'),\n",
    "    (2, '関西'), \n",
    "    (3, '不明')\n",
    ")"
   ]
  },
  {
   "cell_type": "code",
   "execution_count": 7,
   "id": "28f83bf7",
   "metadata": {},
   "outputs": [
    {
     "data": {
      "image/png": "[encoded data removed]",
      "text/plain": [
       "<Figure size 648x288 with 1 Axes>"
      ]
     },
     "metadata": {
      "needs_background": "light"
     },
     "output_type": "display_data"
    }
   ],
   "source": [
    "visualize_data(data, tihou_tuple, 'AAF3_1', 9)"
   ]
  },
  {
   "cell_type": "code",
   "execution_count": 8,
   "id": "8f36fed6",
   "metadata": {},
   "outputs": [],
   "source": [
    "data_kantou = data[data['AAF3_1']==1]"
   ]
  },
  {
   "cell_type": "code",
   "execution_count": 9,
   "id": "1e653eeb",
   "metadata": {},
   "outputs": [
    {
     "data": {
      "text/html": [
       "<div>\n",
       "<style scoped>\n",
       "    .dataframe tbody tr th:only-of-type {\n",
       "        vertical-align: middle;\n",
       "    }\n",
       "\n",
       "    .dataframe tbody tr th {\n",
       "        vertical-align: top;\n",
       "    }\n",
       "\n",
       "    .dataframe thead th {\n",
       "        text-align: right;\n",
       "    }\n",
       "</style>\n",
       "<table border=\"1\" class=\"dataframe\">\n",
       "  <thead>\n",
       "    <tr style=\"text-align: right;\">\n",
       "      <th></th>\n",
       "      <th>KEY</th>\n",
       "      <th>SKEY</th>\n",
       "      <th>DUMMY00</th>\n",
       "      <th>AAF1</th>\n",
       "      <th>AAF2</th>\n",
       "      <th>AAF3</th>\n",
       "      <th>AAF3_1</th>\n",
       "      <th>AAF4</th>\n",
       "      <th>AAF5</th>\n",
       "      <th>AAAA</th>\n",
       "      <th>...</th>\n",
       "      <th>CL2</th>\n",
       "      <th>CL3</th>\n",
       "      <th>CL4</th>\n",
       "      <th>CL5</th>\n",
       "      <th>CL6</th>\n",
       "      <th>CL7</th>\n",
       "      <th>CL8</th>\n",
       "      <th>CL9</th>\n",
       "      <th>CL10</th>\n",
       "      <th>CL11</th>\n",
       "    </tr>\n",
       "  </thead>\n",
       "  <tbody>\n",
       "    <tr>\n",
       "      <th>0</th>\n",
       "      <td>100000001</td>\n",
       "      <td>197100000129</td>\n",
       "      <td>NaN</td>\n",
       "      <td>2</td>\n",
       "      <td>46</td>\n",
       "      <td>13</td>\n",
       "      <td>1</td>\n",
       "      <td>1</td>\n",
       "      <td>1</td>\n",
       "      <td>12</td>\n",
       "      <td>...</td>\n",
       "      <td>8.0</td>\n",
       "      <td>NaN</td>\n",
       "      <td>7.0</td>\n",
       "      <td>4.0</td>\n",
       "      <td>3.0</td>\n",
       "      <td>NaN</td>\n",
       "      <td>5.0</td>\n",
       "      <td>7.0</td>\n",
       "      <td>NaN</td>\n",
       "      <td>NaN</td>\n",
       "    </tr>\n",
       "    <tr>\n",
       "      <th>1</th>\n",
       "      <td>100000002</td>\n",
       "      <td>197100000024</td>\n",
       "      <td>NaN</td>\n",
       "      <td>1</td>\n",
       "      <td>43</td>\n",
       "      <td>13</td>\n",
       "      <td>1</td>\n",
       "      <td>2</td>\n",
       "      <td>3</td>\n",
       "      <td>1</td>\n",
       "      <td>...</td>\n",
       "      <td>NaN</td>\n",
       "      <td>6.0</td>\n",
       "      <td>NaN</td>\n",
       "      <td>6.0</td>\n",
       "      <td>6.0</td>\n",
       "      <td>1.0</td>\n",
       "      <td>NaN</td>\n",
       "      <td>NaN</td>\n",
       "      <td>2.0</td>\n",
       "      <td>NaN</td>\n",
       "    </tr>\n",
       "    <tr>\n",
       "      <th>4</th>\n",
       "      <td>100000005</td>\n",
       "      <td>197100000096</td>\n",
       "      <td>NaN</td>\n",
       "      <td>1</td>\n",
       "      <td>40</td>\n",
       "      <td>13</td>\n",
       "      <td>1</td>\n",
       "      <td>1</td>\n",
       "      <td>1,2</td>\n",
       "      <td>5</td>\n",
       "      <td>...</td>\n",
       "      <td>NaN</td>\n",
       "      <td>2.0</td>\n",
       "      <td>NaN</td>\n",
       "      <td>7.0</td>\n",
       "      <td>7.0</td>\n",
       "      <td>6.0</td>\n",
       "      <td>NaN</td>\n",
       "      <td>NaN</td>\n",
       "      <td>7.0</td>\n",
       "      <td>NaN</td>\n",
       "    </tr>\n",
       "    <tr>\n",
       "      <th>6</th>\n",
       "      <td>100000007</td>\n",
       "      <td>197100000110</td>\n",
       "      <td>NaN</td>\n",
       "      <td>1</td>\n",
       "      <td>43</td>\n",
       "      <td>12</td>\n",
       "      <td>1</td>\n",
       "      <td>2</td>\n",
       "      <td>1</td>\n",
       "      <td>1</td>\n",
       "      <td>...</td>\n",
       "      <td>NaN</td>\n",
       "      <td>3.0</td>\n",
       "      <td>NaN</td>\n",
       "      <td>1.0</td>\n",
       "      <td>6.0</td>\n",
       "      <td>6.0</td>\n",
       "      <td>NaN</td>\n",
       "      <td>NaN</td>\n",
       "      <td>6.0</td>\n",
       "      <td>NaN</td>\n",
       "    </tr>\n",
       "    <tr>\n",
       "      <th>7</th>\n",
       "      <td>100000008</td>\n",
       "      <td>197100000048</td>\n",
       "      <td>NaN</td>\n",
       "      <td>2</td>\n",
       "      <td>38</td>\n",
       "      <td>13</td>\n",
       "      <td>1</td>\n",
       "      <td>1</td>\n",
       "      <td>1</td>\n",
       "      <td>1</td>\n",
       "      <td>...</td>\n",
       "      <td>3.0</td>\n",
       "      <td>NaN</td>\n",
       "      <td>2.0</td>\n",
       "      <td>1.0</td>\n",
       "      <td>3.0</td>\n",
       "      <td>NaN</td>\n",
       "      <td>1.0</td>\n",
       "      <td>2.0</td>\n",
       "      <td>NaN</td>\n",
       "      <td>NaN</td>\n",
       "    </tr>\n",
       "    <tr>\n",
       "      <th>...</th>\n",
       "      <td>...</td>\n",
       "      <td>...</td>\n",
       "      <td>...</td>\n",
       "      <td>...</td>\n",
       "      <td>...</td>\n",
       "      <td>...</td>\n",
       "      <td>...</td>\n",
       "      <td>...</td>\n",
       "      <td>...</td>\n",
       "      <td>...</td>\n",
       "      <td>...</td>\n",
       "      <td>...</td>\n",
       "      <td>...</td>\n",
       "      <td>...</td>\n",
       "      <td>...</td>\n",
       "      <td>...</td>\n",
       "      <td>...</td>\n",
       "      <td>...</td>\n",
       "      <td>...</td>\n",
       "      <td>...</td>\n",
       "      <td>...</td>\n",
       "    </tr>\n",
       "    <tr>\n",
       "      <th>13847</th>\n",
       "      <td>100015004</td>\n",
       "      <td>197100007166</td>\n",
       "      <td>NaN</td>\n",
       "      <td>2</td>\n",
       "      <td>47</td>\n",
       "      <td>13</td>\n",
       "      <td>1</td>\n",
       "      <td>2</td>\n",
       "      <td>1,2,3</td>\n",
       "      <td>1</td>\n",
       "      <td>...</td>\n",
       "      <td>6.0</td>\n",
       "      <td>NaN</td>\n",
       "      <td>3.0</td>\n",
       "      <td>6.0</td>\n",
       "      <td>4.0</td>\n",
       "      <td>NaN</td>\n",
       "      <td>5.0</td>\n",
       "      <td>6.0</td>\n",
       "      <td>NaN</td>\n",
       "      <td>NaN</td>\n",
       "    </tr>\n",
       "    <tr>\n",
       "      <th>13848</th>\n",
       "      <td>100015005</td>\n",
       "      <td>197100020230</td>\n",
       "      <td>NaN</td>\n",
       "      <td>1</td>\n",
       "      <td>49</td>\n",
       "      <td>13</td>\n",
       "      <td>1</td>\n",
       "      <td>4</td>\n",
       "      <td>NaN</td>\n",
       "      <td>3</td>\n",
       "      <td>...</td>\n",
       "      <td>NaN</td>\n",
       "      <td>2.0</td>\n",
       "      <td>NaN</td>\n",
       "      <td>3.0</td>\n",
       "      <td>5.0</td>\n",
       "      <td>2.0</td>\n",
       "      <td>NaN</td>\n",
       "      <td>NaN</td>\n",
       "      <td>4.0</td>\n",
       "      <td>NaN</td>\n",
       "    </tr>\n",
       "    <tr>\n",
       "      <th>13850</th>\n",
       "      <td>100015007</td>\n",
       "      <td>197100015299</td>\n",
       "      <td>NaN</td>\n",
       "      <td>1</td>\n",
       "      <td>39</td>\n",
       "      <td>12</td>\n",
       "      <td>1</td>\n",
       "      <td>1</td>\n",
       "      <td>2</td>\n",
       "      <td>4</td>\n",
       "      <td>...</td>\n",
       "      <td>NaN</td>\n",
       "      <td>3.0</td>\n",
       "      <td>NaN</td>\n",
       "      <td>5.0</td>\n",
       "      <td>4.0</td>\n",
       "      <td>7.0</td>\n",
       "      <td>NaN</td>\n",
       "      <td>NaN</td>\n",
       "      <td>7.0</td>\n",
       "      <td>NaN</td>\n",
       "    </tr>\n",
       "    <tr>\n",
       "      <th>13853</th>\n",
       "      <td>100015010</td>\n",
       "      <td>197100018965</td>\n",
       "      <td>NaN</td>\n",
       "      <td>1</td>\n",
       "      <td>38</td>\n",
       "      <td>12</td>\n",
       "      <td>1</td>\n",
       "      <td>3</td>\n",
       "      <td>NaN</td>\n",
       "      <td>1</td>\n",
       "      <td>...</td>\n",
       "      <td>NaN</td>\n",
       "      <td>2.0</td>\n",
       "      <td>NaN</td>\n",
       "      <td>5.0</td>\n",
       "      <td>3.0</td>\n",
       "      <td>2.0</td>\n",
       "      <td>NaN</td>\n",
       "      <td>NaN</td>\n",
       "      <td>3.0</td>\n",
       "      <td>NaN</td>\n",
       "    </tr>\n",
       "    <tr>\n",
       "      <th>13855</th>\n",
       "      <td>100015012</td>\n",
       "      <td>197100021888</td>\n",
       "      <td>NaN</td>\n",
       "      <td>2</td>\n",
       "      <td>31</td>\n",
       "      <td>14</td>\n",
       "      <td>1</td>\n",
       "      <td>1</td>\n",
       "      <td>2</td>\n",
       "      <td>3</td>\n",
       "      <td>...</td>\n",
       "      <td>2.0</td>\n",
       "      <td>NaN</td>\n",
       "      <td>4.0</td>\n",
       "      <td>5.0</td>\n",
       "      <td>3.0</td>\n",
       "      <td>NaN</td>\n",
       "      <td>6.0</td>\n",
       "      <td>4.0</td>\n",
       "      <td>NaN</td>\n",
       "      <td>NaN</td>\n",
       "    </tr>\n",
       "  </tbody>\n",
       "</table>\n",
       "<p>10573 rows × 6861 columns</p>\n",
       "</div>"
      ],
      "text/plain": [
       "             KEY          SKEY  DUMMY00  AAF1  AAF2  AAF3  AAF3_1  AAF4  \\\n",
       "0      100000001  197100000129      NaN     2    46    13       1     1   \n",
       "1      100000002  197100000024      NaN     1    43    13       1     2   \n",
       "4      100000005  197100000096      NaN     1    40    13       1     1   \n",
       "6      100000007  197100000110      NaN     1    43    12       1     2   \n",
       "7      100000008  197100000048      NaN     2    38    13       1     1   \n",
       "...          ...           ...      ...   ...   ...   ...     ...   ...   \n",
       "13847  100015004  197100007166      NaN     2    47    13       1     2   \n",
       "13848  100015005  197100020230      NaN     1    49    13       1     4   \n",
       "13850  100015007  197100015299      NaN     1    39    12       1     1   \n",
       "13853  100015010  197100018965      NaN     1    38    12       1     3   \n",
       "13855  100015012  197100021888      NaN     2    31    14       1     1   \n",
       "\n",
       "        AAF5  AAAA  ...  CL2  CL3  CL4  CL5  CL6  CL7  CL8  CL9  CL10  CL11  \n",
       "0          1    12  ...  8.0  NaN  7.0  4.0  3.0  NaN  5.0  7.0   NaN   NaN  \n",
       "1          3     1  ...  NaN  6.0  NaN  6.0  6.0  1.0  NaN  NaN   2.0   NaN  \n",
       "4        1,2     5  ...  NaN  2.0  NaN  7.0  7.0  6.0  NaN  NaN   7.0   NaN  \n",
       "6          1     1  ...  NaN  3.0  NaN  1.0  6.0  6.0  NaN  NaN   6.0   NaN  \n",
       "7          1     1  ...  3.0  NaN  2.0  1.0  3.0  NaN  1.0  2.0   NaN   NaN  \n",
       "...      ...   ...  ...  ...  ...  ...  ...  ...  ...  ...  ...   ...   ...  \n",
       "13847  1,2,3     1  ...  6.0  NaN  3.0  6.0  4.0  NaN  5.0  6.0   NaN   NaN  \n",
       "13848    NaN     3  ...  NaN  2.0  NaN  3.0  5.0  2.0  NaN  NaN   4.0   NaN  \n",
       "13850      2     4  ...  NaN  3.0  NaN  5.0  4.0  7.0  NaN  NaN   7.0   NaN  \n",
       "13853    NaN     1  ...  NaN  2.0  NaN  5.0  3.0  2.0  NaN  NaN   3.0   NaN  \n",
       "13855      2     3  ...  2.0  NaN  4.0  5.0  3.0  NaN  6.0  4.0   NaN   NaN  \n",
       "\n",
       "[10573 rows x 6861 columns]"
      ]
     },
     "execution_count": 9,
     "metadata": {},
     "output_type": "execute_result"
    }
   ],
   "source": [
    "data_kantou"
   ]
  },
  {
   "cell_type": "code",
   "execution_count": 10,
   "id": "b416599a",
   "metadata": {},
   "outputs": [],
   "source": [
    "area_tuple = ((1, '千代田区'),\n",
    "(2, '中央区'),\n",
    "(3, '港区'),\n",
    "(4, '新宿区'),\n",
    "(5, '文京区'),\n",
    "(6, '台東区'),\n",
    "(7, '墨田区'),\n",
    "(8, '江東区'),\n",
    "(9, '品川区'),\n",
    "(10, '目黒区'),\n",
    "(11, '大田区'),\n",
    "(12, '世田谷区'),\n",
    "(13, '渋谷区'),\n",
    "(14, '中野区'),\n",
    "(15, '杉並区'),\n",
    "(16, '豊島区'),\n",
    "(17, '北区'),\n",
    "(18, '荒川区'),\n",
    "(19, '板橋区'),\n",
    "(20, '練馬区'),\n",
    "(21, '足立区'),\n",
    "(22, '葛飾区'),\n",
    "(23, '江戸川区'),\n",
    "(24, 'その他の東京'),\n",
    "(25, '横浜市'),\n",
    "(26, '川崎市'),\n",
    "(27, 'その他の神奈川'),\n",
    "(28, '千葉市'),\n",
    "(29, 'その他の千葉'),\n",
    "(30, 'さいたま市'),\n",
    "(31, 'その他の埼玉'),\n",
    "(32, '水戸市'),\n",
    "(33, 'その他の茨城'),\n",
    "(34, '宇都宮市'),\n",
    "(35, 'その他の栃木'),\n",
    "(36, '前橋市'),\n",
    "(37, '高崎市'),\n",
    "(38, 'その他の群馬'),\n",
    "(39, '不明'))"
   ]
  },
  {
   "cell_type": "code",
   "execution_count": 11,
   "id": "db6dfdf5",
   "metadata": {},
   "outputs": [
    {
     "data": {
      "image/png": "[encoded data removed]",
      "text/plain": [
       "<Figure size 1296x288 with 1 Axes>"
      ]
     },
     "metadata": {
      "needs_background": "light"
     },
     "output_type": "display_data"
    }
   ],
   "source": [
    "visualize_data(data_kantou, area_tuple[:20], 'IAAA_E')"
   ]
  },
  {
   "cell_type": "code",
   "execution_count": 12,
   "id": "58435a1e",
   "metadata": {},
   "outputs": [
    {
     "data": {
      "image/png": "[encoded data removed]",
      "text/plain": [
       "<Figure size 1296x288 with 1 Axes>"
      ]
     },
     "metadata": {
      "needs_background": "light"
     },
     "output_type": "display_data"
    }
   ],
   "source": [
    "visualize_data(data_kantou, area_tuple[20:], 'IAAA_E')"
   ]
  },
  {
   "cell_type": "code",
   "execution_count": 13,
   "id": "7aad921d",
   "metadata": {},
   "outputs": [
    {
     "data": {
      "image/png": "[encoded data removed]",
      "text/plain": [
       "<Figure size 1296x288 with 1 Axes>"
      ]
     },
     "metadata": {
      "needs_background": "light"
     },
     "output_type": "display_data"
    }
   ],
   "source": [
    "visualize_data(data_kantou, area_tuple[:23], 'IAAA_E')"
   ]
  },
  {
   "cell_type": "code",
   "execution_count": 14,
   "id": "bdfaf738",
   "metadata": {},
   "outputs": [],
   "source": [
    "data_23 = data_kantou[data_kantou['IAAA_E'] < 24]"
   ]
  },
  {
   "cell_type": "code",
   "execution_count": 15,
   "id": "48b51bf8",
   "metadata": {},
   "outputs": [
    {
     "data": {
      "text/html": [
       "<div>\n",
       "<style scoped>\n",
       "    .dataframe tbody tr th:only-of-type {\n",
       "        vertical-align: middle;\n",
       "    }\n",
       "\n",
       "    .dataframe tbody tr th {\n",
       "        vertical-align: top;\n",
       "    }\n",
       "\n",
       "    .dataframe thead th {\n",
       "        text-align: right;\n",
       "    }\n",
       "</style>\n",
       "<table border=\"1\" class=\"dataframe\">\n",
       "  <thead>\n",
       "    <tr style=\"text-align: right;\">\n",
       "      <th></th>\n",
       "      <th>KEY</th>\n",
       "      <th>SKEY</th>\n",
       "      <th>DUMMY00</th>\n",
       "      <th>AAF1</th>\n",
       "      <th>AAF2</th>\n",
       "      <th>AAF3</th>\n",
       "      <th>AAF3_1</th>\n",
       "      <th>AAF4</th>\n",
       "      <th>AAF5</th>\n",
       "      <th>AAAA</th>\n",
       "      <th>...</th>\n",
       "      <th>CL2</th>\n",
       "      <th>CL3</th>\n",
       "      <th>CL4</th>\n",
       "      <th>CL5</th>\n",
       "      <th>CL6</th>\n",
       "      <th>CL7</th>\n",
       "      <th>CL8</th>\n",
       "      <th>CL9</th>\n",
       "      <th>CL10</th>\n",
       "      <th>CL11</th>\n",
       "    </tr>\n",
       "  </thead>\n",
       "  <tbody>\n",
       "    <tr>\n",
       "      <th>1</th>\n",
       "      <td>100000002</td>\n",
       "      <td>197100000024</td>\n",
       "      <td>NaN</td>\n",
       "      <td>1</td>\n",
       "      <td>43</td>\n",
       "      <td>13</td>\n",
       "      <td>1</td>\n",
       "      <td>2</td>\n",
       "      <td>3</td>\n",
       "      <td>1</td>\n",
       "      <td>...</td>\n",
       "      <td>NaN</td>\n",
       "      <td>6.0</td>\n",
       "      <td>NaN</td>\n",
       "      <td>6.0</td>\n",
       "      <td>6.0</td>\n",
       "      <td>1.0</td>\n",
       "      <td>NaN</td>\n",
       "      <td>NaN</td>\n",
       "      <td>2.0</td>\n",
       "      <td>NaN</td>\n",
       "    </tr>\n",
       "    <tr>\n",
       "      <th>7</th>\n",
       "      <td>100000008</td>\n",
       "      <td>197100000048</td>\n",
       "      <td>NaN</td>\n",
       "      <td>2</td>\n",
       "      <td>38</td>\n",
       "      <td>13</td>\n",
       "      <td>1</td>\n",
       "      <td>1</td>\n",
       "      <td>1</td>\n",
       "      <td>1</td>\n",
       "      <td>...</td>\n",
       "      <td>3.0</td>\n",
       "      <td>NaN</td>\n",
       "      <td>2.0</td>\n",
       "      <td>1.0</td>\n",
       "      <td>3.0</td>\n",
       "      <td>NaN</td>\n",
       "      <td>1.0</td>\n",
       "      <td>2.0</td>\n",
       "      <td>NaN</td>\n",
       "      <td>NaN</td>\n",
       "    </tr>\n",
       "    <tr>\n",
       "      <th>20</th>\n",
       "      <td>100000021</td>\n",
       "      <td>197100000092</td>\n",
       "      <td>NaN</td>\n",
       "      <td>1</td>\n",
       "      <td>43</td>\n",
       "      <td>13</td>\n",
       "      <td>1</td>\n",
       "      <td>2</td>\n",
       "      <td>2</td>\n",
       "      <td>7</td>\n",
       "      <td>...</td>\n",
       "      <td>NaN</td>\n",
       "      <td>6.0</td>\n",
       "      <td>NaN</td>\n",
       "      <td>7.0</td>\n",
       "      <td>3.0</td>\n",
       "      <td>4.0</td>\n",
       "      <td>NaN</td>\n",
       "      <td>NaN</td>\n",
       "      <td>5.0</td>\n",
       "      <td>NaN</td>\n",
       "    </tr>\n",
       "    <tr>\n",
       "      <th>24</th>\n",
       "      <td>100000025</td>\n",
       "      <td>197100000120</td>\n",
       "      <td>NaN</td>\n",
       "      <td>1</td>\n",
       "      <td>40</td>\n",
       "      <td>13</td>\n",
       "      <td>1</td>\n",
       "      <td>1</td>\n",
       "      <td>3</td>\n",
       "      <td>1</td>\n",
       "      <td>...</td>\n",
       "      <td>NaN</td>\n",
       "      <td>5.0</td>\n",
       "      <td>NaN</td>\n",
       "      <td>4.0</td>\n",
       "      <td>4.0</td>\n",
       "      <td>2.0</td>\n",
       "      <td>NaN</td>\n",
       "      <td>NaN</td>\n",
       "      <td>2.0</td>\n",
       "      <td>NaN</td>\n",
       "    </tr>\n",
       "    <tr>\n",
       "      <th>26</th>\n",
       "      <td>100000027</td>\n",
       "      <td>197100000149</td>\n",
       "      <td>NaN</td>\n",
       "      <td>2</td>\n",
       "      <td>44</td>\n",
       "      <td>13</td>\n",
       "      <td>1</td>\n",
       "      <td>2</td>\n",
       "      <td>2</td>\n",
       "      <td>1</td>\n",
       "      <td>...</td>\n",
       "      <td>9.0</td>\n",
       "      <td>NaN</td>\n",
       "      <td>8.0</td>\n",
       "      <td>6.0</td>\n",
       "      <td>7.0</td>\n",
       "      <td>NaN</td>\n",
       "      <td>7.0</td>\n",
       "      <td>4.0</td>\n",
       "      <td>NaN</td>\n",
       "      <td>NaN</td>\n",
       "    </tr>\n",
       "    <tr>\n",
       "      <th>...</th>\n",
       "      <td>...</td>\n",
       "      <td>...</td>\n",
       "      <td>...</td>\n",
       "      <td>...</td>\n",
       "      <td>...</td>\n",
       "      <td>...</td>\n",
       "      <td>...</td>\n",
       "      <td>...</td>\n",
       "      <td>...</td>\n",
       "      <td>...</td>\n",
       "      <td>...</td>\n",
       "      <td>...</td>\n",
       "      <td>...</td>\n",
       "      <td>...</td>\n",
       "      <td>...</td>\n",
       "      <td>...</td>\n",
       "      <td>...</td>\n",
       "      <td>...</td>\n",
       "      <td>...</td>\n",
       "      <td>...</td>\n",
       "      <td>...</td>\n",
       "    </tr>\n",
       "    <tr>\n",
       "      <th>13806</th>\n",
       "      <td>100014963</td>\n",
       "      <td>197100016327</td>\n",
       "      <td>NaN</td>\n",
       "      <td>2</td>\n",
       "      <td>25</td>\n",
       "      <td>13</td>\n",
       "      <td>1</td>\n",
       "      <td>3</td>\n",
       "      <td>NaN</td>\n",
       "      <td>12</td>\n",
       "      <td>...</td>\n",
       "      <td>4.0</td>\n",
       "      <td>NaN</td>\n",
       "      <td>4.0</td>\n",
       "      <td>1.0</td>\n",
       "      <td>1.0</td>\n",
       "      <td>NaN</td>\n",
       "      <td>3.0</td>\n",
       "      <td>2.0</td>\n",
       "      <td>NaN</td>\n",
       "      <td>2.0</td>\n",
       "    </tr>\n",
       "    <tr>\n",
       "      <th>13812</th>\n",
       "      <td>100014969</td>\n",
       "      <td>197100007221</td>\n",
       "      <td>NaN</td>\n",
       "      <td>2</td>\n",
       "      <td>34</td>\n",
       "      <td>13</td>\n",
       "      <td>1</td>\n",
       "      <td>1</td>\n",
       "      <td>2</td>\n",
       "      <td>12</td>\n",
       "      <td>...</td>\n",
       "      <td>6.0</td>\n",
       "      <td>NaN</td>\n",
       "      <td>3.0</td>\n",
       "      <td>5.0</td>\n",
       "      <td>3.0</td>\n",
       "      <td>NaN</td>\n",
       "      <td>6.0</td>\n",
       "      <td>5.0</td>\n",
       "      <td>NaN</td>\n",
       "      <td>NaN</td>\n",
       "    </tr>\n",
       "    <tr>\n",
       "      <th>13820</th>\n",
       "      <td>100014977</td>\n",
       "      <td>197100021872</td>\n",
       "      <td>NaN</td>\n",
       "      <td>2</td>\n",
       "      <td>18</td>\n",
       "      <td>13</td>\n",
       "      <td>1</td>\n",
       "      <td>1</td>\n",
       "      <td>1</td>\n",
       "      <td>11</td>\n",
       "      <td>...</td>\n",
       "      <td>3.0</td>\n",
       "      <td>NaN</td>\n",
       "      <td>2.0</td>\n",
       "      <td>3.0</td>\n",
       "      <td>NaN</td>\n",
       "      <td>NaN</td>\n",
       "      <td>2.0</td>\n",
       "      <td>2.0</td>\n",
       "      <td>NaN</td>\n",
       "      <td>2.0</td>\n",
       "    </tr>\n",
       "    <tr>\n",
       "      <th>13834</th>\n",
       "      <td>100014991</td>\n",
       "      <td>197100021887</td>\n",
       "      <td>NaN</td>\n",
       "      <td>2</td>\n",
       "      <td>45</td>\n",
       "      <td>13</td>\n",
       "      <td>1</td>\n",
       "      <td>2</td>\n",
       "      <td>1</td>\n",
       "      <td>7</td>\n",
       "      <td>...</td>\n",
       "      <td>2.0</td>\n",
       "      <td>NaN</td>\n",
       "      <td>3.0</td>\n",
       "      <td>3.0</td>\n",
       "      <td>3.0</td>\n",
       "      <td>NaN</td>\n",
       "      <td>2.0</td>\n",
       "      <td>4.0</td>\n",
       "      <td>NaN</td>\n",
       "      <td>NaN</td>\n",
       "    </tr>\n",
       "    <tr>\n",
       "      <th>13847</th>\n",
       "      <td>100015004</td>\n",
       "      <td>197100007166</td>\n",
       "      <td>NaN</td>\n",
       "      <td>2</td>\n",
       "      <td>47</td>\n",
       "      <td>13</td>\n",
       "      <td>1</td>\n",
       "      <td>2</td>\n",
       "      <td>1,2,3</td>\n",
       "      <td>1</td>\n",
       "      <td>...</td>\n",
       "      <td>6.0</td>\n",
       "      <td>NaN</td>\n",
       "      <td>3.0</td>\n",
       "      <td>6.0</td>\n",
       "      <td>4.0</td>\n",
       "      <td>NaN</td>\n",
       "      <td>5.0</td>\n",
       "      <td>6.0</td>\n",
       "      <td>NaN</td>\n",
       "      <td>NaN</td>\n",
       "    </tr>\n",
       "  </tbody>\n",
       "</table>\n",
       "<p>2301 rows × 6861 columns</p>\n",
       "</div>"
      ],
      "text/plain": [
       "             KEY          SKEY  DUMMY00  AAF1  AAF2  AAF3  AAF3_1  AAF4  \\\n",
       "1      100000002  197100000024      NaN     1    43    13       1     2   \n",
       "7      100000008  197100000048      NaN     2    38    13       1     1   \n",
       "20     100000021  197100000092      NaN     1    43    13       1     2   \n",
       "24     100000025  197100000120      NaN     1    40    13       1     1   \n",
       "26     100000027  197100000149      NaN     2    44    13       1     2   \n",
       "...          ...           ...      ...   ...   ...   ...     ...   ...   \n",
       "13806  100014963  197100016327      NaN     2    25    13       1     3   \n",
       "13812  100014969  197100007221      NaN     2    34    13       1     1   \n",
       "13820  100014977  197100021872      NaN     2    18    13       1     1   \n",
       "13834  100014991  197100021887      NaN     2    45    13       1     2   \n",
       "13847  100015004  197100007166      NaN     2    47    13       1     2   \n",
       "\n",
       "        AAF5  AAAA  ...  CL2  CL3  CL4  CL5  CL6  CL7  CL8  CL9  CL10  CL11  \n",
       "1          3     1  ...  NaN  6.0  NaN  6.0  6.0  1.0  NaN  NaN   2.0   NaN  \n",
       "7          1     1  ...  3.0  NaN  2.0  1.0  3.0  NaN  1.0  2.0   NaN   NaN  \n",
       "20         2     7  ...  NaN  6.0  NaN  7.0  3.0  4.0  NaN  NaN   5.0   NaN  \n",
       "24         3     1  ...  NaN  5.0  NaN  4.0  4.0  2.0  NaN  NaN   2.0   NaN  \n",
       "26         2     1  ...  9.0  NaN  8.0  6.0  7.0  NaN  7.0  4.0   NaN   NaN  \n",
       "...      ...   ...  ...  ...  ...  ...  ...  ...  ...  ...  ...   ...   ...  \n",
       "13806    NaN    12  ...  4.0  NaN  4.0  1.0  1.0  NaN  3.0  2.0   NaN   2.0  \n",
       "13812      2    12  ...  6.0  NaN  3.0  5.0  3.0  NaN  6.0  5.0   NaN   NaN  \n",
       "13820      1    11  ...  3.0  NaN  2.0  3.0  NaN  NaN  2.0  2.0   NaN   2.0  \n",
       "13834      1     7  ...  2.0  NaN  3.0  3.0  3.0  NaN  2.0  4.0   NaN   NaN  \n",
       "13847  1,2,3     1  ...  6.0  NaN  3.0  6.0  4.0  NaN  5.0  6.0   NaN   NaN  \n",
       "\n",
       "[2301 rows x 6861 columns]"
      ]
     },
     "execution_count": 15,
     "metadata": {},
     "output_type": "execute_result"
    }
   ],
   "source": [
    "data_23"
   ]
  },
  {
   "cell_type": "code",
   "execution_count": 16,
   "id": "e0a211a3",
   "metadata": {},
   "outputs": [],
   "source": [
    "kouhuku_tuple = (\n",
    "(1, '1'),\n",
    "(2, '2'),\n",
    "(3, '3'),\n",
    "(4, '4'),\n",
    "(5, '5'),\n",
    "(6, '6'),\n",
    "(7, '7'),\n",
    "(8, '8'),\n",
    "(9, '9'),\n",
    "(10, '10'),\n",
    "(11, '11'),\n",
    "(12, '不明'))"
   ]
  },
  {
   "cell_type": "code",
   "execution_count": 17,
   "id": "897a0430",
   "metadata": {},
   "outputs": [
    {
     "data": {
      "image/png": "[encoded data removed]",
      "text/plain": [
       "<Figure size 1296x288 with 1 Axes>"
      ]
     },
     "metadata": {
      "needs_background": "light"
     },
     "output_type": "display_data"
    }
   ],
   "source": [
    "visualize_data(data_23, kouhuku_tuple, 'CEAL')"
   ]
  },
  {
   "cell_type": "code",
   "execution_count": 18,
   "id": "8fa2e3cb",
   "metadata": {},
   "outputs": [],
   "source": [
    "manzoku_tuple =((1, '非常にあてはまる'),\n",
    "(2, 'ややあてはまる'),\n",
    "(3, 'あまりあてはまらない'),\n",
    "(4, '全くあてはまらない'),\n",
    "(5, '不明'))"
   ]
  },
  {
   "cell_type": "code",
   "execution_count": 19,
   "id": "7424eee6",
   "metadata": {},
   "outputs": [
    {
     "data": {
      "image/png": "[encoded data removed]",
      "text/plain": [
       "<Figure size 864x288 with 1 Axes>"
      ]
     },
     "metadata": {
      "needs_background": "light"
     },
     "output_type": "display_data"
    }
   ],
   "source": [
    "visualize_data(data_23, manzoku_tuple, 'CEAB_29', 12)"
   ]
  },
  {
   "cell_type": "code",
   "execution_count": 20,
   "id": "18403701",
   "metadata": {},
   "outputs": [],
   "source": [
    "tubo_tuple = ((1, '15坪未満'),\n",
    "(2, '15～20坪未満'),\n",
    "(3, '20～25坪未満'),\n",
    "(4, '25～30坪未満'),\n",
    "(5, '30～35坪未満'),\n",
    "(6, '35～40坪未満'),\n",
    "(7, '40～45坪未満'),\n",
    "(8, '45～50坪未満'),\n",
    "(9, '50坪以上'),\n",
    "(10, '分からない'),\n",
    "(11, '不明'))"
   ]
  },
  {
   "cell_type": "code",
   "execution_count": 21,
   "id": "2eb3f19e",
   "metadata": {},
   "outputs": [
    {
     "data": {
      "image/png": "[encoded data removed]",
      "text/plain": [
       "<Figure size 1296x288 with 1 Axes>"
      ]
     },
     "metadata": {
      "needs_background": "light"
     },
     "output_type": "display_data"
    }
   ],
   "source": [
    "visualize_data(data_23, tubo_tuple, 'CKAB')"
   ]
  },
  {
   "cell_type": "code",
   "execution_count": 22,
   "id": "87ec6e61",
   "metadata": {},
   "outputs": [],
   "source": [
    "ie_tuple = ((1, '持家一戸建（土地も所有）'),\n",
    "(2, '持家一戸建（土地は借地）'),\n",
    "(3, '分譲マンション'),\n",
    "(4, '借家一戸建'),\n",
    "(5, '賃貸マンション・アパート'),\n",
    "(6, '社宅・寮'),\n",
    "(7, 'その他（間借りなど）'),\n",
    "(8, '不明'))"
   ]
  },
  {
   "cell_type": "code",
   "execution_count": 23,
   "id": "d29dcb93",
   "metadata": {},
   "outputs": [
    {
     "data": {
      "image/png": "[encoded data removed]",
      "text/plain": [
       "<Figure size 1296x288 with 1 Axes>"
      ]
     },
     "metadata": {
      "needs_background": "light"
     },
     "output_type": "display_data"
    }
   ],
   "source": [
    "visualize_data(data_23, ie_tuple, 'CKAA')"
   ]
  },
  {
   "cell_type": "code",
   "execution_count": 24,
   "id": "343672cf",
   "metadata": {},
   "outputs": [],
   "source": [
    "age_tuple = tuple([(i, i) for i in range(15, 70)])"
   ]
  },
  {
   "cell_type": "code",
   "execution_count": 25,
   "id": "f62f07d6",
   "metadata": {},
   "outputs": [
    {
     "data": {
      "image/png": "[encoded data removed]",
      "text/plain": [
       "<Figure size 1296x288 with 1 Axes>"
      ]
     },
     "metadata": {
      "needs_background": "light"
     },
     "output_type": "display_data"
    }
   ],
   "source": [
    "visualize_data(data_23, age_tuple, 'AAF2')"
   ]
  },
  {
   "cell_type": "code",
   "execution_count": 26,
   "id": "254a505c",
   "metadata": {},
   "outputs": [],
   "source": [
    "data_over = data_23[data_23['AAF2'] >= 20]"
   ]
  },
  {
   "cell_type": "code",
   "execution_count": 27,
   "id": "07015ca5",
   "metadata": {},
   "outputs": [
    {
     "name": "stdout",
     "output_type": "stream",
     "text": [
      "CKAA\n",
      "CKAB\n",
      "IAAA_E\n",
      "IAAB_E\n",
      "AAAA\n",
      "AAAB\n",
      "AAAC\n",
      "AAAX\n",
      "AAAY\n",
      "AAAZ\n"
     ]
    }
   ],
   "source": [
    "# AAAX, AAAY, AAAZは連続値に修正可能\n",
    "# exp_variable = ['CKAA', 'CKAB', 'IAAA_E', 'IAAB_E', 'AAAA', 'AAAB', 'AAAC', 'AAAQ', 'AAAU_01', 'AAAX', 'AAAY', 'AAAZ']\n",
    "exp_variable = ['CKAA', 'CKAB', 'IAAA_E', 'IAAB_E', 'AAAA', 'AAAB', 'AAAC', 'AAAX', 'AAAY', 'AAAZ']\n",
    "exp_variable_serial = ['AAAR_01']\n",
    "exp_variable_serial += [f'CKAF_{i}' for i in range(1, 26)]\n",
    "exp_variable_serial += [f'AAAR_{i}' for i in range(1, 12)]\n",
    "exp = pd.DataFrame()\n",
    "\n",
    "data['IAAA_E'] = data['IAAA_E'].fillna(39)\n",
    "data['IAAB_E'] = data['IAAB_E'].fillna(41)\n",
    "data['CKAB'] = data['CKAB'].fillna(11)\n",
    "data['AAAB'] = data['AAAB'].fillna(4)\n",
    "data['AAAX'] = data['AAAX'].fillna(16)\n",
    "data['AAAY'] = data['AAAY'].fillna(16)\n",
    "data['AAAZ'] = data['AAAZ'].fillna(12)\n",
    "\n",
    "for i in range(1, 12):\n",
    "    data[f'AAAR_{i}'] = data[f'AAAR_{i}'].fillna(0)\n",
    "for i in range(1, 26):\n",
    "    data[f'CKAF_{i}'] = data[f'CKAF_{i}'].fillna(2.5)\n",
    "for e in exp_variable:\n",
    "    print(e)\n",
    "    exp[e] = data[e].astype('category')\n",
    "exp_variable = ['AAAQ', 'AAAU_01']\n",
    "for e in exp_variable:\n",
    "    exp[e] = data[e].astype('category')\n",
    "for e in exp_variable_serial:\n",
    "    exp[e] = data[e]"
   ]
  },
  {
   "cell_type": "code",
   "execution_count": 28,
   "id": "3ac48308",
   "metadata": {},
   "outputs": [],
   "source": [
    "import math\n",
    "for i in data['AAAX']:\n",
    "    if math.isnan(i):\n",
    "        print(1)"
   ]
  },
  {
   "cell_type": "code",
   "execution_count": 31,
   "id": "0ab1d39a",
   "metadata": {},
   "outputs": [],
   "source": [
    "ans = data['CEAL']"
   ]
  },
  {
   "cell_type": "code",
   "execution_count": 32,
   "id": "b3678efe",
   "metadata": {},
   "outputs": [],
   "source": [
    "X_train, X_val, y_train, y_val = train_test_split(exp, ans, test_size=0.2, random_state=42)"
   ]
  },
  {
   "cell_type": "code",
   "execution_count": 33,
   "id": "0a7de30f",
   "metadata": {},
   "outputs": [
    {
     "data": {
      "text/plain": [
       "2772"
      ]
     },
     "execution_count": 33,
     "metadata": {},
     "output_type": "execute_result"
    }
   ],
   "source": [
    "len(y_val)"
   ]
  },
  {
   "cell_type": "code",
   "execution_count": 34,
   "id": "8fafe296",
   "metadata": {},
   "outputs": [],
   "source": [
    "model = lgb2.LGBMRegressor() # モデルのインスタンスの作成\n",
    "model.fit(X_train, y_train) # モデルの学習\n",
    "\n",
    "# テストデータの予測\n",
    "y_pred = model.predict(X_val)"
   ]
  },
  {
   "cell_type": "code",
   "execution_count": 35,
   "id": "efbdf63e",
   "metadata": {},
   "outputs": [
    {
     "data": {
      "text/plain": [
       "Text(0, 0.5, 'pred')"
      ]
     },
     "execution_count": 35,
     "metadata": {},
     "output_type": "execute_result"
    },
    {
     "data": {
      "image/png": "[encoded data removed]",
      "text/plain": [
       "<Figure size 1296x864 with 1 Axes>"
      ]
     },
     "metadata": {
      "needs_background": "light"
     },
     "output_type": "display_data"
    }
   ],
   "source": [
    "\n",
    "plt.figure(figsize=(18, 12))\n",
    "plt.scatter(y_val, y_pred, s=1) \n",
    "plt.xlabel('true')\n",
    "plt.ylabel('pred') "
   ]
  },
  {
   "cell_type": "code",
   "execution_count": 36,
   "id": "c7d260ae",
   "metadata": {},
   "outputs": [],
   "source": [
    "y_train_p = model.predict(X_train)"
   ]
  },
  {
   "cell_type": "code",
   "execution_count": 37,
   "id": "5fe74be5",
   "metadata": {},
   "outputs": [
    {
     "data": {
      "text/plain": [
       "Text(0, 0.5, 'pred')"
      ]
     },
     "execution_count": 37,
     "metadata": {},
     "output_type": "execute_result"
    },
    {
     "data": {
      "image/png": "[encoded data removed]",
      "text/plain": [
       "<Figure size 1296x864 with 1 Axes>"
      ]
     },
     "metadata": {
      "needs_background": "light"
     },
     "output_type": "display_data"
    }
   ],
   "source": [
    "plt.figure(figsize=(18, 12))\n",
    "plt.scatter(y_train, y_train_p, s=1) \n",
    "plt.xlabel('true')\n",
    "plt.ylabel('pred') "
   ]
  },
  {
   "cell_type": "code",
   "execution_count": 38,
   "id": "74c88728",
   "metadata": {},
   "outputs": [
    {
     "data": {
      "text/plain": [
       "<AxesSubplot:title={'center':'Feature importance'}, xlabel='Feature importance', ylabel='Features'>"
      ]
     },
     "execution_count": 38,
     "metadata": {},
     "output_type": "execute_result"
    },
    {
     "data": {
      "image/png": "[encoded data removed]",
      "text/plain": [
       "<Figure size 576x576 with 1 Axes>"
      ]
     },
     "metadata": {
      "needs_background": "light"
     },
     "output_type": "display_data"
    }
   ],
   "source": [
    "lgb.plot_importance(model, figsize=(8,8), max_num_features=25)"
   ]
  },
  {
   "cell_type": "code",
   "execution_count": 39,
   "id": "3302e402",
   "metadata": {},
   "outputs": [
    {
     "name": "stdout",
     "output_type": "stream",
     "text": [
      "RMSE : 1.9994698929794636\n",
      "R2 : 0.18286264337185076\n"
     ]
    }
   ],
   "source": [
    "# モデル評価\n",
    "# rmse : 平均二乗誤差の平方根\n",
    "mse = mean_squared_error(y_val, y_pred) # MSE(平均二乗誤差)の算出\n",
    "rmse = np.sqrt(mse) # RSME = √MSEの算出\n",
    "print('RMSE :',rmse)\n",
    "\n",
    "# r2 : 決定係数\n",
    "r2 = r2_score(y_val,y_pred)\n",
    "print('R2 :',r2)"
   ]
  },
  {
   "cell_type": "code",
   "execution_count": 40,
   "id": "1f16827a",
   "metadata": {},
   "outputs": [],
   "source": [
    "importance = pd.DataFrame(model.feature_importances_, index=exp.columns, columns=['importance'])\n",
    "importance = importance.sort_values('importance' , ascending=False)\n",
    "exp_2 = pd.DataFrame()\n",
    "for e in importance[:11].index:\n",
    "    exp_2[e] = exp[e]"
   ]
  },
  {
   "cell_type": "code",
   "execution_count": 41,
   "id": "6973a13d",
   "metadata": {},
   "outputs": [
    {
     "data": {
      "text/html": [
       "<div>\n",
       "<style scoped>\n",
       "    .dataframe tbody tr th:only-of-type {\n",
       "        vertical-align: middle;\n",
       "    }\n",
       "\n",
       "    .dataframe tbody tr th {\n",
       "        vertical-align: top;\n",
       "    }\n",
       "\n",
       "    .dataframe thead th {\n",
       "        text-align: right;\n",
       "    }\n",
       "</style>\n",
       "<table border=\"1\" class=\"dataframe\">\n",
       "  <thead>\n",
       "    <tr style=\"text-align: right;\">\n",
       "      <th></th>\n",
       "      <th>IAAB_E</th>\n",
       "      <th>IAAA_E</th>\n",
       "      <th>AAAX</th>\n",
       "      <th>AAAA</th>\n",
       "      <th>CKAB</th>\n",
       "      <th>AAAZ</th>\n",
       "      <th>AAAY</th>\n",
       "      <th>AAAU_01</th>\n",
       "      <th>CKAF_24</th>\n",
       "      <th>CKAF_21</th>\n",
       "      <th>CKAF_22</th>\n",
       "    </tr>\n",
       "  </thead>\n",
       "  <tbody>\n",
       "    <tr>\n",
       "      <th>0</th>\n",
       "      <td>40.0</td>\n",
       "      <td>24.0</td>\n",
       "      <td>4.0</td>\n",
       "      <td>12</td>\n",
       "      <td>7.0</td>\n",
       "      <td>1.0</td>\n",
       "      <td>15.0</td>\n",
       "      <td>3,4,5</td>\n",
       "      <td>2.0</td>\n",
       "      <td>3.0</td>\n",
       "      <td>2.0</td>\n",
       "    </tr>\n",
       "    <tr>\n",
       "      <th>1</th>\n",
       "      <td>3.0</td>\n",
       "      <td>11.0</td>\n",
       "      <td>4.0</td>\n",
       "      <td>1</td>\n",
       "      <td>1.0</td>\n",
       "      <td>4.0</td>\n",
       "      <td>4.0</td>\n",
       "      <td>8</td>\n",
       "      <td>3.0</td>\n",
       "      <td>2.0</td>\n",
       "      <td>3.0</td>\n",
       "    </tr>\n",
       "    <tr>\n",
       "      <th>2</th>\n",
       "      <td>41.0</td>\n",
       "      <td>39.0</td>\n",
       "      <td>7.0</td>\n",
       "      <td>1</td>\n",
       "      <td>5.0</td>\n",
       "      <td>3.0</td>\n",
       "      <td>7.0</td>\n",
       "      <td>2,3,4</td>\n",
       "      <td>2.0</td>\n",
       "      <td>2.0</td>\n",
       "      <td>2.0</td>\n",
       "    </tr>\n",
       "    <tr>\n",
       "      <th>3</th>\n",
       "      <td>41.0</td>\n",
       "      <td>39.0</td>\n",
       "      <td>15.0</td>\n",
       "      <td>14</td>\n",
       "      <td>10.0</td>\n",
       "      <td>1.0</td>\n",
       "      <td>15.0</td>\n",
       "      <td>8</td>\n",
       "      <td>3.0</td>\n",
       "      <td>2.0</td>\n",
       "      <td>2.0</td>\n",
       "    </tr>\n",
       "    <tr>\n",
       "      <th>4</th>\n",
       "      <td>25.0</td>\n",
       "      <td>24.0</td>\n",
       "      <td>7.0</td>\n",
       "      <td>5</td>\n",
       "      <td>2.0</td>\n",
       "      <td>2.0</td>\n",
       "      <td>6.0</td>\n",
       "      <td>8</td>\n",
       "      <td>3.0</td>\n",
       "      <td>3.0</td>\n",
       "      <td>3.0</td>\n",
       "    </tr>\n",
       "    <tr>\n",
       "      <th>...</th>\n",
       "      <td>...</td>\n",
       "      <td>...</td>\n",
       "      <td>...</td>\n",
       "      <td>...</td>\n",
       "      <td>...</td>\n",
       "      <td>...</td>\n",
       "      <td>...</td>\n",
       "      <td>...</td>\n",
       "      <td>...</td>\n",
       "      <td>...</td>\n",
       "      <td>...</td>\n",
       "    </tr>\n",
       "    <tr>\n",
       "      <th>13851</th>\n",
       "      <td>41.0</td>\n",
       "      <td>39.0</td>\n",
       "      <td>3.0</td>\n",
       "      <td>12</td>\n",
       "      <td>4.0</td>\n",
       "      <td>9.0</td>\n",
       "      <td>15.0</td>\n",
       "      <td>8</td>\n",
       "      <td>2.0</td>\n",
       "      <td>3.0</td>\n",
       "      <td>2.0</td>\n",
       "    </tr>\n",
       "    <tr>\n",
       "      <th>13852</th>\n",
       "      <td>41.0</td>\n",
       "      <td>39.0</td>\n",
       "      <td>10.0</td>\n",
       "      <td>1</td>\n",
       "      <td>3.0</td>\n",
       "      <td>6.0</td>\n",
       "      <td>4.0</td>\n",
       "      <td>1,2,3</td>\n",
       "      <td>2.0</td>\n",
       "      <td>2.0</td>\n",
       "      <td>2.0</td>\n",
       "    </tr>\n",
       "    <tr>\n",
       "      <th>13853</th>\n",
       "      <td>29.0</td>\n",
       "      <td>29.0</td>\n",
       "      <td>10.0</td>\n",
       "      <td>1</td>\n",
       "      <td>3.0</td>\n",
       "      <td>5.0</td>\n",
       "      <td>7.0</td>\n",
       "      <td>1,2,3</td>\n",
       "      <td>2.0</td>\n",
       "      <td>2.0</td>\n",
       "      <td>2.0</td>\n",
       "    </tr>\n",
       "    <tr>\n",
       "      <th>13854</th>\n",
       "      <td>41.0</td>\n",
       "      <td>39.0</td>\n",
       "      <td>16.0</td>\n",
       "      <td>11</td>\n",
       "      <td>1.0</td>\n",
       "      <td>12.0</td>\n",
       "      <td>16.0</td>\n",
       "      <td>8</td>\n",
       "      <td>1.0</td>\n",
       "      <td>2.0</td>\n",
       "      <td>1.0</td>\n",
       "    </tr>\n",
       "    <tr>\n",
       "      <th>13855</th>\n",
       "      <td>27.0</td>\n",
       "      <td>27.0</td>\n",
       "      <td>2.0</td>\n",
       "      <td>3</td>\n",
       "      <td>2.0</td>\n",
       "      <td>3.0</td>\n",
       "      <td>2.0</td>\n",
       "      <td>8</td>\n",
       "      <td>3.0</td>\n",
       "      <td>3.0</td>\n",
       "      <td>3.0</td>\n",
       "    </tr>\n",
       "  </tbody>\n",
       "</table>\n",
       "<p>13856 rows × 11 columns</p>\n",
       "</div>"
      ],
      "text/plain": [
       "      IAAB_E IAAA_E  AAAX AAAA  CKAB  AAAZ  AAAY AAAU_01  CKAF_24  CKAF_21  \\\n",
       "0       40.0   24.0   4.0   12   7.0   1.0  15.0   3,4,5      2.0      3.0   \n",
       "1        3.0   11.0   4.0    1   1.0   4.0   4.0       8      3.0      2.0   \n",
       "2       41.0   39.0   7.0    1   5.0   3.0   7.0   2,3,4      2.0      2.0   \n",
       "3       41.0   39.0  15.0   14  10.0   1.0  15.0       8      3.0      2.0   \n",
       "4       25.0   24.0   7.0    5   2.0   2.0   6.0       8      3.0      3.0   \n",
       "...      ...    ...   ...  ...   ...   ...   ...     ...      ...      ...   \n",
       "13851   41.0   39.0   3.0   12   4.0   9.0  15.0       8      2.0      3.0   \n",
       "13852   41.0   39.0  10.0    1   3.0   6.0   4.0   1,2,3      2.0      2.0   \n",
       "13853   29.0   29.0  10.0    1   3.0   5.0   7.0   1,2,3      2.0      2.0   \n",
       "13854   41.0   39.0  16.0   11   1.0  12.0  16.0       8      1.0      2.0   \n",
       "13855   27.0   27.0   2.0    3   2.0   3.0   2.0       8      3.0      3.0   \n",
       "\n",
       "       CKAF_22  \n",
       "0          2.0  \n",
       "1          3.0  \n",
       "2          2.0  \n",
       "3          2.0  \n",
       "4          3.0  \n",
       "...        ...  \n",
       "13851      2.0  \n",
       "13852      2.0  \n",
       "13853      2.0  \n",
       "13854      1.0  \n",
       "13855      3.0  \n",
       "\n",
       "[13856 rows x 11 columns]"
      ]
     },
     "execution_count": 41,
     "metadata": {},
     "output_type": "execute_result"
    }
   ],
   "source": [
    "exp_2"
   ]
  },
  {
   "cell_type": "code",
   "execution_count": 42,
   "id": "de1a4b18",
   "metadata": {},
   "outputs": [],
   "source": [
    "X_train, X_val, y_train, y_val = train_test_split(exp_2, ans, test_size=0.2, random_state=42)"
   ]
  },
  {
   "cell_type": "code",
   "execution_count": 43,
   "id": "263b19e1",
   "metadata": {},
   "outputs": [],
   "source": [
    "model = lgb2.LGBMRegressor() # モデルのインスタンスの作成\n",
    "model.fit(X_train, y_train) # モデルの学習\n",
    "\n",
    "# テストデータの予測\n",
    "y_pred = model.predict(X_val)"
   ]
  },
  {
   "cell_type": "code",
   "execution_count": 44,
   "id": "79fc967b",
   "metadata": {},
   "outputs": [
    {
     "data": {
      "text/plain": [
       "Text(0, 0.5, 'pred')"
      ]
     },
     "execution_count": 44,
     "metadata": {},
     "output_type": "execute_result"
    },
    {
     "data": {
      "image/png": "[encoded data removed]",
      "text/plain": [
       "<Figure size 1296x864 with 1 Axes>"
      ]
     },
     "metadata": {
      "needs_background": "light"
     },
     "output_type": "display_data"
    }
   ],
   "source": [
    "plt.figure(figsize=(18, 12))\n",
    "plt.scatter(y_val, y_pred, s=1) \n",
    "plt.xlabel('true')\n",
    "plt.ylabel('pred') "
   ]
  },
  {
   "cell_type": "code",
   "execution_count": 45,
   "id": "49f1304e",
   "metadata": {},
   "outputs": [
    {
     "data": {
      "text/plain": [
       "Text(0, 0.5, 'pred')"
      ]
     },
     "execution_count": 45,
     "metadata": {},
     "output_type": "execute_result"
    },
    {
     "data": {
      "image/png": "[encoded data removed]",
      "text/plain": [
       "<Figure size 1296x864 with 1 Axes>"
      ]
     },
     "metadata": {
      "needs_background": "light"
     },
     "output_type": "display_data"
    }
   ],
   "source": [
    "y_train_p = model.predict(X_train)\n",
    "plt.figure(figsize=(18, 12))\n",
    "plt.scatter(y_train, y_train_p, s=1) \n",
    "plt.xlabel('true')\n",
    "plt.ylabel('pred') "
   ]
  },
  {
   "cell_type": "code",
   "execution_count": 46,
   "id": "1861a716",
   "metadata": {},
   "outputs": [
    {
     "name": "stdout",
     "output_type": "stream",
     "text": [
      "RMSE : 2.035818944133407\n",
      "R2 : 0.1528825465039818\n"
     ]
    }
   ],
   "source": [
    "# モデル評価\n",
    "# rmse : 平均二乗誤差の平方根\n",
    "mse = mean_squared_error(y_val, y_pred) # MSE(平均二乗誤差)の算出\n",
    "rmse = np.sqrt(mse) # RSME = √MSEの算出\n",
    "print('RMSE :',rmse)\n",
    "\n",
    "# r2 : 決定係数\n",
    "r2 = r2_score(y_val,y_pred)\n",
    "print('R2 :',r2)"
   ]
  },
  {
   "cell_type": "code",
   "execution_count": 47,
   "id": "5a68d1c4",
   "metadata": {},
   "outputs": [],
   "source": [
    "X_train, X_test, y_train, y_test= train_test_split(exp_2, ans, test_size=0.1, random_state=42)\n",
    "X_train, X_val, y_train, y_val= train_test_split(X_train, y_train, test_size=0.1, random_state=42)\n",
    "lgb_train = lgb.Dataset(X_train, y_train)\n",
    "lgb_eval = lgb.Dataset(X_val, y_val, reference=lgb_train)"
   ]
  },
  {
   "cell_type": "code",
   "execution_count": 48,
   "id": "068d1d73",
   "metadata": {},
   "outputs": [
    {
     "name": "stderr",
     "output_type": "stream",
     "text": [
      "\u001b[32m[I 2021-08-18 21:39:50,140]\u001b[0m A new study created in memory with name: no-name-1401eece-35e7-4418-afcb-9a79113acf17\u001b[0m\n",
      "feature_fraction, val_score: inf:   0%|                                                                                                             | 0/7 [00:00<?, ?it/s]"
     ]
    },
    {
     "name": "stdout",
     "output_type": "stream",
     "text": [
      "[LightGBM] [Warning] Auto-choosing row-wise multi-threading, the overhead of testing was 0.000358 seconds.\n",
      "You can set `force_row_wise=true` to remove the overhead.\n",
      "And if memory is not enough, you can set `force_col_wise=true`.\n",
      "[LightGBM] [Info] Total Bins 192\n",
      "[LightGBM] [Info] Number of data points in the train set: 11223, number of used features: 11\n",
      "[LightGBM] [Info] Start training from score 7.112893\n"
     ]
    },
    {
     "name": "stderr",
     "output_type": "stream",
     "text": [
      "/usr/local/lib/python3.9/site-packages/lightgbm/basic.py:1433: UserWarning: Overriding the parameters from Reference Dataset.\n",
      "  _log_warning('Overriding the parameters from Reference Dataset.')\n",
      "/usr/local/lib/python3.9/site-packages/lightgbm/basic.py:1245: UserWarning: categorical_column in param dict is overridden.\n",
      "  _log_warning('{} in param dict is overridden.'.format(cat_alias))\n",
      "feature_fraction, val_score: 1.955510:  14%|#############7                                                                                  | 1/7 [00:00<00:02,  2.80it/s]\u001b[32m[I 2021-08-18 21:39:50,535]\u001b[0m Trial 0 finished with value: 1.9555095243884035 and parameters: {'feature_fraction': 0.7}. Best is trial 0 with value: 1.9555095243884035.\u001b[0m\n",
      "feature_fraction, val_score: 1.955510:  14%|#############7                                                                                  | 1/7 [00:00<00:02,  2.80it/s]/usr/local/lib/python3.9/site-packages/lightgbm/basic.py:1433: UserWarning: Overriding the parameters from Reference Dataset.\n",
      "  _log_warning('Overriding the parameters from Reference Dataset.')\n",
      "/usr/local/lib/python3.9/site-packages/lightgbm/basic.py:1245: UserWarning: categorical_column in param dict is overridden.\n",
      "  _log_warning('{} in param dict is overridden.'.format(cat_alias))\n",
      "feature_fraction, val_score: 1.955510:  29%|###########################4                                                                    | 2/7 [00:00<00:01,  3.74it/s]\u001b[32m[I 2021-08-18 21:39:50,739]\u001b[0m Trial 1 finished with value: 1.9661377197569077 and parameters: {'feature_fraction': 0.4}. Best is trial 0 with value: 1.9555095243884035.\u001b[0m\n",
      "feature_fraction, val_score: 1.955510:  29%|###########################4                                                                    | 2/7 [00:00<00:01,  3.74it/s]"
     ]
    },
    {
     "name": "stdout",
     "output_type": "stream",
     "text": [
      "[LightGBM] [Warning] Auto-choosing row-wise multi-threading, the overhead of testing was 0.001701 seconds.\n",
      "You can set `force_row_wise=true` to remove the overhead.\n",
      "And if memory is not enough, you can set `force_col_wise=true`.\n",
      "[LightGBM] [Info] Total Bins 192\n",
      "[LightGBM] [Info] Number of data points in the train set: 11223, number of used features: 11\n",
      "[LightGBM] [Info] Start training from score 7.112893\n",
      "[LightGBM] [Warning] Auto-choosing row-wise multi-threading, the overhead of testing was 0.000406 seconds.\n",
      "You can set `force_row_wise=true` to remove the overhead.\n",
      "And if memory is not enough, you can set `force_col_wise=true`.\n",
      "[LightGBM] [Info] Total Bins 192\n",
      "[LightGBM] [Info] Number of data points in the train set: 11223, number of used features: 11\n"
     ]
    },
    {
     "name": "stderr",
     "output_type": "stream",
     "text": [
      "/usr/local/lib/python3.9/site-packages/lightgbm/basic.py:1433: UserWarning: Overriding the parameters from Reference Dataset.\n",
      "  _log_warning('Overriding the parameters from Reference Dataset.')\n",
      "/usr/local/lib/python3.9/site-packages/lightgbm/basic.py:1245: UserWarning: categorical_column in param dict is overridden.\n",
      "  _log_warning('{} in param dict is overridden.'.format(cat_alias))\n"
     ]
    },
    {
     "name": "stdout",
     "output_type": "stream",
     "text": [
      "[LightGBM] [Info] Start training from score 7.112893\n"
     ]
    },
    {
     "name": "stderr",
     "output_type": "stream",
     "text": [
      "feature_fraction, val_score: 1.942542:  43%|#########################################1                                                      | 3/7 [00:00<00:01,  3.77it/s]\u001b[32m[I 2021-08-18 21:39:51,001]\u001b[0m Trial 2 finished with value: 1.9425416457506866 and parameters: {'feature_fraction': 1.0}. Best is trial 2 with value: 1.9425416457506866.\u001b[0m\n",
      "feature_fraction, val_score: 1.942542:  43%|#########################################1                                                      | 3/7 [00:00<00:01,  3.77it/s]/usr/local/lib/python3.9/site-packages/lightgbm/basic.py:1433: UserWarning: Overriding the parameters from Reference Dataset.\n",
      "  _log_warning('Overriding the parameters from Reference Dataset.')\n",
      "/usr/local/lib/python3.9/site-packages/lightgbm/basic.py:1245: UserWarning: categorical_column in param dict is overridden.\n",
      "  _log_warning('{} in param dict is overridden.'.format(cat_alias))\n",
      "feature_fraction, val_score: 1.941156:  57%|######################################################8                                         | 4/7 [00:00<00:00,  4.53it/s]\u001b[32m[I 2021-08-18 21:39:51,153]\u001b[0m Trial 3 finished with value: 1.9411556080750825 and parameters: {'feature_fraction': 0.5}. Best is trial 3 with value: 1.9411556080750825.\u001b[0m\n",
      "feature_fraction, val_score: 1.941156:  57%|######################################################8                                         | 4/7 [00:00<00:00,  4.53it/s]/usr/local/lib/python3.9/site-packages/lightgbm/basic.py:1433: UserWarning: Overriding the parameters from Reference Dataset.\n",
      "  _log_warning('Overriding the parameters from Reference Dataset.')\n",
      "/usr/local/lib/python3.9/site-packages/lightgbm/basic.py:1245: UserWarning: categorical_column in param dict is overridden.\n",
      "  _log_warning('{} in param dict is overridden.'.format(cat_alias))\n"
     ]
    },
    {
     "name": "stdout",
     "output_type": "stream",
     "text": [
      "[LightGBM] [Warning] Auto-choosing col-wise multi-threading, the overhead of testing was 0.001281 seconds.\n",
      "You can set `force_col_wise=true` to remove the overhead.\n",
      "[LightGBM] [Info] Total Bins 192\n",
      "[LightGBM] [Info] Number of data points in the train set: 11223, number of used features: 11\n",
      "[LightGBM] [Info] Start training from score 7.112893\n",
      "[LightGBM] [Warning] Auto-choosing col-wise multi-threading, the overhead of testing was 0.000992 seconds.\n",
      "You can set `force_col_wise=true` to remove the overhead.\n",
      "[LightGBM] [Info] Total Bins 192\n",
      "[LightGBM] [Info] Number of data points in the train set: 11223, number of used features: 11\n",
      "[LightGBM] [Info] Start training from score 7.112893\n"
     ]
    },
    {
     "name": "stderr",
     "output_type": "stream",
     "text": [
      "feature_fraction, val_score: 1.941156:  71%|####################################################################5                           | 5/7 [00:01<00:00,  3.11it/s]\u001b[32m[I 2021-08-18 21:39:51,654]\u001b[0m Trial 4 finished with value: 1.946251494984801 and parameters: {'feature_fraction': 0.8999999999999999}. Best is trial 3 with value: 1.9411556080750825.\u001b[0m\n",
      "feature_fraction, val_score: 1.941156:  71%|####################################################################5                           | 5/7 [00:01<00:00,  3.11it/s]/usr/local/lib/python3.9/site-packages/lightgbm/basic.py:1433: UserWarning: Overriding the parameters from Reference Dataset.\n",
      "  _log_warning('Overriding the parameters from Reference Dataset.')\n",
      "/usr/local/lib/python3.9/site-packages/lightgbm/basic.py:1245: UserWarning: categorical_column in param dict is overridden.\n",
      "  _log_warning('{} in param dict is overridden.'.format(cat_alias))\n",
      "feature_fraction, val_score: 1.941156:  86%|##################################################################################2             | 6/7 [00:01<00:00,  3.67it/s]\u001b[32m[I 2021-08-18 21:39:51,832]\u001b[0m Trial 5 finished with value: 1.9515209348444504 and parameters: {'feature_fraction': 0.6}. Best is trial 3 with value: 1.9411556080750825.\u001b[0m\n",
      "feature_fraction, val_score: 1.941156:  86%|##################################################################################2             | 6/7 [00:01<00:00,  3.67it/s]/usr/local/lib/python3.9/site-packages/lightgbm/basic.py:1433: UserWarning: Overriding the parameters from Reference Dataset.\n",
      "  _log_warning('Overriding the parameters from Reference Dataset.')\n"
     ]
    },
    {
     "name": "stdout",
     "output_type": "stream",
     "text": [
      "[LightGBM] [Warning] Auto-choosing row-wise multi-threading, the overhead of testing was 0.000259 seconds.\n",
      "You can set `force_row_wise=true` to remove the overhead.\n",
      "And if memory is not enough, you can set `force_col_wise=true`.\n",
      "[LightGBM] [Info] Total Bins 192\n",
      "[LightGBM] [Info] Number of data points in the train set: 11223, number of used features: 11\n",
      "[LightGBM] [Info] Start training from score 7.112893\n",
      "[LightGBM] [Warning] Auto-choosing col-wise multi-threading, the overhead of testing was 0.000985 seconds.\n",
      "You can set `force_col_wise=true` to remove the overhead.\n",
      "[LightGBM] [Info] Total Bins 192\n",
      "[LightGBM] [Info] Number of data points in the train set: 11223, number of used features: 11\n"
     ]
    },
    {
     "name": "stderr",
     "output_type": "stream",
     "text": [
      "/usr/local/lib/python3.9/site-packages/lightgbm/basic.py:1245: UserWarning: categorical_column in param dict is overridden.\n",
      "  _log_warning('{} in param dict is overridden.'.format(cat_alias))\n",
      "feature_fraction, val_score: 1.941156: 100%|################################################################################################| 7/7 [00:01<00:00,  4.01it/s]\u001b[32m[I 2021-08-18 21:39:52,033]\u001b[0m Trial 6 finished with value: 1.9503043077020463 and parameters: {'feature_fraction': 0.8}. Best is trial 3 with value: 1.9411556080750825.\u001b[0m\n",
      "feature_fraction, val_score: 1.941156: 100%|################################################################################################| 7/7 [00:01<00:00,  3.76it/s]\n"
     ]
    },
    {
     "name": "stdout",
     "output_type": "stream",
     "text": [
      "[LightGBM] [Info] Start training from score 7.112893\n"
     ]
    },
    {
     "name": "stderr",
     "output_type": "stream",
     "text": [
      "num_leaves, val_score: 1.941156:   0%|                                                                                                             | 0/20 [00:00<?, ?it/s]/usr/local/lib/python3.9/site-packages/lightgbm/basic.py:1433: UserWarning: Overriding the parameters from Reference Dataset.\n",
      "  _log_warning('Overriding the parameters from Reference Dataset.')\n"
     ]
    },
    {
     "name": "stdout",
     "output_type": "stream",
     "text": [
      "[LightGBM] [Warning] Auto-choosing col-wise multi-threading, the overhead of testing was 0.001426 seconds.\n",
      "You can set `force_col_wise=true` to remove the overhead.\n",
      "[LightGBM] [Info] Total Bins 192\n",
      "[LightGBM] [Info] Number of data points in the train set: 11223, number of used features: 11\n"
     ]
    },
    {
     "name": "stderr",
     "output_type": "stream",
     "text": [
      "/usr/local/lib/python3.9/site-packages/lightgbm/basic.py:1245: UserWarning: categorical_column in param dict is overridden.\n",
      "  _log_warning('{} in param dict is overridden.'.format(cat_alias))\n",
      "num_leaves, val_score: 1.937884:   5%|#####                                                                                                | 1/20 [00:00<00:03,  5.31it/s]\u001b[32m[I 2021-08-18 21:39:52,228]\u001b[0m Trial 7 finished with value: 1.9378836396993497 and parameters: {'num_leaves': 14}. Best is trial 7 with value: 1.9378836396993497.\u001b[0m\n",
      "num_leaves, val_score: 1.937884:   5%|#####                                                                                                | 1/20 [00:00<00:03,  5.31it/s]"
     ]
    },
    {
     "name": "stdout",
     "output_type": "stream",
     "text": [
      "[LightGBM] [Info] Start training from score 7.112893\n",
      "[LightGBM] [Warning] Auto-choosing col-wise multi-threading, the overhead of testing was 0.001019 seconds.\n",
      "You can set `force_col_wise=true` to remove the overhead.\n",
      "[LightGBM] [Info] Total Bins 192\n",
      "[LightGBM] [Info] Number of data points in the train set: 11223, number of used features: 11\n"
     ]
    },
    {
     "name": "stderr",
     "output_type": "stream",
     "text": [
      "/usr/local/lib/python3.9/site-packages/lightgbm/basic.py:1433: UserWarning: Overriding the parameters from Reference Dataset.\n",
      "  _log_warning('Overriding the parameters from Reference Dataset.')\n",
      "/usr/local/lib/python3.9/site-packages/lightgbm/basic.py:1245: UserWarning: categorical_column in param dict is overridden.\n",
      "  _log_warning('{} in param dict is overridden.'.format(cat_alias))\n"
     ]
    },
    {
     "name": "stdout",
     "output_type": "stream",
     "text": [
      "[LightGBM] [Info] Start training from score 7.112893\n",
      "[LightGBM] [Warning] No further splits with positive gain, best gain: -inf\n",
      "[LightGBM] [Warning] No further splits with positive gain, best gain: -inf\n",
      "[LightGBM] [Warning] No further splits with positive gain, best gain: -inf\n",
      "[LightGBM] [Warning] No further splits with positive gain, best gain: -inf\n",
      "[LightGBM] [Warning] No further splits with positive gain, best gain: -inf\n",
      "[LightGBM] [Warning] No further splits with positive gain, best gain: -inf\n",
      "[LightGBM] [Warning] No further splits with positive gain, best gain: -inf\n",
      "[LightGBM] [Warning] No further splits with positive gain, best gain: -inf\n"
     ]
    },
    {
     "name": "stderr",
     "output_type": "stream",
     "text": [
      "num_leaves, val_score: 1.937884:  10%|##########1                                                                                          | 2/20 [00:00<00:04,  3.77it/s]\u001b[32m[I 2021-08-18 21:39:52,547]\u001b[0m Trial 8 finished with value: 1.9499357014990222 and parameters: {'num_leaves': 97}. Best is trial 7 with value: 1.9378836396993497.\u001b[0m\n",
      "num_leaves, val_score: 1.937884:  10%|##########1                                                                                          | 2/20 [00:00<00:04,  3.77it/s]/usr/local/lib/python3.9/site-packages/lightgbm/basic.py:1433: UserWarning: Overriding the parameters from Reference Dataset.\n",
      "  _log_warning('Overriding the parameters from Reference Dataset.')\n",
      "/usr/local/lib/python3.9/site-packages/lightgbm/basic.py:1245: UserWarning: categorical_column in param dict is overridden.\n",
      "  _log_warning('{} in param dict is overridden.'.format(cat_alias))\n",
      "num_leaves, val_score: 1.937884:  15%|###############1                                                                                     | 3/20 [00:00<00:03,  4.93it/s]\u001b[32m[I 2021-08-18 21:39:52,676]\u001b[0m Trial 9 finished with value: 1.9511222664423948 and parameters: {'num_leaves': 4}. Best is trial 7 with value: 1.9378836396993497.\u001b[0m\n",
      "num_leaves, val_score: 1.937884:  15%|###############1                                                                                     | 3/20 [00:00<00:03,  4.93it/s]/usr/local/lib/python3.9/site-packages/lightgbm/basic.py:1433: UserWarning: Overriding the parameters from Reference Dataset.\n",
      "  _log_warning('Overriding the parameters from Reference Dataset.')\n",
      "/usr/local/lib/python3.9/site-packages/lightgbm/basic.py:1245: UserWarning: categorical_column in param dict is overridden.\n",
      "  _log_warning('{} in param dict is overridden.'.format(cat_alias))\n"
     ]
    },
    {
     "name": "stdout",
     "output_type": "stream",
     "text": [
      "[LightGBM] [Warning] Auto-choosing col-wise multi-threading, the overhead of testing was 0.000991 seconds.\n",
      "You can set `force_col_wise=true` to remove the overhead.\n",
      "[LightGBM] [Info] Total Bins 192\n",
      "[LightGBM] [Info] Number of data points in the train set: 11223, number of used features: 11\n",
      "[LightGBM] [Info] Start training from score 7.112893\n",
      "[LightGBM] [Warning] Auto-choosing col-wise multi-threading, the overhead of testing was 0.000891 seconds.\n",
      "You can set `force_col_wise=true` to remove the overhead.\n",
      "[LightGBM] [Info] Total Bins 192\n",
      "[LightGBM] [Info] Number of data points in the train set: 11223, number of used features: 11\n",
      "[LightGBM] [Info] Start training from score 7.112893\n",
      "[LightGBM] [Warning] No further splits with positive gain, best gain: -inf\n",
      "[LightGBM] [Warning] No further splits with positive gain, best gain: -inf\n"
     ]
    },
    {
     "name": "stderr",
     "output_type": "stream",
     "text": [
      "num_leaves, val_score: 1.937884:  20%|####################2                                                                                | 4/20 [00:00<00:03,  4.28it/s]\u001b[32m[I 2021-08-18 21:39:52,956]\u001b[0m Trial 10 finished with value: 1.9457445877313528 and parameters: {'num_leaves': 107}. Best is trial 7 with value: 1.9378836396993497.\u001b[0m\n",
      "num_leaves, val_score: 1.937884:  20%|####################2                                                                                | 4/20 [00:00<00:03,  4.28it/s]"
     ]
    },
    {
     "name": "stdout",
     "output_type": "stream",
     "text": [
      "[LightGBM] [Warning] No further splits with positive gain, best gain: -inf\n",
      "[LightGBM] [Warning] No further splits with positive gain, best gain: -inf\n",
      "[LightGBM] [Warning] No further splits with positive gain, best gain: -inf\n",
      "[LightGBM] [Warning] No further splits with positive gain, best gain: -inf\n",
      "[LightGBM] [Warning] No further splits with positive gain, best gain: -inf\n",
      "[LightGBM] [Warning] No further splits with positive gain, best gain: -inf\n",
      "[LightGBM] [Warning] No further splits with positive gain, best gain: -inf\n",
      "[LightGBM] [Warning] Auto-choosing col-wise multi-threading, the overhead of testing was 0.001008 seconds.\n",
      "You can set `force_col_wise=true` to remove the overhead.\n",
      "[LightGBM] [Info] Total Bins 192\n",
      "[LightGBM] [Info] Number of data points in the train set: 11223, number of used features: 11\n"
     ]
    },
    {
     "name": "stderr",
     "output_type": "stream",
     "text": [
      "/usr/local/lib/python3.9/site-packages/lightgbm/basic.py:1433: UserWarning: Overriding the parameters from Reference Dataset.\n",
      "  _log_warning('Overriding the parameters from Reference Dataset.')\n",
      "/usr/local/lib/python3.9/site-packages/lightgbm/basic.py:1245: UserWarning: categorical_column in param dict is overridden.\n",
      "  _log_warning('{} in param dict is overridden.'.format(cat_alias))\n"
     ]
    },
    {
     "name": "stdout",
     "output_type": "stream",
     "text": [
      "[LightGBM] [Info] Start training from score 7.112893\n",
      "[LightGBM] [Warning] No further splits with positive gain, best gain: -inf\n",
      "[LightGBM] [Warning] No further splits with positive gain, best gain: -inf\n",
      "[LightGBM] [Warning] No further splits with positive gain, best gain: -inf\n",
      "[LightGBM] [Warning] No further splits with positive gain, best gain: -inf\n",
      "[LightGBM] [Warning] No further splits with positive gain, best gain: -inf\n",
      "[LightGBM] [Warning] No further splits with positive gain, best gain: -inf\n",
      "[LightGBM] [Warning] No further splits with positive gain, best gain: -inf\n",
      "[LightGBM] [Warning] No further splits with positive gain, best gain: -inf\n",
      "[LightGBM] [Warning] No further splits with positive gain, best gain: -inf\n",
      "[LightGBM] [Warning] No further splits with positive gain, best gain: -inf\n",
      "[LightGBM] [Warning] No further splits with positive gain, best gain: -inf\n",
      "[LightGBM] [Warning] No further splits with positive gain, best gain: -inf\n",
      "[LightGBM] [Warning] No further splits with positive gain, best gain: -inf\n",
      "[LightGBM] [Warning] No further splits with positive gain, best gain: -inf\n",
      "[LightGBM] [Warning] No further splits with positive gain, best gain: -inf\n",
      "[LightGBM] [Warning] No further splits with positive gain, best gain: -inf\n",
      "[LightGBM] [Warning] No further splits with positive gain, best gain: -inf\n",
      "[LightGBM] [Warning] No further splits with positive gain, best gain: -inf\n",
      "[LightGBM] [Warning] No further splits with positive gain, best gain: -inf\n",
      "[LightGBM] [Warning] No further splits with positive gain, best gain: -inf\n",
      "[LightGBM] [Warning] No further splits with positive gain, best gain: -inf\n",
      "[LightGBM] [Warning] No further splits with positive gain, best gain: -inf\n",
      "[LightGBM] [Warning] No further splits with positive gain, best gain: -inf\n",
      "[LightGBM] [Warning] No further splits with positive gain, best gain: -inf\n",
      "[LightGBM] [Warning] No further splits with positive gain, best gain: -inf\n",
      "[LightGBM] [Warning] No further splits with positive gain, best gain: -inf\n",
      "[LightGBM] [Warning] No further splits with positive gain, best gain: -inf\n",
      "[LightGBM] [Warning] No further splits with positive gain, best gain: -inf\n",
      "[LightGBM] [Warning] No further splits with positive gain, best gain: -inf\n",
      "[LightGBM] [Warning] No further splits with positive gain, best gain: -inf\n",
      "[LightGBM] [Warning] No further splits with positive gain, best gain: -inf\n",
      "[LightGBM] [Warning] No further splits with positive gain, best gain: -inf\n",
      "[LightGBM] [Warning] No further splits with positive gain, best gain: -inf\n",
      "[LightGBM] [Warning] No further splits with positive gain, best gain: -inf\n",
      "[LightGBM] [Warning] No further splits with positive gain, best gain: -inf\n",
      "[LightGBM] [Warning] No further splits with positive gain, best gain: -inf\n",
      "[LightGBM] [Warning] No further splits with positive gain, best gain: -inf\n",
      "[LightGBM] [Warning] No further splits with positive gain, best gain: -inf\n",
      "[LightGBM] [Warning] No further splits with positive gain, best gain: -inf\n",
      "[LightGBM] [Warning] No further splits with positive gain, best gain: -inf\n",
      "[LightGBM] [Warning] No further splits with positive gain, best gain: -inf\n"
     ]
    },
    {
     "name": "stderr",
     "output_type": "stream",
     "text": [
      "num_leaves, val_score: 1.937884:  25%|#########################2                                                                           | 5/20 [00:01<00:04,  3.29it/s]\u001b[32m[I 2021-08-18 21:39:53,384]\u001b[0m Trial 11 finished with value: 1.9498136170758817 and parameters: {'num_leaves': 214}. Best is trial 7 with value: 1.9378836396993497.\u001b[0m\n",
      "num_leaves, val_score: 1.937884:  25%|#########################2                                                                           | 5/20 [00:01<00:04,  3.29it/s]"
     ]
    },
    {
     "name": "stdout",
     "output_type": "stream",
     "text": [
      "[LightGBM] [Warning] No further splits with positive gain, best gain: -inf\n",
      "[LightGBM] [Warning] No further splits with positive gain, best gain: -inf\n",
      "[LightGBM] [Warning] No further splits with positive gain, best gain: -inf\n",
      "[LightGBM] [Warning] No further splits with positive gain, best gain: -inf\n",
      "[LightGBM] [Warning] No further splits with positive gain, best gain: -inf\n",
      "[LightGBM] [Warning] No further splits with positive gain, best gain: -inf\n",
      "[LightGBM] [Warning] No further splits with positive gain, best gain: -inf\n",
      "[LightGBM] [Warning] No further splits with positive gain, best gain: -inf\n",
      "[LightGBM] [Warning] No further splits with positive gain, best gain: -inf\n",
      "[LightGBM] [Warning] No further splits with positive gain, best gain: -inf\n",
      "[LightGBM] [Warning] No further splits with positive gain, best gain: -inf\n",
      "[LightGBM] [Warning] No further splits with positive gain, best gain: -inf\n",
      "[LightGBM] [Warning] No further splits with positive gain, best gain: -inf\n",
      "[LightGBM] [Warning] No further splits with positive gain, best gain: -inf\n",
      "[LightGBM] [Warning] Auto-choosing col-wise multi-threading, the overhead of testing was 0.001115 seconds.\n",
      "You can set `force_col_wise=true` to remove the overhead.\n",
      "[LightGBM] [Info] Total Bins 192\n",
      "[LightGBM] [Info] Number of data points in the train set: 11223, number of used features: 11\n"
     ]
    },
    {
     "name": "stderr",
     "output_type": "stream",
     "text": [
      "/usr/local/lib/python3.9/site-packages/lightgbm/basic.py:1433: UserWarning: Overriding the parameters from Reference Dataset.\n",
      "  _log_warning('Overriding the parameters from Reference Dataset.')\n",
      "/usr/local/lib/python3.9/site-packages/lightgbm/basic.py:1245: UserWarning: categorical_column in param dict is overridden.\n",
      "  _log_warning('{} in param dict is overridden.'.format(cat_alias))\n",
      "num_leaves, val_score: 1.937884:  30%|##############################3                                                                      | 6/20 [00:01<00:03,  3.84it/s]\u001b[32m[I 2021-08-18 21:39:53,560]\u001b[0m Trial 12 finished with value: 1.9471572322565582 and parameters: {'num_leaves': 26}. Best is trial 7 with value: 1.9378836396993497.\u001b[0m\n",
      "num_leaves, val_score: 1.937884:  30%|##############################3                                                                      | 6/20 [00:01<00:03,  3.84it/s]/usr/local/lib/python3.9/site-packages/lightgbm/basic.py:1433: UserWarning: Overriding the parameters from Reference Dataset.\n",
      "  _log_warning('Overriding the parameters from Reference Dataset.')\n",
      "/usr/local/lib/python3.9/site-packages/lightgbm/basic.py:1245: UserWarning: categorical_column in param dict is overridden.\n",
      "  _log_warning('{} in param dict is overridden.'.format(cat_alias))\n"
     ]
    },
    {
     "name": "stdout",
     "output_type": "stream",
     "text": [
      "[LightGBM] [Info] Start training from score 7.112893\n",
      "[LightGBM] [Warning] Auto-choosing col-wise multi-threading, the overhead of testing was 0.001157 seconds.\n",
      "You can set `force_col_wise=true` to remove the overhead.\n",
      "[LightGBM] [Info] Total Bins 192\n",
      "[LightGBM] [Info] Number of data points in the train set: 11223, number of used features: 11\n",
      "[LightGBM] [Info] Start training from score 7.112893\n",
      "[LightGBM] [Warning] No further splits with positive gain, best gain: -inf\n",
      "[LightGBM] [Warning] No further splits with positive gain, best gain: -inf\n",
      "[LightGBM] [Warning] No further splits with positive gain, best gain: -inf\n",
      "[LightGBM] [Warning] No further splits with positive gain, best gain: -inf\n",
      "[LightGBM] [Warning] No further splits with positive gain, best gain: -inf\n",
      "[LightGBM] [Warning] No further splits with positive gain, best gain: -inf\n",
      "[LightGBM] [Warning] No further splits with positive gain, best gain: -inf\n",
      "[LightGBM] [Warning] No further splits with positive gain, best gain: -inf\n",
      "[LightGBM] [Warning] No further splits with positive gain, best gain: -inf\n",
      "[LightGBM] [Warning] No further splits with positive gain, best gain: -inf\n",
      "[LightGBM] [Warning] No further splits with positive gain, best gain: -inf\n",
      "[LightGBM] [Warning] No further splits with positive gain, best gain: -inf\n",
      "[LightGBM] [Warning] No further splits with positive gain, best gain: -inf\n",
      "[LightGBM] [Warning] No further splits with positive gain, best gain: -inf\n",
      "[LightGBM] [Warning] No further splits with positive gain, best gain: -inf\n",
      "[LightGBM] [Warning] No further splits with positive gain, best gain: -inf\n",
      "[LightGBM] [Warning] No further splits with positive gain, best gain: -inf\n",
      "[LightGBM] [Warning] No further splits with positive gain, best gain: -inf\n",
      "[LightGBM] [Warning] No further splits with positive gain, best gain: -inf\n",
      "[LightGBM] [Warning] No further splits with positive gain, best gain: -inf\n",
      "[LightGBM] [Warning] No further splits with positive gain, best gain: -inf\n",
      "[LightGBM] [Warning] No further splits with positive gain, best gain: -inf\n",
      "[LightGBM] [Warning] No further splits with positive gain, best gain: -inf\n",
      "[LightGBM] [Warning] No further splits with positive gain, best gain: -inf\n",
      "[LightGBM] [Warning] No further splits with positive gain, best gain: -inf\n",
      "[LightGBM] [Warning] No further splits with positive gain, best gain: -inf\n",
      "[LightGBM] [Warning] No further splits with positive gain, best gain: -inf\n",
      "[LightGBM] [Warning] No further splits with positive gain, best gain: -inf\n",
      "[LightGBM] [Warning] No further splits with positive gain, best gain: -inf\n",
      "[LightGBM] [Warning] No further splits with positive gain, best gain: -inf\n",
      "[LightGBM] [Warning] No further splits with positive gain, best gain: -inf\n",
      "[LightGBM] [Warning] No further splits with positive gain, best gain: -inf\n",
      "[LightGBM] [Warning] No further splits with positive gain, best gain: -inf\n",
      "[LightGBM] [Warning] No further splits with positive gain, best gain: -inf\n",
      "[LightGBM] [Warning] No further splits with positive gain, best gain: -inf\n",
      "[LightGBM] [Warning] No further splits with positive gain, best gain: -inf\n",
      "[LightGBM] [Warning] No further splits with positive gain, best gain: -inf\n",
      "[LightGBM] [Warning] No further splits with positive gain, best gain: -inf\n",
      "[LightGBM] [Warning] No further splits with positive gain, best gain: -inf\n",
      "[LightGBM] [Warning] No further splits with positive gain, best gain: -inf\n",
      "[LightGBM] [Warning] No further splits with positive gain, best gain: -inf\n",
      "[LightGBM] [Warning] No further splits with positive gain, best gain: -inf\n",
      "[LightGBM] [Warning] No further splits with positive gain, best gain: -inf\n",
      "[LightGBM] [Warning] No further splits with positive gain, best gain: -inf\n"
     ]
    },
    {
     "name": "stderr",
     "output_type": "stream",
     "text": [
      "num_leaves, val_score: 1.937884:  35%|###################################3                                                                 | 7/20 [00:01<00:04,  3.16it/s]\u001b[32m[I 2021-08-18 21:39:53,993]\u001b[0m Trial 13 finished with value: 1.9496727659942208 and parameters: {'num_leaves': 208}. Best is trial 7 with value: 1.9378836396993497.\u001b[0m\n",
      "num_leaves, val_score: 1.937884:  35%|###################################3                                                                 | 7/20 [00:01<00:04,  3.16it/s]"
     ]
    },
    {
     "name": "stdout",
     "output_type": "stream",
     "text": [
      "[LightGBM] [Warning] No further splits with positive gain, best gain: -inf\n",
      "[LightGBM] [Warning] No further splits with positive gain, best gain: -inf\n",
      "[LightGBM] [Warning] No further splits with positive gain, best gain: -inf\n",
      "[LightGBM] [Warning] No further splits with positive gain, best gain: -inf\n",
      "[LightGBM] [Warning] No further splits with positive gain, best gain: -inf\n",
      "[LightGBM] [Warning] No further splits with positive gain, best gain: -inf\n",
      "[LightGBM] [Warning] No further splits with positive gain, best gain: -inf\n",
      "[LightGBM] [Warning] No further splits with positive gain, best gain: -inf\n",
      "[LightGBM] [Warning] No further splits with positive gain, best gain: -inf\n",
      "[LightGBM] [Warning] No further splits with positive gain, best gain: -inf\n",
      "[LightGBM] [Warning] No further splits with positive gain, best gain: -inf\n",
      "[LightGBM] [Warning] Auto-choosing col-wise multi-threading, the overhead of testing was 0.000982 seconds.\n",
      "You can set `force_col_wise=true` to remove the overhead.\n",
      "[LightGBM] [Info] Total Bins 192\n",
      "[LightGBM] [Info] Number of data points in the train set: 11223, number of used features: 11\n",
      "[LightGBM] [Info] Start training from score 7.112893\n"
     ]
    },
    {
     "name": "stderr",
     "output_type": "stream",
     "text": [
      "/usr/local/lib/python3.9/site-packages/lightgbm/basic.py:1433: UserWarning: Overriding the parameters from Reference Dataset.\n",
      "  _log_warning('Overriding the parameters from Reference Dataset.')\n",
      "/usr/local/lib/python3.9/site-packages/lightgbm/basic.py:1245: UserWarning: categorical_column in param dict is overridden.\n",
      "  _log_warning('{} in param dict is overridden.'.format(cat_alias))\n",
      "num_leaves, val_score: 1.937884:  40%|########################################4                                                            | 8/20 [00:02<00:03,  3.48it/s]\u001b[32m[I 2021-08-18 21:39:54,218]\u001b[0m Trial 14 finished with value: 1.9448863378817456 and parameters: {'num_leaves': 50}. Best is trial 7 with value: 1.9378836396993497.\u001b[0m\n",
      "num_leaves, val_score: 1.937884:  40%|########################################4                                                            | 8/20 [00:02<00:03,  3.48it/s]/usr/local/lib/python3.9/site-packages/lightgbm/basic.py:1433: UserWarning: Overriding the parameters from Reference Dataset.\n",
      "  _log_warning('Overriding the parameters from Reference Dataset.')\n",
      "/usr/local/lib/python3.9/site-packages/lightgbm/basic.py:1245: UserWarning: categorical_column in param dict is overridden.\n",
      "  _log_warning('{} in param dict is overridden.'.format(cat_alias))\n"
     ]
    },
    {
     "name": "stdout",
     "output_type": "stream",
     "text": [
      "[LightGBM] [Warning] Auto-choosing col-wise multi-threading, the overhead of testing was 0.000908 seconds.\n",
      "You can set `force_col_wise=true` to remove the overhead.\n",
      "[LightGBM] [Info] Total Bins 192\n",
      "[LightGBM] [Info] Number of data points in the train set: 11223, number of used features: 11\n",
      "[LightGBM] [Info] Start training from score 7.112893\n",
      "[LightGBM] [Warning] No further splits with positive gain, best gain: -inf\n",
      "[LightGBM] [Warning] No further splits with positive gain, best gain: -inf\n",
      "[LightGBM] [Warning] No further splits with positive gain, best gain: -inf\n",
      "[LightGBM] [Warning] No further splits with positive gain, best gain: -inf\n",
      "[LightGBM] [Warning] No further splits with positive gain, best gain: -inf\n",
      "[LightGBM] [Warning] No further splits with positive gain, best gain: -inf\n",
      "[LightGBM] [Warning] No further splits with positive gain, best gain: -inf\n",
      "[LightGBM] [Warning] No further splits with positive gain, best gain: -inf\n",
      "[LightGBM] [Warning] No further splits with positive gain, best gain: -inf\n",
      "[LightGBM] [Warning] No further splits with positive gain, best gain: -inf\n",
      "[LightGBM] [Warning] No further splits with positive gain, best gain: -inf\n",
      "[LightGBM] [Warning] No further splits with positive gain, best gain: -inf\n",
      "[LightGBM] [Warning] No further splits with positive gain, best gain: -inf\n",
      "[LightGBM] [Warning] No further splits with positive gain, best gain: -inf\n",
      "[LightGBM] [Warning] No further splits with positive gain, best gain: -inf\n",
      "[LightGBM] [Warning] No further splits with positive gain, best gain: -inf\n",
      "[LightGBM] [Warning] No further splits with positive gain, best gain: -inf\n",
      "[LightGBM] [Warning] No further splits with positive gain, best gain: -inf\n",
      "[LightGBM] [Warning] No further splits with positive gain, best gain: -inf\n"
     ]
    },
    {
     "name": "stderr",
     "output_type": "stream",
     "text": [
      "num_leaves, val_score: 1.937884:  45%|#############################################4                                                       | 9/20 [00:02<00:03,  3.38it/s]\u001b[32m[I 2021-08-18 21:39:54,534]\u001b[0m Trial 15 finished with value: 1.951951635509955 and parameters: {'num_leaves': 150}. Best is trial 7 with value: 1.9378836396993497.\u001b[0m\n",
      "num_leaves, val_score: 1.937884:  45%|#############################################4                                                       | 9/20 [00:02<00:03,  3.38it/s]/usr/local/lib/python3.9/site-packages/lightgbm/basic.py:1433: UserWarning: Overriding the parameters from Reference Dataset.\n",
      "  _log_warning('Overriding the parameters from Reference Dataset.')\n",
      "/usr/local/lib/python3.9/site-packages/lightgbm/basic.py:1245: UserWarning: categorical_column in param dict is overridden.\n",
      "  _log_warning('{} in param dict is overridden.'.format(cat_alias))\n",
      "num_leaves, val_score: 1.937884:  50%|##################################################                                                  | 10/20 [00:02<00:02,  3.91it/s]\u001b[32m[I 2021-08-18 21:39:54,699]\u001b[0m Trial 16 finished with value: 1.9484937407520722 and parameters: {'num_leaves': 38}. Best is trial 7 with value: 1.9378836396993497.\u001b[0m\n",
      "num_leaves, val_score: 1.937884:  50%|##################################################                                                  | 10/20 [00:02<00:02,  3.91it/s]/usr/local/lib/python3.9/site-packages/lightgbm/basic.py:1433: UserWarning: Overriding the parameters from Reference Dataset.\n",
      "  _log_warning('Overriding the parameters from Reference Dataset.')\n"
     ]
    },
    {
     "name": "stdout",
     "output_type": "stream",
     "text": [
      "[LightGBM] [Warning] Auto-choosing col-wise multi-threading, the overhead of testing was 0.000945 seconds.\n",
      "You can set `force_col_wise=true` to remove the overhead.\n",
      "[LightGBM] [Info] Total Bins 192\n",
      "[LightGBM] [Info] Number of data points in the train set: 11223, number of used features: 11\n",
      "[LightGBM] [Info] Start training from score 7.112893\n",
      "[LightGBM] [Warning] Auto-choosing col-wise multi-threading, the overhead of testing was 0.000950 seconds.\n",
      "You can set `force_col_wise=true` to remove the overhead.\n",
      "[LightGBM] [Info] Total Bins 192\n",
      "[LightGBM] [Info] Number of data points in the train set: 11223, number of used features: 11\n"
     ]
    },
    {
     "name": "stderr",
     "output_type": "stream",
     "text": [
      "/usr/local/lib/python3.9/site-packages/lightgbm/basic.py:1245: UserWarning: categorical_column in param dict is overridden.\n",
      "  _log_warning('{} in param dict is overridden.'.format(cat_alias))\n"
     ]
    },
    {
     "name": "stdout",
     "output_type": "stream",
     "text": [
      "[LightGBM] [Info] Start training from score 7.112893\n",
      "[LightGBM] [Warning] No further splits with positive gain, best gain: -inf\n",
      "[LightGBM] [Warning] No further splits with positive gain, best gain: -inf\n",
      "[LightGBM] [Warning] No further splits with positive gain, best gain: -inf\n",
      "[LightGBM] [Warning] No further splits with positive gain, best gain: -inf\n",
      "[LightGBM] [Warning] No further splits with positive gain, best gain: -inf\n",
      "[LightGBM] [Warning] No further splits with positive gain, best gain: -inf\n",
      "[LightGBM] [Warning] No further splits with positive gain, best gain: -inf\n",
      "[LightGBM] [Warning] No further splits with positive gain, best gain: -inf\n",
      "[LightGBM] [Warning] No further splits with positive gain, best gain: -inf\n",
      "[LightGBM] [Warning] No further splits with positive gain, best gain: -inf\n",
      "[LightGBM] [Warning] No further splits with positive gain, best gain: -inf\n",
      "[LightGBM] [Warning] No further splits with positive gain, best gain: -inf\n",
      "[LightGBM] [Warning] No further splits with positive gain, best gain: -inf\n",
      "[LightGBM] [Warning] No further splits with positive gain, best gain: -inf\n",
      "[LightGBM] [Warning] No further splits with positive gain, best gain: -inf\n",
      "[LightGBM] [Warning] No further splits with positive gain, best gain: -inf\n",
      "[LightGBM] [Warning] No further splits with positive gain, best gain: -inf\n",
      "[LightGBM] [Warning] No further splits with positive gain, best gain: -inf\n"
     ]
    },
    {
     "name": "stderr",
     "output_type": "stream",
     "text": [
      "num_leaves, val_score: 1.937884:  55%|#######################################################                                             | 11/20 [00:03<00:02,  3.27it/s]\u001b[32m[I 2021-08-18 21:39:55,119]\u001b[0m Trial 17 finished with value: 1.9545638142176478 and parameters: {'num_leaves': 153}. Best is trial 7 with value: 1.9378836396993497.\u001b[0m\n",
      "num_leaves, val_score: 1.937884:  55%|#######################################################                                             | 11/20 [00:03<00:02,  3.27it/s]"
     ]
    },
    {
     "name": "stdout",
     "output_type": "stream",
     "text": [
      "[LightGBM] [Warning] No further splits with positive gain, best gain: -inf\n",
      "[LightGBM] [Warning] No further splits with positive gain, best gain: -inf\n",
      "[LightGBM] [Warning] Auto-choosing col-wise multi-threading, the overhead of testing was 0.000926 seconds.\n",
      "You can set `force_col_wise=true` to remove the overhead.\n",
      "[LightGBM] [Info] Total Bins 192\n",
      "[LightGBM] [Info] Number of data points in the train set: 11223, number of used features: 11\n",
      "[LightGBM] [Info] Start training from score 7.112893\n"
     ]
    },
    {
     "name": "stderr",
     "output_type": "stream",
     "text": [
      "/usr/local/lib/python3.9/site-packages/lightgbm/basic.py:1433: UserWarning: Overriding the parameters from Reference Dataset.\n",
      "  _log_warning('Overriding the parameters from Reference Dataset.')\n",
      "/usr/local/lib/python3.9/site-packages/lightgbm/basic.py:1245: UserWarning: categorical_column in param dict is overridden.\n",
      "  _log_warning('{} in param dict is overridden.'.format(cat_alias))\n",
      "num_leaves, val_score: 1.937884:  60%|############################################################                                        | 12/20 [00:03<00:02,  3.28it/s]\u001b[32m[I 2021-08-18 21:39:55,422]\u001b[0m Trial 18 finished with value: 1.9469767796990225 and parameters: {'num_leaves': 57}. Best is trial 7 with value: 1.9378836396993497.\u001b[0m\n",
      "num_leaves, val_score: 1.937884:  60%|############################################################                                        | 12/20 [00:03<00:02,  3.28it/s]/usr/local/lib/python3.9/site-packages/lightgbm/basic.py:1433: UserWarning: Overriding the parameters from Reference Dataset.\n",
      "  _log_warning('Overriding the parameters from Reference Dataset.')\n",
      "/usr/local/lib/python3.9/site-packages/lightgbm/basic.py:1245: UserWarning: categorical_column in param dict is overridden.\n",
      "  _log_warning('{} in param dict is overridden.'.format(cat_alias))\n"
     ]
    },
    {
     "name": "stdout",
     "output_type": "stream",
     "text": [
      "[LightGBM] [Warning] Auto-choosing col-wise multi-threading, the overhead of testing was 0.002714 seconds.\n",
      "You can set `force_col_wise=true` to remove the overhead.\n",
      "[LightGBM] [Info] Total Bins 192\n",
      "[LightGBM] [Info] Number of data points in the train set: 11223, number of used features: 11\n",
      "[LightGBM] [Info] Start training from score 7.112893\n"
     ]
    },
    {
     "name": "stderr",
     "output_type": "stream",
     "text": [
      "num_leaves, val_score: 1.937884:  65%|#################################################################                                   | 13/20 [00:03<00:02,  3.31it/s]\u001b[32m[I 2021-08-18 21:39:55,718]\u001b[0m Trial 19 finished with value: 1.9498949079391896 and parameters: {'num_leaves': 69}. Best is trial 7 with value: 1.9378836396993497.\u001b[0m\n",
      "num_leaves, val_score: 1.937884:  65%|#################################################################                                   | 13/20 [00:03<00:02,  3.31it/s]/usr/local/lib/python3.9/site-packages/lightgbm/basic.py:1433: UserWarning: Overriding the parameters from Reference Dataset.\n",
      "  _log_warning('Overriding the parameters from Reference Dataset.')\n",
      "/usr/local/lib/python3.9/site-packages/lightgbm/basic.py:1245: UserWarning: categorical_column in param dict is overridden.\n",
      "  _log_warning('{} in param dict is overridden.'.format(cat_alias))\n"
     ]
    },
    {
     "name": "stdout",
     "output_type": "stream",
     "text": [
      "[LightGBM] [Warning] Auto-choosing col-wise multi-threading, the overhead of testing was 0.000924 seconds.\n",
      "You can set `force_col_wise=true` to remove the overhead.\n",
      "[LightGBM] [Info] Total Bins 192\n",
      "[LightGBM] [Info] Number of data points in the train set: 11223, number of used features: 11\n",
      "[LightGBM] [Info] Start training from score 7.112893\n"
     ]
    },
    {
     "name": "stderr",
     "output_type": "stream",
     "text": [
      "num_leaves, val_score: 1.937884:  70%|######################################################################                              | 14/20 [00:04<00:02,  2.96it/s]\u001b[32m[I 2021-08-18 21:39:56,141]\u001b[0m Trial 20 finished with value: 1.9557271732620434 and parameters: {'num_leaves': 2}. Best is trial 7 with value: 1.9378836396993497.\u001b[0m\n",
      "num_leaves, val_score: 1.937884:  70%|######################################################################                              | 14/20 [00:04<00:02,  2.96it/s]/usr/local/lib/python3.9/site-packages/lightgbm/basic.py:1433: UserWarning: Overriding the parameters from Reference Dataset.\n",
      "  _log_warning('Overriding the parameters from Reference Dataset.')\n",
      "/usr/local/lib/python3.9/site-packages/lightgbm/basic.py:1245: UserWarning: categorical_column in param dict is overridden.\n",
      "  _log_warning('{} in param dict is overridden.'.format(cat_alias))\n"
     ]
    },
    {
     "name": "stdout",
     "output_type": "stream",
     "text": [
      "[LightGBM] [Warning] Auto-choosing col-wise multi-threading, the overhead of testing was 0.001800 seconds.\n",
      "You can set `force_col_wise=true` to remove the overhead.\n",
      "[LightGBM] [Info] Total Bins 192\n",
      "[LightGBM] [Info] Number of data points in the train set: 11223, number of used features: 11\n",
      "[LightGBM] [Info] Start training from score 7.112893\n"
     ]
    },
    {
     "name": "stderr",
     "output_type": "stream",
     "text": [
      "num_leaves, val_score: 1.937884:  75%|###########################################################################                         | 15/20 [00:04<00:01,  2.99it/s]\u001b[32m[I 2021-08-18 21:39:56,466]\u001b[0m Trial 21 finished with value: 1.946242942703938 and parameters: {'num_leaves': 74}. Best is trial 7 with value: 1.9378836396993497.\u001b[0m\n",
      "num_leaves, val_score: 1.937884:  75%|###########################################################################                         | 15/20 [00:04<00:01,  2.99it/s]/usr/local/lib/python3.9/site-packages/lightgbm/basic.py:1433: UserWarning: Overriding the parameters from Reference Dataset.\n",
      "  _log_warning('Overriding the parameters from Reference Dataset.')\n",
      "/usr/local/lib/python3.9/site-packages/lightgbm/basic.py:1245: UserWarning: categorical_column in param dict is overridden.\n",
      "  _log_warning('{} in param dict is overridden.'.format(cat_alias))\n"
     ]
    },
    {
     "name": "stdout",
     "output_type": "stream",
     "text": [
      "[LightGBM] [Warning] Auto-choosing col-wise multi-threading, the overhead of testing was 0.001096 seconds.\n",
      "You can set `force_col_wise=true` to remove the overhead.\n",
      "[LightGBM] [Info] Total Bins 192\n",
      "[LightGBM] [Info] Number of data points in the train set: 11223, number of used features: 11\n",
      "[LightGBM] [Info] Start training from score 7.112893\n"
     ]
    },
    {
     "name": "stderr",
     "output_type": "stream",
     "text": [
      "num_leaves, val_score: 1.937884:  80%|################################################################################                    | 16/20 [00:04<00:01,  3.22it/s]\u001b[32m[I 2021-08-18 21:39:56,719]\u001b[0m Trial 22 finished with value: 1.9456129660996715 and parameters: {'num_leaves': 37}. Best is trial 7 with value: 1.9378836396993497.\u001b[0m\n",
      "num_leaves, val_score: 1.937884:  80%|################################################################################                    | 16/20 [00:04<00:01,  3.22it/s]/usr/local/lib/python3.9/site-packages/lightgbm/basic.py:1433: UserWarning: Overriding the parameters from Reference Dataset.\n",
      "  _log_warning('Overriding the parameters from Reference Dataset.')\n",
      "/usr/local/lib/python3.9/site-packages/lightgbm/basic.py:1245: UserWarning: categorical_column in param dict is overridden.\n",
      "  _log_warning('{} in param dict is overridden.'.format(cat_alias))\n"
     ]
    },
    {
     "name": "stdout",
     "output_type": "stream",
     "text": [
      "[LightGBM] [Warning] Auto-choosing col-wise multi-threading, the overhead of testing was 0.000962 seconds.\n",
      "You can set `force_col_wise=true` to remove the overhead.\n",
      "[LightGBM] [Info] Total Bins 192\n",
      "[LightGBM] [Info] Number of data points in the train set: 11223, number of used features: 11\n",
      "[LightGBM] [Info] Start training from score 7.112893\n",
      "[LightGBM] [Warning] No further splits with positive gain, best gain: -inf\n",
      "[LightGBM] [Warning] No further splits with positive gain, best gain: -inf\n",
      "[LightGBM] [Warning] No further splits with positive gain, best gain: -inf\n",
      "[LightGBM] [Warning] No further splits with positive gain, best gain: -inf\n",
      "[LightGBM] [Warning] No further splits with positive gain, best gain: -inf\n",
      "[LightGBM] [Warning] No further splits with positive gain, best gain: -inf\n",
      "[LightGBM] [Warning] No further splits with positive gain, best gain: -inf\n",
      "[LightGBM] [Warning] No further splits with positive gain, best gain: -inf\n",
      "[LightGBM] [Warning] No further splits with positive gain, best gain: -inf\n",
      "[LightGBM] [Warning] No further splits with positive gain, best gain: -inf\n"
     ]
    },
    {
     "name": "stderr",
     "output_type": "stream",
     "text": [
      "num_leaves, val_score: 1.937884:  85%|#####################################################################################               | 17/20 [00:05<00:00,  3.01it/s]\u001b[32m[I 2021-08-18 21:39:57,104]\u001b[0m Trial 23 finished with value: 1.9507235696723277 and parameters: {'num_leaves': 122}. Best is trial 7 with value: 1.9378836396993497.\u001b[0m\n",
      "num_leaves, val_score: 1.937884:  85%|#####################################################################################               | 17/20 [00:05<00:00,  3.01it/s]/usr/local/lib/python3.9/site-packages/lightgbm/basic.py:1433: UserWarning: Overriding the parameters from Reference Dataset.\n",
      "  _log_warning('Overriding the parameters from Reference Dataset.')\n",
      "/usr/local/lib/python3.9/site-packages/lightgbm/basic.py:1245: UserWarning: categorical_column in param dict is overridden.\n",
      "  _log_warning('{} in param dict is overridden.'.format(cat_alias))\n"
     ]
    },
    {
     "name": "stdout",
     "output_type": "stream",
     "text": [
      "[LightGBM] [Warning] Auto-choosing col-wise multi-threading, the overhead of testing was 0.001632 seconds.\n",
      "You can set `force_col_wise=true` to remove the overhead.\n",
      "[LightGBM] [Info] Total Bins 192\n",
      "[LightGBM] [Info] Number of data points in the train set: 11223, number of used features: 11\n",
      "[LightGBM] [Info] Start training from score 7.112893\n",
      "[LightGBM] [Warning] No further splits with positive gain, best gain: -inf\n",
      "[LightGBM] [Warning] No further splits with positive gain, best gain: -inf\n",
      "[LightGBM] [Warning] No further splits with positive gain, best gain: -inf\n",
      "[LightGBM] [Warning] No further splits with positive gain, best gain: -inf\n",
      "[LightGBM] [Warning] No further splits with positive gain, best gain: -inf\n",
      "[LightGBM] [Warning] No further splits with positive gain, best gain: -inf\n",
      "[LightGBM] [Warning] No further splits with positive gain, best gain: -inf\n",
      "[LightGBM] [Warning] No further splits with positive gain, best gain: -inf\n",
      "[LightGBM] [Warning] No further splits with positive gain, best gain: -inf\n",
      "[LightGBM] [Warning] No further splits with positive gain, best gain: -inf\n",
      "[LightGBM] [Warning] No further splits with positive gain, best gain: -inf\n",
      "[LightGBM] [Warning] No further splits with positive gain, best gain: -inf\n",
      "[LightGBM] [Warning] No further splits with positive gain, best gain: -inf\n",
      "[LightGBM] [Warning] No further splits with positive gain, best gain: -inf\n",
      "[LightGBM] [Warning] No further splits with positive gain, best gain: -inf\n",
      "[LightGBM] [Warning] No further splits with positive gain, best gain: -inf\n",
      "[LightGBM] [Warning] No further splits with positive gain, best gain: -inf\n",
      "[LightGBM] [Warning] No further splits with positive gain, best gain: -inf\n",
      "[LightGBM] [Warning] No further splits with positive gain, best gain: -inf\n",
      "[LightGBM] [Warning] No further splits with positive gain, best gain: -inf\n",
      "[LightGBM] [Warning] No further splits with positive gain, best gain: -inf\n",
      "[LightGBM] [Warning] No further splits with positive gain, best gain: -inf\n",
      "[LightGBM] [Warning] No further splits with positive gain, best gain: -inf\n",
      "[LightGBM] [Warning] No further splits with positive gain, best gain: -inf\n",
      "[LightGBM] [Warning] No further splits with positive gain, best gain: -inf\n",
      "[LightGBM] [Warning] No further splits with positive gain, best gain: -inf\n",
      "[LightGBM] [Warning] No further splits with positive gain, best gain: -inf\n",
      "[LightGBM] [Warning] No further splits with positive gain, best gain: -inf\n",
      "[LightGBM] [Warning] No further splits with positive gain, best gain: -inf\n",
      "[LightGBM] [Warning] No further splits with positive gain, best gain: -inf\n",
      "[LightGBM] [Warning] No further splits with positive gain, best gain: -inf\n",
      "[LightGBM] [Warning] No further splits with positive gain, best gain: -inf\n",
      "[LightGBM] [Warning] No further splits with positive gain, best gain: -inf\n",
      "[LightGBM] [Warning] No further splits with positive gain, best gain: -inf\n",
      "[LightGBM] [Warning] No further splits with positive gain, best gain: -inf\n",
      "[LightGBM] [Warning] No further splits with positive gain, best gain: -inf\n",
      "[LightGBM] [Warning] No further splits with positive gain, best gain: -inf\n",
      "[LightGBM] [Warning] No further splits with positive gain, best gain: -inf\n",
      "[LightGBM] [Warning] No further splits with positive gain, best gain: -inf\n",
      "[LightGBM] [Warning] No further splits with positive gain, best gain: -inf\n",
      "[LightGBM] [Warning] No further splits with positive gain, best gain: -inf\n",
      "[LightGBM] [Warning] No further splits with positive gain, best gain: -inf\n",
      "[LightGBM] [Warning] No further splits with positive gain, best gain: -inf\n",
      "[LightGBM] [Warning] No further splits with positive gain, best gain: -inf\n",
      "[LightGBM] [Warning] No further splits with positive gain, best gain: -inf\n",
      "[LightGBM] [Warning] No further splits with positive gain, best gain: -inf\n",
      "[LightGBM] [Warning] No further splits with positive gain, best gain: -inf\n",
      "[LightGBM] [Warning] No further splits with positive gain, best gain: -inf\n",
      "[LightGBM] [Warning] No further splits with positive gain, best gain: -inf\n",
      "[LightGBM] [Warning] No further splits with positive gain, best gain: -inf\n",
      "[LightGBM] [Warning] No further splits with positive gain, best gain: -inf\n",
      "[LightGBM] [Warning] No further splits with positive gain, best gain: -inf\n",
      "[LightGBM] [Warning] No further splits with positive gain, best gain: -inf\n",
      "[LightGBM] [Warning] No further splits with positive gain, best gain: -inf\n",
      "[LightGBM] [Warning] No further splits with positive gain, best gain: -inf\n",
      "[LightGBM] [Warning] No further splits with positive gain, best gain: -inf\n",
      "[LightGBM] [Warning] No further splits with positive gain, best gain: -inf\n",
      "[LightGBM] [Warning] No further splits with positive gain, best gain: -inf\n",
      "[LightGBM] [Warning] No further splits with positive gain, best gain: -inf\n",
      "[LightGBM] [Warning] No further splits with positive gain, best gain: -inf\n",
      "[LightGBM] [Warning] No further splits with positive gain, best gain: -inf\n",
      "[LightGBM] [Warning] No further splits with positive gain, best gain: -inf\n",
      "[LightGBM] [Warning] No further splits with positive gain, best gain: -inf\n",
      "[LightGBM] [Warning] No further splits with positive gain, best gain: -inf\n",
      "[LightGBM] [Warning] No further splits with positive gain, best gain: -inf\n",
      "[LightGBM] [Warning] No further splits with positive gain, best gain: -inf\n",
      "[LightGBM] [Warning] No further splits with positive gain, best gain: -inf\n",
      "[LightGBM] [Warning] No further splits with positive gain, best gain: -inf\n",
      "[LightGBM] [Warning] No further splits with positive gain, best gain: -inf\n",
      "[LightGBM] [Warning] No further splits with positive gain, best gain: -inf\n",
      "[LightGBM] [Warning] No further splits with positive gain, best gain: -inf\n"
     ]
    },
    {
     "name": "stderr",
     "output_type": "stream",
     "text": [
      "num_leaves, val_score: 1.937884:  90%|##########################################################################################          | 18/20 [00:05<00:00,  2.62it/s]\u001b[32m[I 2021-08-18 21:39:57,599]\u001b[0m Trial 24 finished with value: 1.9489999441332506 and parameters: {'num_leaves': 243}. Best is trial 7 with value: 1.9378836396993497.\u001b[0m\n",
      "num_leaves, val_score: 1.937884:  90%|##########################################################################################          | 18/20 [00:05<00:00,  2.62it/s]"
     ]
    },
    {
     "name": "stdout",
     "output_type": "stream",
     "text": [
      "[LightGBM] [Warning] No further splits with positive gain, best gain: -inf\n",
      "[LightGBM] [Warning] Auto-choosing col-wise multi-threading, the overhead of testing was 0.001075 seconds.\n",
      "You can set `force_col_wise=true` to remove the overhead.\n",
      "[LightGBM] [Info] Total Bins 192\n",
      "[LightGBM] [Info] Number of data points in the train set: 11223, number of used features: 11\n",
      "[LightGBM] [Info] Start training from score 7.112893\n",
      "[LightGBM] [Warning] No further splits with positive gain, best gain: -inf\n",
      "[LightGBM] [Warning] No further splits with positive gain, best gain: -inf\n",
      "[LightGBM] [Warning] No further splits with positive gain, best gain: -inf\n",
      "[LightGBM] [Warning] No further splits with positive gain, best gain: -inf\n",
      "[LightGBM] [Warning] No further splits with positive gain, best gain: -inf\n",
      "[LightGBM] [Warning] No further splits with positive gain, best gain: -inf\n",
      "[LightGBM] [Warning] No further splits with positive gain, best gain: -inf\n"
     ]
    },
    {
     "name": "stderr",
     "output_type": "stream",
     "text": [
      "/usr/local/lib/python3.9/site-packages/lightgbm/basic.py:1433: UserWarning: Overriding the parameters from Reference Dataset.\n",
      "  _log_warning('Overriding the parameters from Reference Dataset.')\n",
      "/usr/local/lib/python3.9/site-packages/lightgbm/basic.py:1245: UserWarning: categorical_column in param dict is overridden.\n",
      "  _log_warning('{} in param dict is overridden.'.format(cat_alias))\n",
      "num_leaves, val_score: 1.937884:  95%|###############################################################################################     | 19/20 [00:05<00:00,  2.78it/s]\u001b[32m[I 2021-08-18 21:39:57,906]\u001b[0m Trial 25 finished with value: 1.9471569808095948 and parameters: {'num_leaves': 85}. Best is trial 7 with value: 1.9378836396993497.\u001b[0m\n",
      "num_leaves, val_score: 1.937884:  95%|###############################################################################################     | 19/20 [00:05<00:00,  2.78it/s]"
     ]
    },
    {
     "name": "stdout",
     "output_type": "stream",
     "text": [
      "[LightGBM] [Warning] No further splits with positive gain, best gain: -inf\n",
      "[LightGBM] [Warning] Auto-choosing col-wise multi-threading, the overhead of testing was 0.001065 seconds.\n",
      "You can set `force_col_wise=true` to remove the overhead.\n",
      "[LightGBM] [Info] Total Bins 192\n",
      "[LightGBM] [Info] Number of data points in the train set: 11223, number of used features: 11\n",
      "[LightGBM] [Info] Start training from score 7.112893\n"
     ]
    },
    {
     "name": "stderr",
     "output_type": "stream",
     "text": [
      "/usr/local/lib/python3.9/site-packages/lightgbm/basic.py:1433: UserWarning: Overriding the parameters from Reference Dataset.\n",
      "  _log_warning('Overriding the parameters from Reference Dataset.')\n",
      "/usr/local/lib/python3.9/site-packages/lightgbm/basic.py:1245: UserWarning: categorical_column in param dict is overridden.\n",
      "  _log_warning('{} in param dict is overridden.'.format(cat_alias))\n",
      "num_leaves, val_score: 1.937884: 100%|####################################################################################################| 20/20 [00:06<00:00,  3.21it/s]\u001b[32m[I 2021-08-18 21:39:58,108]\u001b[0m Trial 26 finished with value: 1.941617061649687 and parameters: {'num_leaves': 47}. Best is trial 7 with value: 1.9378836396993497.\u001b[0m\n",
      "num_leaves, val_score: 1.937884: 100%|####################################################################################################| 20/20 [00:06<00:00,  3.29it/s]\n",
      "bagging, val_score: 1.937884:   0%|                                                                                                                | 0/10 [00:00<?, ?it/s]/usr/local/lib/python3.9/site-packages/lightgbm/basic.py:1433: UserWarning: Overriding the parameters from Reference Dataset.\n",
      "  _log_warning('Overriding the parameters from Reference Dataset.')\n",
      "/usr/local/lib/python3.9/site-packages/lightgbm/basic.py:1245: UserWarning: categorical_column in param dict is overridden.\n",
      "  _log_warning('{} in param dict is overridden.'.format(cat_alias))\n",
      "bagging, val_score: 1.937884:  10%|##########4                                                                                             | 1/10 [00:00<00:01,  6.22it/s]\u001b[32m[I 2021-08-18 21:39:58,277]\u001b[0m Trial 27 finished with value: 1.9403964880021392 and parameters: {'bagging_fraction': 0.773740670766275, 'bagging_freq': 5}. Best is trial 27 with value: 1.9403964880021392.\u001b[0m\n",
      "bagging, val_score: 1.937884:  10%|##########4                                                                                             | 1/10 [00:00<00:01,  6.22it/s]/usr/local/lib/python3.9/site-packages/lightgbm/basic.py:1433: UserWarning: Overriding the parameters from Reference Dataset.\n",
      "  _log_warning('Overriding the parameters from Reference Dataset.')\n"
     ]
    },
    {
     "name": "stdout",
     "output_type": "stream",
     "text": [
      "[LightGBM] [Warning] Auto-choosing col-wise multi-threading, the overhead of testing was 0.001720 seconds.\n",
      "You can set `force_col_wise=true` to remove the overhead.\n",
      "[LightGBM] [Info] Total Bins 192\n",
      "[LightGBM] [Info] Number of data points in the train set: 11223, number of used features: 11\n",
      "[LightGBM] [Info] Start training from score 7.112893\n",
      "[LightGBM] [Warning] Auto-choosing col-wise multi-threading, the overhead of testing was 0.001085 seconds.\n",
      "You can set `force_col_wise=true` to remove the overhead.\n",
      "[LightGBM] [Info] Total Bins 192\n",
      "[LightGBM] [Info] Number of data points in the train set: 11223, number of used features: 11\n",
      "[LightGBM] [Info] Start training from score 7.112893\n"
     ]
    },
    {
     "name": "stderr",
     "output_type": "stream",
     "text": [
      "/usr/local/lib/python3.9/site-packages/lightgbm/basic.py:1245: UserWarning: categorical_column in param dict is overridden.\n",
      "  _log_warning('{} in param dict is overridden.'.format(cat_alias))\n",
      "bagging, val_score: 1.937884:  20%|####################8                                                                                   | 2/10 [00:00<00:01,  5.82it/s]\u001b[32m[I 2021-08-18 21:39:58,456]\u001b[0m Trial 28 finished with value: 1.946434320877405 and parameters: {'bagging_fraction': 0.5326924041506196, 'bagging_freq': 2}. Best is trial 27 with value: 1.9403964880021392.\u001b[0m\n",
      "bagging, val_score: 1.937884:  20%|####################8                                                                                   | 2/10 [00:00<00:01,  5.82it/s]/usr/local/lib/python3.9/site-packages/lightgbm/basic.py:1433: UserWarning: Overriding the parameters from Reference Dataset.\n",
      "  _log_warning('Overriding the parameters from Reference Dataset.')\n",
      "/usr/local/lib/python3.9/site-packages/lightgbm/basic.py:1245: UserWarning: categorical_column in param dict is overridden.\n",
      "  _log_warning('{} in param dict is overridden.'.format(cat_alias))\n",
      "bagging, val_score: 1.937884:  30%|###############################2                                                                        | 3/10 [00:00<00:01,  5.45it/s]\u001b[32m[I 2021-08-18 21:39:58,654]\u001b[0m Trial 29 finished with value: 1.9378898671931888 and parameters: {'bagging_fraction': 0.7187867100201326, 'bagging_freq': 2}. Best is trial 29 with value: 1.9378898671931888.\u001b[0m\n",
      "bagging, val_score: 1.937884:  30%|###############################2                                                                        | 3/10 [00:00<00:01,  5.45it/s]"
     ]
    },
    {
     "name": "stdout",
     "output_type": "stream",
     "text": [
      "[LightGBM] [Warning] Auto-choosing col-wise multi-threading, the overhead of testing was 0.000859 seconds.\n",
      "You can set `force_col_wise=true` to remove the overhead.\n",
      "[LightGBM] [Info] Total Bins 192\n",
      "[LightGBM] [Info] Number of data points in the train set: 11223, number of used features: 11\n",
      "[LightGBM] [Info] Start training from score 7.112893\n",
      "[LightGBM] [Warning] Auto-choosing col-wise multi-threading, the overhead of testing was 0.000883 seconds.\n",
      "You can set `force_col_wise=true` to remove the overhead.\n",
      "[LightGBM] [Info] Total Bins 192\n",
      "[LightGBM] [Info] Number of data points in the train set: 11223, number of used features: 11\n"
     ]
    },
    {
     "name": "stderr",
     "output_type": "stream",
     "text": [
      "/usr/local/lib/python3.9/site-packages/lightgbm/basic.py:1433: UserWarning: Overriding the parameters from Reference Dataset.\n",
      "  _log_warning('Overriding the parameters from Reference Dataset.')\n",
      "/usr/local/lib/python3.9/site-packages/lightgbm/basic.py:1245: UserWarning: categorical_column in param dict is overridden.\n",
      "  _log_warning('{} in param dict is overridden.'.format(cat_alias))\n",
      "bagging, val_score: 1.937884:  40%|#########################################6                                                              | 4/10 [00:00<00:01,  5.59it/s]\u001b[32m[I 2021-08-18 21:39:58,826]\u001b[0m Trial 30 finished with value: 1.9491787741061888 and parameters: {'bagging_fraction': 0.9821599253227405, 'bagging_freq': 7}. Best is trial 29 with value: 1.9378898671931888.\u001b[0m\n",
      "bagging, val_score: 1.937884:  40%|#########################################6                                                              | 4/10 [00:00<00:01,  5.59it/s]/usr/local/lib/python3.9/site-packages/lightgbm/basic.py:1433: UserWarning: Overriding the parameters from Reference Dataset.\n",
      "  _log_warning('Overriding the parameters from Reference Dataset.')\n",
      "/usr/local/lib/python3.9/site-packages/lightgbm/basic.py:1245: UserWarning: categorical_column in param dict is overridden.\n",
      "  _log_warning('{} in param dict is overridden.'.format(cat_alias))\n"
     ]
    },
    {
     "name": "stdout",
     "output_type": "stream",
     "text": [
      "[LightGBM] [Info] Start training from score 7.112893\n",
      "[LightGBM] [Warning] Auto-choosing col-wise multi-threading, the overhead of testing was 0.000994 seconds.\n",
      "You can set `force_col_wise=true` to remove the overhead.\n",
      "[LightGBM] [Info] Total Bins 192\n",
      "[LightGBM] [Info] Number of data points in the train set: 11223, number of used features: 11\n",
      "[LightGBM] [Info] Start training from score 7.112893\n"
     ]
    },
    {
     "name": "stderr",
     "output_type": "stream",
     "text": [
      "bagging, val_score: 1.937884:  50%|####################################################                                                    | 5/10 [00:00<00:00,  5.39it/s]\u001b[32m[I 2021-08-18 21:39:59,024]\u001b[0m Trial 31 finished with value: 1.948314356843338 and parameters: {'bagging_fraction': 0.6314083456053883, 'bagging_freq': 7}. Best is trial 29 with value: 1.9378898671931888.\u001b[0m\n",
      "bagging, val_score: 1.937884:  50%|####################################################                                                    | 5/10 [00:00<00:00,  5.39it/s]/usr/local/lib/python3.9/site-packages/lightgbm/basic.py:1433: UserWarning: Overriding the parameters from Reference Dataset.\n",
      "  _log_warning('Overriding the parameters from Reference Dataset.')\n",
      "/usr/local/lib/python3.9/site-packages/lightgbm/basic.py:1245: UserWarning: categorical_column in param dict is overridden.\n",
      "  _log_warning('{} in param dict is overridden.'.format(cat_alias))\n"
     ]
    },
    {
     "name": "stdout",
     "output_type": "stream",
     "text": [
      "[LightGBM] [Warning] Auto-choosing col-wise multi-threading, the overhead of testing was 0.001079 seconds.\n",
      "You can set `force_col_wise=true` to remove the overhead.\n",
      "[LightGBM] [Info] Total Bins 192\n",
      "[LightGBM] [Info] Number of data points in the train set: 11223, number of used features: 11\n",
      "[LightGBM] [Info] Start training from score 7.112893\n"
     ]
    },
    {
     "name": "stderr",
     "output_type": "stream",
     "text": [
      "bagging, val_score: 1.937884:  60%|##############################################################4                                         | 6/10 [00:01<00:00,  4.57it/s]\u001b[32m[I 2021-08-18 21:39:59,307]\u001b[0m Trial 32 finished with value: 1.9399975923256072 and parameters: {'bagging_fraction': 0.643013155252414, 'bagging_freq': 5}. Best is trial 29 with value: 1.9378898671931888.\u001b[0m\n",
      "bagging, val_score: 1.937884:  60%|##############################################################4                                         | 6/10 [00:01<00:00,  4.57it/s]/usr/local/lib/python3.9/site-packages/lightgbm/basic.py:1433: UserWarning: Overriding the parameters from Reference Dataset.\n",
      "  _log_warning('Overriding the parameters from Reference Dataset.')\n",
      "/usr/local/lib/python3.9/site-packages/lightgbm/basic.py:1245: UserWarning: categorical_column in param dict is overridden.\n",
      "  _log_warning('{} in param dict is overridden.'.format(cat_alias))\n",
      "bagging, val_score: 1.937884:  70%|########################################################################8                               | 7/10 [00:01<00:00,  4.92it/s]\u001b[32m[I 2021-08-18 21:39:59,478]\u001b[0m Trial 33 finished with value: 1.9410948116419928 and parameters: {'bagging_fraction': 0.6024809631205356, 'bagging_freq': 4}. Best is trial 29 with value: 1.9378898671931888.\u001b[0m\n",
      "bagging, val_score: 1.937884:  70%|########################################################################8                               | 7/10 [00:01<00:00,  4.92it/s]"
     ]
    },
    {
     "name": "stdout",
     "output_type": "stream",
     "text": [
      "[LightGBM] [Warning] Auto-choosing col-wise multi-threading, the overhead of testing was 0.000896 seconds.\n",
      "You can set `force_col_wise=true` to remove the overhead.\n",
      "[LightGBM] [Info] Total Bins 192\n",
      "[LightGBM] [Info] Number of data points in the train set: 11223, number of used features: 11\n",
      "[LightGBM] [Info] Start training from score 7.112893\n",
      "[LightGBM] [Warning] Auto-choosing col-wise multi-threading, the overhead of testing was 0.001044 seconds.\n",
      "You can set `force_col_wise=true` to remove the overhead.\n",
      "[LightGBM] [Info] Total Bins 192\n",
      "[LightGBM] [Info] Number of data points in the train set: 11223, number of used features: 11\n"
     ]
    },
    {
     "name": "stderr",
     "output_type": "stream",
     "text": [
      "/usr/local/lib/python3.9/site-packages/lightgbm/basic.py:1433: UserWarning: Overriding the parameters from Reference Dataset.\n",
      "  _log_warning('Overriding the parameters from Reference Dataset.')\n",
      "/usr/local/lib/python3.9/site-packages/lightgbm/basic.py:1245: UserWarning: categorical_column in param dict is overridden.\n",
      "  _log_warning('{} in param dict is overridden.'.format(cat_alias))\n",
      "bagging, val_score: 1.937884:  80%|###################################################################################2                    | 8/10 [00:01<00:00,  4.92it/s]\u001b[32m[I 2021-08-18 21:39:59,681]\u001b[0m Trial 34 finished with value: 1.9473447392977856 and parameters: {'bagging_fraction': 0.561748136715903, 'bagging_freq': 6}. Best is trial 29 with value: 1.9378898671931888.\u001b[0m\n",
      "bagging, val_score: 1.937884:  80%|###################################################################################2                    | 8/10 [00:01<00:00,  4.92it/s]"
     ]
    },
    {
     "name": "stdout",
     "output_type": "stream",
     "text": [
      "[LightGBM] [Info] Start training from score 7.112893\n",
      "[LightGBM] [Warning] Auto-choosing col-wise multi-threading, the overhead of testing was 0.000978 seconds.\n",
      "You can set `force_col_wise=true` to remove the overhead.\n",
      "[LightGBM] [Info] Total Bins 192\n",
      "[LightGBM] [Info] Number of data points in the train set: 11223, number of used features: 11\n",
      "[LightGBM] [Info] Start training from score 7.112893\n"
     ]
    },
    {
     "name": "stderr",
     "output_type": "stream",
     "text": [
      "/usr/local/lib/python3.9/site-packages/lightgbm/basic.py:1433: UserWarning: Overriding the parameters from Reference Dataset.\n",
      "  _log_warning('Overriding the parameters from Reference Dataset.')\n",
      "/usr/local/lib/python3.9/site-packages/lightgbm/basic.py:1245: UserWarning: categorical_column in param dict is overridden.\n",
      "  _log_warning('{} in param dict is overridden.'.format(cat_alias))\n",
      "bagging, val_score: 1.937884:  90%|#############################################################################################6          | 9/10 [00:01<00:00,  5.03it/s]\u001b[32m[I 2021-08-18 21:39:59,870]\u001b[0m Trial 35 finished with value: 1.939229616120155 and parameters: {'bagging_fraction': 0.9379786441974082, 'bagging_freq': 6}. Best is trial 29 with value: 1.9378898671931888.\u001b[0m\n",
      "bagging, val_score: 1.937884:  90%|#############################################################################################6          | 9/10 [00:01<00:00,  5.03it/s]/usr/local/lib/python3.9/site-packages/lightgbm/basic.py:1433: UserWarning: Overriding the parameters from Reference Dataset.\n",
      "  _log_warning('Overriding the parameters from Reference Dataset.')\n",
      "/usr/local/lib/python3.9/site-packages/lightgbm/basic.py:1245: UserWarning: categorical_column in param dict is overridden.\n",
      "  _log_warning('{} in param dict is overridden.'.format(cat_alias))\n"
     ]
    },
    {
     "name": "stdout",
     "output_type": "stream",
     "text": [
      "[LightGBM] [Warning] Auto-choosing col-wise multi-threading, the overhead of testing was 0.000942 seconds.\n",
      "You can set `force_col_wise=true` to remove the overhead.\n",
      "[LightGBM] [Info] Total Bins 192\n",
      "[LightGBM] [Info] Number of data points in the train set: 11223, number of used features: 11\n",
      "[LightGBM] [Info] Start training from score 7.112893\n"
     ]
    },
    {
     "name": "stderr",
     "output_type": "stream",
     "text": [
      "bagging, val_score: 1.937884: 100%|#######################################################################################################| 10/10 [00:02<00:00,  4.23it/s]\u001b[32m[I 2021-08-18 21:40:00,191]\u001b[0m Trial 36 finished with value: 1.9430685952136992 and parameters: {'bagging_fraction': 0.8923726948552622, 'bagging_freq': 6}. Best is trial 29 with value: 1.9378898671931888.\u001b[0m\n",
      "bagging, val_score: 1.937884: 100%|#######################################################################################################| 10/10 [00:02<00:00,  4.81it/s]\n",
      "feature_fraction_stage2, val_score: 1.937884:   0%|                                                                                                 | 0/6 [00:00<?, ?it/s]/usr/local/lib/python3.9/site-packages/lightgbm/basic.py:1433: UserWarning: Overriding the parameters from Reference Dataset.\n",
      "  _log_warning('Overriding the parameters from Reference Dataset.')\n",
      "/usr/local/lib/python3.9/site-packages/lightgbm/basic.py:1245: UserWarning: categorical_column in param dict is overridden.\n",
      "  _log_warning('{} in param dict is overridden.'.format(cat_alias))\n",
      "feature_fraction_stage2, val_score: 1.937884:  17%|##############8                                                                          | 1/6 [00:00<00:00,  5.31it/s]\u001b[32m[I 2021-08-18 21:40:00,386]\u001b[0m Trial 37 finished with value: 1.9378836396993497 and parameters: {'feature_fraction': 0.516}. Best is trial 37 with value: 1.9378836396993497.\u001b[0m\n",
      "feature_fraction_stage2, val_score: 1.937884:  17%|##############8                                                                          | 1/6 [00:00<00:00,  5.31it/s]"
     ]
    },
    {
     "name": "stdout",
     "output_type": "stream",
     "text": [
      "[LightGBM] [Warning] Auto-choosing col-wise multi-threading, the overhead of testing was 0.000867 seconds.\n",
      "You can set `force_col_wise=true` to remove the overhead.\n",
      "[LightGBM] [Info] Total Bins 192\n",
      "[LightGBM] [Info] Number of data points in the train set: 11223, number of used features: 11\n",
      "[LightGBM] [Info] Start training from score 7.112893\n",
      "[LightGBM] [Warning] Auto-choosing col-wise multi-threading, the overhead of testing was 0.000941 seconds.\n",
      "You can set `force_col_wise=true` to remove the overhead.\n",
      "[LightGBM] [Info] Total Bins 192\n",
      "[LightGBM] [Info] Number of data points in the train set: 11223, number of used features: 11\n"
     ]
    },
    {
     "name": "stderr",
     "output_type": "stream",
     "text": [
      "/usr/local/lib/python3.9/site-packages/lightgbm/basic.py:1433: UserWarning: Overriding the parameters from Reference Dataset.\n",
      "  _log_warning('Overriding the parameters from Reference Dataset.')\n",
      "/usr/local/lib/python3.9/site-packages/lightgbm/basic.py:1245: UserWarning: categorical_column in param dict is overridden.\n",
      "  _log_warning('{} in param dict is overridden.'.format(cat_alias))\n",
      "feature_fraction_stage2, val_score: 1.937884:  33%|#############################6                                                           | 2/6 [00:00<00:00,  4.62it/s]\u001b[32m[I 2021-08-18 21:40:00,622]\u001b[0m Trial 38 finished with value: 1.9378836396993497 and parameters: {'feature_fraction': 0.5479999999999999}. Best is trial 37 with value: 1.9378836396993497.\u001b[0m\n",
      "feature_fraction_stage2, val_score: 1.937884:  33%|#############################6                                                           | 2/6 [00:00<00:00,  4.62it/s]"
     ]
    },
    {
     "name": "stdout",
     "output_type": "stream",
     "text": [
      "[LightGBM] [Info] Start training from score 7.112893\n"
     ]
    },
    {
     "name": "stderr",
     "output_type": "stream",
     "text": [
      "/usr/local/lib/python3.9/site-packages/lightgbm/basic.py:1433: UserWarning: Overriding the parameters from Reference Dataset.\n",
      "  _log_warning('Overriding the parameters from Reference Dataset.')\n",
      "/usr/local/lib/python3.9/site-packages/lightgbm/basic.py:1245: UserWarning: categorical_column in param dict is overridden.\n",
      "  _log_warning('{} in param dict is overridden.'.format(cat_alias))\n",
      "feature_fraction_stage2, val_score: 1.937884:  50%|############################################5                                            | 3/6 [00:00<00:00,  4.86it/s]\u001b[32m[I 2021-08-18 21:40:00,815]\u001b[0m Trial 39 finished with value: 1.9378836396993497 and parameters: {'feature_fraction': 0.58}. Best is trial 37 with value: 1.9378836396993497.\u001b[0m\n",
      "feature_fraction_stage2, val_score: 1.937884:  50%|############################################5                                            | 3/6 [00:00<00:00,  4.86it/s]"
     ]
    },
    {
     "name": "stdout",
     "output_type": "stream",
     "text": [
      "[LightGBM] [Warning] Auto-choosing col-wise multi-threading, the overhead of testing was 0.000915 seconds.\n",
      "You can set `force_col_wise=true` to remove the overhead.\n",
      "[LightGBM] [Info] Total Bins 192\n",
      "[LightGBM] [Info] Number of data points in the train set: 11223, number of used features: 11\n",
      "[LightGBM] [Info] Start training from score 7.112893\n",
      "[LightGBM] [Warning] Auto-choosing col-wise multi-threading, the overhead of testing was 0.001169 seconds.\n",
      "You can set `force_col_wise=true` to remove the overhead.\n",
      "[LightGBM] [Info] Total Bins 192\n",
      "[LightGBM] [Info] Number of data points in the train set: 11223, number of used features: 11\n"
     ]
    },
    {
     "name": "stderr",
     "output_type": "stream",
     "text": [
      "/usr/local/lib/python3.9/site-packages/lightgbm/basic.py:1433: UserWarning: Overriding the parameters from Reference Dataset.\n",
      "  _log_warning('Overriding the parameters from Reference Dataset.')\n",
      "/usr/local/lib/python3.9/site-packages/lightgbm/basic.py:1245: UserWarning: categorical_column in param dict is overridden.\n",
      "  _log_warning('{} in param dict is overridden.'.format(cat_alias))\n",
      "feature_fraction_stage2, val_score: 1.937884:  67%|###########################################################3                             | 4/6 [00:00<00:00,  5.45it/s]\u001b[32m[I 2021-08-18 21:40:00,965]\u001b[0m Trial 40 finished with value: 1.9463678678471177 and parameters: {'feature_fraction': 0.45199999999999996}. Best is trial 37 with value: 1.9378836396993497.\u001b[0m\n",
      "feature_fraction_stage2, val_score: 1.937884:  67%|###########################################################3                             | 4/6 [00:00<00:00,  5.45it/s]/usr/local/lib/python3.9/site-packages/lightgbm/basic.py:1433: UserWarning: Overriding the parameters from Reference Dataset.\n",
      "  _log_warning('Overriding the parameters from Reference Dataset.')\n",
      "/usr/local/lib/python3.9/site-packages/lightgbm/basic.py:1245: UserWarning: categorical_column in param dict is overridden.\n",
      "  _log_warning('{} in param dict is overridden.'.format(cat_alias))\n"
     ]
    },
    {
     "name": "stdout",
     "output_type": "stream",
     "text": [
      "[LightGBM] [Info] Start training from score 7.112893\n",
      "[LightGBM] [Warning] Auto-choosing col-wise multi-threading, the overhead of testing was 0.001060 seconds.\n",
      "You can set `force_col_wise=true` to remove the overhead.\n",
      "[LightGBM] [Info] Total Bins 192\n",
      "[LightGBM] [Info] Number of data points in the train set: 11223, number of used features: 11\n",
      "[LightGBM] [Info] Start training from score 7.112893\n"
     ]
    },
    {
     "name": "stderr",
     "output_type": "stream",
     "text": [
      "feature_fraction_stage2, val_score: 1.937884:  83%|##########################################################################1              | 5/6 [00:00<00:00,  5.57it/s]\u001b[32m[I 2021-08-18 21:40:01,137]\u001b[0m Trial 41 finished with value: 1.9463678678471177 and parameters: {'feature_fraction': 0.42}. Best is trial 37 with value: 1.9378836396993497.\u001b[0m\n",
      "feature_fraction_stage2, val_score: 1.937884:  83%|##########################################################################1              | 5/6 [00:00<00:00,  5.57it/s]/usr/local/lib/python3.9/site-packages/lightgbm/basic.py:1433: UserWarning: Overriding the parameters from Reference Dataset.\n",
      "  _log_warning('Overriding the parameters from Reference Dataset.')\n",
      "/usr/local/lib/python3.9/site-packages/lightgbm/basic.py:1245: UserWarning: categorical_column in param dict is overridden.\n",
      "  _log_warning('{} in param dict is overridden.'.format(cat_alias))\n",
      "feature_fraction_stage2, val_score: 1.937884: 100%|#########################################################################################| 6/6 [00:01<00:00,  5.81it/s]\u001b[32m[I 2021-08-18 21:40:01,295]\u001b[0m Trial 42 finished with value: 1.9463678678471177 and parameters: {'feature_fraction': 0.484}. Best is trial 37 with value: 1.9378836396993497.\u001b[0m\n",
      "feature_fraction_stage2, val_score: 1.937884: 100%|#########################################################################################| 6/6 [00:01<00:00,  5.45it/s]\n"
     ]
    },
    {
     "name": "stdout",
     "output_type": "stream",
     "text": [
      "[LightGBM] [Warning] Auto-choosing row-wise multi-threading, the overhead of testing was 0.000110 seconds.\n",
      "You can set `force_row_wise=true` to remove the overhead.\n",
      "And if memory is not enough, you can set `force_col_wise=true`.\n",
      "[LightGBM] [Info] Total Bins 192\n",
      "[LightGBM] [Info] Number of data points in the train set: 11223, number of used features: 11\n",
      "[LightGBM] [Info] Start training from score 7.112893\n"
     ]
    },
    {
     "name": "stderr",
     "output_type": "stream",
     "text": [
      "regularization_factors, val_score: 1.937884:   0%|                                                                                                 | 0/20 [00:00<?, ?it/s]/usr/local/lib/python3.9/site-packages/lightgbm/basic.py:1433: UserWarning: Overriding the parameters from Reference Dataset.\n",
      "  _log_warning('Overriding the parameters from Reference Dataset.')\n"
     ]
    },
    {
     "name": "stdout",
     "output_type": "stream",
     "text": [
      "[LightGBM] [Warning] Auto-choosing col-wise multi-threading, the overhead of testing was 0.000898 seconds.\n",
      "You can set `force_col_wise=true` to remove the overhead.\n",
      "[LightGBM] [Info] Total Bins 192\n",
      "[LightGBM] [Info] Number of data points in the train set: 11223, number of used features: 11\n",
      "[LightGBM] [Info] Start training from score 7.112893\n"
     ]
    },
    {
     "name": "stderr",
     "output_type": "stream",
     "text": [
      "/usr/local/lib/python3.9/site-packages/lightgbm/basic.py:1245: UserWarning: categorical_column in param dict is overridden.\n",
      "  _log_warning('{} in param dict is overridden.'.format(cat_alias))\n",
      "regularization_factors, val_score: 1.937884:   5%|####4                                                                                    | 1/20 [00:00<00:03,  4.84it/s]\u001b[32m[I 2021-08-18 21:40:01,509]\u001b[0m Trial 43 finished with value: 1.9401461955095505 and parameters: {'lambda_l1': 4.08257180358011e-05, 'lambda_l2': 0.6719613637807611}. Best is trial 43 with value: 1.9401461955095505.\u001b[0m\n",
      "regularization_factors, val_score: 1.937884:   5%|####4                                                                                    | 1/20 [00:00<00:03,  4.84it/s]/usr/local/lib/python3.9/site-packages/lightgbm/basic.py:1433: UserWarning: Overriding the parameters from Reference Dataset.\n",
      "  _log_warning('Overriding the parameters from Reference Dataset.')\n",
      "/usr/local/lib/python3.9/site-packages/lightgbm/basic.py:1245: UserWarning: categorical_column in param dict is overridden.\n",
      "  _log_warning('{} in param dict is overridden.'.format(cat_alias))\n",
      "regularization_factors, val_score: 1.937884:  10%|########9                                                                                | 2/20 [00:00<00:03,  4.60it/s]\u001b[32m[I 2021-08-18 21:40:01,734]\u001b[0m Trial 44 finished with value: 1.9378836841298368 and parameters: {'lambda_l1': 0.0008019487909981301, 'lambda_l2': 1.9152892337954313e-07}. Best is trial 44 with value: 1.9378836841298368.\u001b[0m\n",
      "regularization_factors, val_score: 1.937884:  10%|########9                                                                                | 2/20 [00:00<00:03,  4.60it/s]"
     ]
    },
    {
     "name": "stdout",
     "output_type": "stream",
     "text": [
      "[LightGBM] [Warning] Auto-choosing col-wise multi-threading, the overhead of testing was 0.001198 seconds.\n",
      "You can set `force_col_wise=true` to remove the overhead.\n",
      "[LightGBM] [Info] Total Bins 192\n",
      "[LightGBM] [Info] Number of data points in the train set: 11223, number of used features: 11\n",
      "[LightGBM] [Info] Start training from score 7.112893\n"
     ]
    },
    {
     "name": "stderr",
     "output_type": "stream",
     "text": [
      "/usr/local/lib/python3.9/site-packages/lightgbm/basic.py:1433: UserWarning: Overriding the parameters from Reference Dataset.\n",
      "  _log_warning('Overriding the parameters from Reference Dataset.')\n",
      "/usr/local/lib/python3.9/site-packages/lightgbm/basic.py:1245: UserWarning: categorical_column in param dict is overridden.\n",
      "  _log_warning('{} in param dict is overridden.'.format(cat_alias))\n",
      "regularization_factors, val_score: 1.937884:  15%|#############3                                                                           | 3/20 [00:00<00:03,  5.44it/s]\u001b[32m[I 2021-08-18 21:40:01,878]\u001b[0m Trial 45 finished with value: 1.9405417224093318 and parameters: {'lambda_l1': 1.5392370280810442e-08, 'lambda_l2': 0.09049183235109763}. Best is trial 44 with value: 1.9378836841298368.\u001b[0m\n",
      "regularization_factors, val_score: 1.937884:  15%|#############3                                                                           | 3/20 [00:00<00:03,  5.44it/s]/usr/local/lib/python3.9/site-packages/lightgbm/basic.py:1433: UserWarning: Overriding the parameters from Reference Dataset.\n",
      "  _log_warning('Overriding the parameters from Reference Dataset.')\n",
      "/usr/local/lib/python3.9/site-packages/lightgbm/basic.py:1245: UserWarning: categorical_column in param dict is overridden.\n",
      "  _log_warning('{} in param dict is overridden.'.format(cat_alias))\n"
     ]
    },
    {
     "name": "stdout",
     "output_type": "stream",
     "text": [
      "[LightGBM] [Warning] Auto-choosing col-wise multi-threading, the overhead of testing was 0.000986 seconds.\n",
      "You can set `force_col_wise=true` to remove the overhead.\n",
      "[LightGBM] [Info] Total Bins 192\n",
      "[LightGBM] [Info] Number of data points in the train set: 11223, number of used features: 11\n",
      "[LightGBM] [Info] Start training from score 7.112893\n",
      "[LightGBM] [Warning] Auto-choosing col-wise multi-threading, the overhead of testing was 0.000967 seconds.\n",
      "You can set `force_col_wise=true` to remove the overhead.\n",
      "[LightGBM] [Info] Total Bins 192\n",
      "[LightGBM] [Info] Number of data points in the train set: 11223, number of used features: 11\n",
      "[LightGBM] [Info] Start training from score 7.112893\n"
     ]
    },
    {
     "name": "stderr",
     "output_type": "stream",
     "text": [
      "regularization_factors, val_score: 1.937884:  20%|#################8                                                                       | 4/20 [00:00<00:02,  5.48it/s]\u001b[32m[I 2021-08-18 21:40:02,058]\u001b[0m Trial 46 finished with value: 1.946659581295095 and parameters: {'lambda_l1': 9.610822567364415e-08, 'lambda_l2': 1.537159520969394}. Best is trial 44 with value: 1.9378836841298368.\u001b[0m\n",
      "regularization_factors, val_score: 1.937884:  20%|#################8                                                                       | 4/20 [00:00<00:02,  5.48it/s]/usr/local/lib/python3.9/site-packages/lightgbm/basic.py:1433: UserWarning: Overriding the parameters from Reference Dataset.\n",
      "  _log_warning('Overriding the parameters from Reference Dataset.')\n",
      "/usr/local/lib/python3.9/site-packages/lightgbm/basic.py:1245: UserWarning: categorical_column in param dict is overridden.\n",
      "  _log_warning('{} in param dict is overridden.'.format(cat_alias))\n",
      "regularization_factors, val_score: 1.937884:  25%|######################2                                                                  | 5/20 [00:00<00:02,  5.31it/s]\u001b[32m[I 2021-08-18 21:40:02,258]\u001b[0m Trial 47 finished with value: 1.9378836415725136 and parameters: {'lambda_l1': 3.253593009372247e-05, 'lambda_l2': 5.384609293750981e-08}. Best is trial 47 with value: 1.9378836415725136.\u001b[0m\n",
      "regularization_factors, val_score: 1.937884:  25%|######################2                                                                  | 5/20 [00:00<00:02,  5.31it/s]"
     ]
    },
    {
     "name": "stdout",
     "output_type": "stream",
     "text": [
      "[LightGBM] [Warning] Auto-choosing col-wise multi-threading, the overhead of testing was 0.000908 seconds.\n",
      "You can set `force_col_wise=true` to remove the overhead.\n",
      "[LightGBM] [Info] Total Bins 192\n",
      "[LightGBM] [Info] Number of data points in the train set: 11223, number of used features: 11\n",
      "[LightGBM] [Info] Start training from score 7.112893\n"
     ]
    },
    {
     "name": "stderr",
     "output_type": "stream",
     "text": [
      "/usr/local/lib/python3.9/site-packages/lightgbm/basic.py:1433: UserWarning: Overriding the parameters from Reference Dataset.\n",
      "  _log_warning('Overriding the parameters from Reference Dataset.')\n",
      "/usr/local/lib/python3.9/site-packages/lightgbm/basic.py:1245: UserWarning: categorical_column in param dict is overridden.\n",
      "  _log_warning('{} in param dict is overridden.'.format(cat_alias))\n",
      "regularization_factors, val_score: 1.937884:  30%|##########################7                                                              | 6/20 [00:01<00:02,  4.93it/s]"
     ]
    },
    {
     "name": "stdout",
     "output_type": "stream",
     "text": [
      "[LightGBM] [Warning] Auto-choosing col-wise multi-threading, the overhead of testing was 0.003806 seconds.\n",
      "You can set `force_col_wise=true` to remove the overhead.\n",
      "[LightGBM] [Info] Total Bins 192\n",
      "[LightGBM] [Info] Number of data points in the train set: 11223, number of used features: 11\n",
      "[LightGBM] [Info] Start training from score 7.112893\n"
     ]
    },
    {
     "name": "stderr",
     "output_type": "stream",
     "text": [
      "\u001b[32m[I 2021-08-18 21:40:02,489]\u001b[0m Trial 48 finished with value: 1.9395263296544851 and parameters: {'lambda_l1': 0.05206342223905069, 'lambda_l2': 1.438891198502094e-05}. Best is trial 47 with value: 1.9378836415725136.\u001b[0m\n",
      "regularization_factors, val_score: 1.937884:  30%|##########################7                                                              | 6/20 [00:01<00:02,  4.93it/s]/usr/local/lib/python3.9/site-packages/lightgbm/basic.py:1433: UserWarning: Overriding the parameters from Reference Dataset.\n",
      "  _log_warning('Overriding the parameters from Reference Dataset.')\n",
      "/usr/local/lib/python3.9/site-packages/lightgbm/basic.py:1245: UserWarning: categorical_column in param dict is overridden.\n",
      "  _log_warning('{} in param dict is overridden.'.format(cat_alias))\n",
      "regularization_factors, val_score: 1.937884:  35%|###############################1                                                         | 7/20 [00:01<00:02,  5.43it/s]\u001b[32m[I 2021-08-18 21:40:02,634]\u001b[0m Trial 49 finished with value: 1.9410681019827278 and parameters: {'lambda_l1': 3.045184131448899, 'lambda_l2': 5.474439067182623e-06}. Best is trial 47 with value: 1.9378836415725136.\u001b[0m\n",
      "regularization_factors, val_score: 1.937884:  35%|###############################1                                                         | 7/20 [00:01<00:02,  5.43it/s]/usr/local/lib/python3.9/site-packages/lightgbm/basic.py:1433: UserWarning: Overriding the parameters from Reference Dataset.\n",
      "  _log_warning('Overriding the parameters from Reference Dataset.')\n",
      "/usr/local/lib/python3.9/site-packages/lightgbm/basic.py:1245: UserWarning: categorical_column in param dict is overridden.\n",
      "  _log_warning('{} in param dict is overridden.'.format(cat_alias))\n"
     ]
    },
    {
     "name": "stdout",
     "output_type": "stream",
     "text": [
      "[LightGBM] [Warning] Auto-choosing col-wise multi-threading, the overhead of testing was 0.001359 seconds.\n",
      "You can set `force_col_wise=true` to remove the overhead.\n",
      "[LightGBM] [Info] Total Bins 192\n",
      "[LightGBM] [Info] Number of data points in the train set: 11223, number of used features: 11\n",
      "[LightGBM] [Info] Start training from score 7.112893\n",
      "[LightGBM] [Warning] Auto-choosing col-wise multi-threading, the overhead of testing was 0.001112 seconds.\n",
      "You can set `force_col_wise=true` to remove the overhead.\n",
      "[LightGBM] [Info] Total Bins 192\n",
      "[LightGBM] [Info] Number of data points in the train set: 11223, number of used features: 11\n",
      "[LightGBM] [Info] Start training from score 7.112893\n"
     ]
    },
    {
     "name": "stderr",
     "output_type": "stream",
     "text": [
      "regularization_factors, val_score: 1.937884:  40%|###################################6                                                     | 8/20 [00:01<00:02,  5.53it/s]\u001b[32m[I 2021-08-18 21:40:02,808]\u001b[0m Trial 50 finished with value: 1.9453016772471177 and parameters: {'lambda_l1': 2.551023096600992e-05, 'lambda_l2': 0.7814371789519191}. Best is trial 47 with value: 1.9378836415725136.\u001b[0m\n",
      "regularization_factors, val_score: 1.937884:  40%|###################################6                                                     | 8/20 [00:01<00:02,  5.53it/s]/usr/local/lib/python3.9/site-packages/lightgbm/basic.py:1433: UserWarning: Overriding the parameters from Reference Dataset.\n",
      "  _log_warning('Overriding the parameters from Reference Dataset.')\n",
      "/usr/local/lib/python3.9/site-packages/lightgbm/basic.py:1245: UserWarning: categorical_column in param dict is overridden.\n",
      "  _log_warning('{} in param dict is overridden.'.format(cat_alias))\n",
      "regularization_factors, val_score: 1.937884:  45%|########################################                                                 | 9/20 [00:01<00:02,  5.41it/s]\u001b[32m[I 2021-08-18 21:40:03,001]\u001b[0m Trial 51 finished with value: 1.9402409554029165 and parameters: {'lambda_l1': 1.2104099345979237e-05, 'lambda_l2': 3.3632138341941245}. Best is trial 47 with value: 1.9378836415725136.\u001b[0m\n",
      "regularization_factors, val_score: 1.937884:  45%|########################################                                                 | 9/20 [00:01<00:02,  5.41it/s]"
     ]
    },
    {
     "name": "stdout",
     "output_type": "stream",
     "text": [
      "[LightGBM] [Warning] Auto-choosing col-wise multi-threading, the overhead of testing was 0.000920 seconds.\n",
      "You can set `force_col_wise=true` to remove the overhead.\n",
      "[LightGBM] [Info] Total Bins 192\n",
      "[LightGBM] [Info] Number of data points in the train set: 11223, number of used features: 11\n",
      "[LightGBM] [Info] Start training from score 7.112893\n",
      "[LightGBM] [Warning] Auto-choosing col-wise multi-threading, the overhead of testing was 0.001233 seconds.\n",
      "You can set `force_col_wise=true` to remove the overhead.\n",
      "[LightGBM] [Info] Total Bins 192\n",
      "[LightGBM] [Info] Number of data points in the train set: 11223, number of used features: 11\n"
     ]
    },
    {
     "name": "stderr",
     "output_type": "stream",
     "text": [
      "/usr/local/lib/python3.9/site-packages/lightgbm/basic.py:1433: UserWarning: Overriding the parameters from Reference Dataset.\n",
      "  _log_warning('Overriding the parameters from Reference Dataset.')\n",
      "/usr/local/lib/python3.9/site-packages/lightgbm/basic.py:1245: UserWarning: categorical_column in param dict is overridden.\n",
      "  _log_warning('{} in param dict is overridden.'.format(cat_alias))\n",
      "regularization_factors, val_score: 1.937884:  50%|############################################                                            | 10/20 [00:01<00:01,  5.59it/s]\u001b[32m[I 2021-08-18 21:40:03,167]\u001b[0m Trial 52 finished with value: 1.9405414356902035 and parameters: {'lambda_l1': 3.488291218114988e-08, 'lambda_l2': 0.07903259365591306}. Best is trial 47 with value: 1.9378836415725136.\u001b[0m\n",
      "regularization_factors, val_score: 1.937884:  50%|############################################                                            | 10/20 [00:01<00:01,  5.59it/s]/usr/local/lib/python3.9/site-packages/lightgbm/basic.py:1433: UserWarning: Overriding the parameters from Reference Dataset.\n",
      "  _log_warning('Overriding the parameters from Reference Dataset.')\n",
      "/usr/local/lib/python3.9/site-packages/lightgbm/basic.py:1245: UserWarning: categorical_column in param dict is overridden.\n",
      "  _log_warning('{} in param dict is overridden.'.format(cat_alias))\n"
     ]
    },
    {
     "name": "stdout",
     "output_type": "stream",
     "text": [
      "[LightGBM] [Info] Start training from score 7.112893\n",
      "[LightGBM] [Warning] Auto-choosing col-wise multi-threading, the overhead of testing was 0.000981 seconds.\n",
      "You can set `force_col_wise=true` to remove the overhead.\n",
      "[LightGBM] [Info] Total Bins 192\n",
      "[LightGBM] [Info] Number of data points in the train set: 11223, number of used features: 11\n",
      "[LightGBM] [Info] Start training from score 7.112893\n"
     ]
    },
    {
     "name": "stderr",
     "output_type": "stream",
     "text": [
      "regularization_factors, val_score: 1.937884:  55%|################################################4                                       | 11/20 [00:02<00:01,  5.17it/s]\u001b[32m[I 2021-08-18 21:40:03,394]\u001b[0m Trial 53 finished with value: 1.9378837557180628 and parameters: {'lambda_l1': 0.002095111667512804, 'lambda_l2': 4.267397066875566e-08}. Best is trial 47 with value: 1.9378836415725136.\u001b[0m\n",
      "regularization_factors, val_score: 1.937884:  55%|################################################4                                       | 11/20 [00:02<00:01,  5.17it/s]/usr/local/lib/python3.9/site-packages/lightgbm/basic.py:1433: UserWarning: Overriding the parameters from Reference Dataset.\n",
      "  _log_warning('Overriding the parameters from Reference Dataset.')\n",
      "/usr/local/lib/python3.9/site-packages/lightgbm/basic.py:1245: UserWarning: categorical_column in param dict is overridden.\n",
      "  _log_warning('{} in param dict is overridden.'.format(cat_alias))\n",
      "regularization_factors, val_score: 1.937884:  60%|####################################################8                                   | 12/20 [00:02<00:01,  5.18it/s]\u001b[32m[I 2021-08-18 21:40:03,586]\u001b[0m Trial 54 finished with value: 1.9378838030577341 and parameters: {'lambda_l1': 0.00294992077930841, 'lambda_l2': 2.3230964686342982e-08}. Best is trial 47 with value: 1.9378836415725136.\u001b[0m\n",
      "regularization_factors, val_score: 1.937884:  60%|####################################################8                                   | 12/20 [00:02<00:01,  5.18it/s]"
     ]
    },
    {
     "name": "stdout",
     "output_type": "stream",
     "text": [
      "[LightGBM] [Warning] Auto-choosing col-wise multi-threading, the overhead of testing was 0.000958 seconds.\n",
      "You can set `force_col_wise=true` to remove the overhead.\n",
      "[LightGBM] [Info] Total Bins 192\n",
      "[LightGBM] [Info] Number of data points in the train set: 11223, number of used features: 11\n",
      "[LightGBM] [Info] Start training from score 7.112893\n",
      "[LightGBM] [Warning] Auto-choosing col-wise multi-threading, the overhead of testing was 0.000899 seconds.\n",
      "You can set `force_col_wise=true` to remove the overhead.\n",
      "[LightGBM] [Info] Total Bins 192\n",
      "[LightGBM] [Info] Number of data points in the train set: 11223, number of used features: 11\n"
     ]
    },
    {
     "name": "stderr",
     "output_type": "stream",
     "text": [
      "/usr/local/lib/python3.9/site-packages/lightgbm/basic.py:1433: UserWarning: Overriding the parameters from Reference Dataset.\n",
      "  _log_warning('Overriding the parameters from Reference Dataset.')\n",
      "/usr/local/lib/python3.9/site-packages/lightgbm/basic.py:1245: UserWarning: categorical_column in param dict is overridden.\n",
      "  _log_warning('{} in param dict is overridden.'.format(cat_alias))\n",
      "regularization_factors, val_score: 1.937884:  65%|#########################################################2                              | 13/20 [00:02<00:01,  5.09it/s]\u001b[32m[I 2021-08-18 21:40:03,790]\u001b[0m Trial 55 finished with value: 1.9378836398493893 and parameters: {'lambda_l1': 1.4467454048089171e-06, 'lambda_l2': 8.329164539502792e-07}. Best is trial 55 with value: 1.9378836398493893.\u001b[0m\n",
      "regularization_factors, val_score: 1.937884:  65%|#########################################################2                              | 13/20 [00:02<00:01,  5.09it/s]/usr/local/lib/python3.9/site-packages/lightgbm/basic.py:1433: UserWarning: Overriding the parameters from Reference Dataset.\n",
      "  _log_warning('Overriding the parameters from Reference Dataset.')\n"
     ]
    },
    {
     "name": "stdout",
     "output_type": "stream",
     "text": [
      "[LightGBM] [Info] Start training from score 7.112893\n",
      "[LightGBM] [Warning] Auto-choosing row-wise multi-threading, the overhead of testing was 0.000073 seconds.\n",
      "You can set `force_row_wise=true` to remove the overhead.\n",
      "And if memory is not enough, you can set `force_col_wise=true`.\n",
      "[LightGBM] [Info] Total Bins 192\n",
      "[LightGBM] [Info] Number of data points in the train set: 11223, number of used features: 11\n"
     ]
    },
    {
     "name": "stderr",
     "output_type": "stream",
     "text": [
      "/usr/local/lib/python3.9/site-packages/lightgbm/basic.py:1245: UserWarning: categorical_column in param dict is overridden.\n",
      "  _log_warning('{} in param dict is overridden.'.format(cat_alias))\n",
      "regularization_factors, val_score: 1.937884:  70%|#############################################################6                          | 14/20 [00:02<00:01,  4.63it/s]\u001b[32m[I 2021-08-18 21:40:04,051]\u001b[0m Trial 56 finished with value: 1.9378836398926353 and parameters: {'lambda_l1': 1.122434636260644e-06, 'lambda_l2': 1.700348001675589e-06}. Best is trial 55 with value: 1.9378836398493893.\u001b[0m\n",
      "regularization_factors, val_score: 1.937884:  70%|#############################################################6                          | 14/20 [00:02<00:01,  4.63it/s]"
     ]
    },
    {
     "name": "stdout",
     "output_type": "stream",
     "text": [
      "[LightGBM] [Info] Start training from score 7.112893\n"
     ]
    },
    {
     "name": "stderr",
     "output_type": "stream",
     "text": [
      "/usr/local/lib/python3.9/site-packages/lightgbm/basic.py:1433: UserWarning: Overriding the parameters from Reference Dataset.\n",
      "  _log_warning('Overriding the parameters from Reference Dataset.')\n",
      "/usr/local/lib/python3.9/site-packages/lightgbm/basic.py:1245: UserWarning: categorical_column in param dict is overridden.\n",
      "  _log_warning('{} in param dict is overridden.'.format(cat_alias))\n",
      "regularization_factors, val_score: 1.937884:  75%|##################################################################                      | 15/20 [00:02<00:01,  4.52it/s]\u001b[32m[I 2021-08-18 21:40:04,284]\u001b[0m Trial 57 finished with value: 1.9378836658785317 and parameters: {'lambda_l1': 4.488046266623417e-07, 'lambda_l2': 0.0003924498318958466}. Best is trial 55 with value: 1.9378836398493893.\u001b[0m\n",
      "regularization_factors, val_score: 1.937884:  75%|##################################################################                      | 15/20 [00:02<00:01,  4.52it/s]"
     ]
    },
    {
     "name": "stdout",
     "output_type": "stream",
     "text": [
      "[LightGBM] [Warning] Auto-choosing col-wise multi-threading, the overhead of testing was 0.001623 seconds.\n",
      "You can set `force_col_wise=true` to remove the overhead.\n",
      "[LightGBM] [Info] Total Bins 192\n",
      "[LightGBM] [Info] Number of data points in the train set: 11223, number of used features: 11\n",
      "[LightGBM] [Info] Start training from score 7.112893\n"
     ]
    },
    {
     "name": "stderr",
     "output_type": "stream",
     "text": [
      "/usr/local/lib/python3.9/site-packages/lightgbm/basic.py:1433: UserWarning: Overriding the parameters from Reference Dataset.\n",
      "  _log_warning('Overriding the parameters from Reference Dataset.')\n",
      "/usr/local/lib/python3.9/site-packages/lightgbm/basic.py:1245: UserWarning: categorical_column in param dict is overridden.\n",
      "  _log_warning('{} in param dict is overridden.'.format(cat_alias))\n",
      "regularization_factors, val_score: 1.937884:  80%|######################################################################4                 | 16/20 [00:03<00:00,  4.65it/s]\u001b[32m[I 2021-08-18 21:40:04,485]\u001b[0m Trial 58 finished with value: 1.9378836399493822 and parameters: {'lambda_l1': 1.1089837450464793e-06, 'lambda_l2': 2.5279045609447962e-06}. Best is trial 55 with value: 1.9378836398493893.\u001b[0m\n",
      "regularization_factors, val_score: 1.937884:  80%|######################################################################4                 | 16/20 [00:03<00:00,  4.65it/s]"
     ]
    },
    {
     "name": "stdout",
     "output_type": "stream",
     "text": [
      "[LightGBM] [Warning] Auto-choosing col-wise multi-threading, the overhead of testing was 0.001026 seconds.\n",
      "You can set `force_col_wise=true` to remove the overhead.\n",
      "[LightGBM] [Info] Total Bins 192\n",
      "[LightGBM] [Info] Number of data points in the train set: 11223, number of used features: 11\n",
      "[LightGBM] [Info] Start training from score 7.112893\n"
     ]
    },
    {
     "name": "stderr",
     "output_type": "stream",
     "text": [
      "/usr/local/lib/python3.9/site-packages/lightgbm/basic.py:1433: UserWarning: Overriding the parameters from Reference Dataset.\n",
      "  _log_warning('Overriding the parameters from Reference Dataset.')\n",
      "/usr/local/lib/python3.9/site-packages/lightgbm/basic.py:1245: UserWarning: categorical_column in param dict is overridden.\n",
      "  _log_warning('{} in param dict is overridden.'.format(cat_alias))\n",
      "regularization_factors, val_score: 1.937884:  85%|##########################################################################8             | 17/20 [00:03<00:00,  4.71it/s]\u001b[32m[I 2021-08-18 21:40:04,692]\u001b[0m Trial 59 finished with value: 1.937883660564293 and parameters: {'lambda_l1': 2.3534197819163264e-06, 'lambda_l2': 0.00031104620915025483}. Best is trial 55 with value: 1.9378836398493893.\u001b[0m\n",
      "regularization_factors, val_score: 1.937884:  85%|##########################################################################8             | 17/20 [00:03<00:00,  4.71it/s]"
     ]
    },
    {
     "name": "stdout",
     "output_type": "stream",
     "text": [
      "[LightGBM] [Warning] Auto-choosing col-wise multi-threading, the overhead of testing was 0.001186 seconds.\n",
      "You can set `force_col_wise=true` to remove the overhead.\n",
      "[LightGBM] [Info] Total Bins 192\n",
      "[LightGBM] [Info] Number of data points in the train set: 11223, number of used features: 11\n",
      "[LightGBM] [Info] Start training from score 7.112893\n"
     ]
    },
    {
     "name": "stderr",
     "output_type": "stream",
     "text": [
      "/usr/local/lib/python3.9/site-packages/lightgbm/basic.py:1433: UserWarning: Overriding the parameters from Reference Dataset.\n",
      "  _log_warning('Overriding the parameters from Reference Dataset.')\n",
      "/usr/local/lib/python3.9/site-packages/lightgbm/basic.py:1245: UserWarning: categorical_column in param dict is overridden.\n",
      "  _log_warning('{} in param dict is overridden.'.format(cat_alias))\n"
     ]
    },
    {
     "name": "stdout",
     "output_type": "stream",
     "text": [
      "[LightGBM] [Warning] Auto-choosing col-wise multi-threading, the overhead of testing was 0.001271 seconds.\n",
      "You can set `force_col_wise=true` to remove the overhead.\n",
      "[LightGBM] [Info] Total Bins 192\n",
      "[LightGBM] [Info] Number of data points in the train set: 11223, number of used features: 11\n",
      "[LightGBM] [Info] Start training from score 7.112893\n"
     ]
    },
    {
     "name": "stderr",
     "output_type": "stream",
     "text": [
      "regularization_factors, val_score: 1.937884:  90%|###############################################################################2        | 18/20 [00:03<00:00,  4.23it/s]\u001b[32m[I 2021-08-18 21:40:04,984]\u001b[0m Trial 60 finished with value: 1.937883647116148 and parameters: {'lambda_l1': 2.0564188435637682e-07, 'lambda_l2': 0.00011102928193129057}. Best is trial 55 with value: 1.9378836398493893.\u001b[0m\n",
      "regularization_factors, val_score: 1.937884:  90%|###############################################################################2        | 18/20 [00:03<00:00,  4.23it/s]/usr/local/lib/python3.9/site-packages/lightgbm/basic.py:1433: UserWarning: Overriding the parameters from Reference Dataset.\n",
      "  _log_warning('Overriding the parameters from Reference Dataset.')\n",
      "/usr/local/lib/python3.9/site-packages/lightgbm/basic.py:1245: UserWarning: categorical_column in param dict is overridden.\n",
      "  _log_warning('{} in param dict is overridden.'.format(cat_alias))\n",
      "regularization_factors, val_score: 1.937884:  95%|###################################################################################6    | 19/20 [00:03<00:00,  4.37it/s]\u001b[32m[I 2021-08-18 21:40:05,195]\u001b[0m Trial 61 finished with value: 1.9378836400540422 and parameters: {'lambda_l1': 5.3424204011904855e-06, 'lambda_l2': 8.211167160000105e-07}. Best is trial 55 with value: 1.9378836398493893.\u001b[0m\n",
      "regularization_factors, val_score: 1.937884:  95%|###################################################################################6    | 19/20 [00:03<00:00,  4.37it/s]"
     ]
    },
    {
     "name": "stdout",
     "output_type": "stream",
     "text": [
      "[LightGBM] [Warning] Auto-choosing col-wise multi-threading, the overhead of testing was 0.000944 seconds.\n",
      "You can set `force_col_wise=true` to remove the overhead.\n",
      "[LightGBM] [Info] Total Bins 192\n",
      "[LightGBM] [Info] Number of data points in the train set: 11223, number of used features: 11\n",
      "[LightGBM] [Info] Start training from score 7.112893\n"
     ]
    },
    {
     "name": "stderr",
     "output_type": "stream",
     "text": [
      "/usr/local/lib/python3.9/site-packages/lightgbm/basic.py:1433: UserWarning: Overriding the parameters from Reference Dataset.\n",
      "  _log_warning('Overriding the parameters from Reference Dataset.')\n",
      "/usr/local/lib/python3.9/site-packages/lightgbm/basic.py:1245: UserWarning: categorical_column in param dict is overridden.\n",
      "  _log_warning('{} in param dict is overridden.'.format(cat_alias))\n",
      "regularization_factors, val_score: 1.937884: 100%|########################################################################################| 20/20 [00:04<00:00,  4.34it/s]\u001b[32m[I 2021-08-18 21:40:05,429]\u001b[0m Trial 62 finished with value: 1.9378836511366702 and parameters: {'lambda_l1': 0.00014386577631453736, 'lambda_l2': 5.2427644687717014e-05}. Best is trial 55 with value: 1.9378836398493893.\u001b[0m\n",
      "regularization_factors, val_score: 1.937884: 100%|########################################################################################| 20/20 [00:04<00:00,  4.84it/s]\n"
     ]
    },
    {
     "name": "stdout",
     "output_type": "stream",
     "text": [
      "[LightGBM] [Warning] Auto-choosing col-wise multi-threading, the overhead of testing was 0.001249 seconds.\n",
      "You can set `force_col_wise=true` to remove the overhead.\n",
      "[LightGBM] [Info] Total Bins 192\n",
      "[LightGBM] [Info] Number of data points in the train set: 11223, number of used features: 11\n",
      "[LightGBM] [Info] Start training from score 7.112893\n"
     ]
    },
    {
     "name": "stderr",
     "output_type": "stream",
     "text": [
      "min_data_in_leaf, val_score: 1.937884:   0%|                                                                                                        | 0/5 [00:00<?, ?it/s]/usr/local/lib/python3.9/site-packages/lightgbm/basic.py:1433: UserWarning: Overriding the parameters from Reference Dataset.\n",
      "  _log_warning('Overriding the parameters from Reference Dataset.')\n",
      "/usr/local/lib/python3.9/site-packages/lightgbm/basic.py:1245: UserWarning: categorical_column in param dict is overridden.\n",
      "  _log_warning('{} in param dict is overridden.'.format(cat_alias))\n",
      "min_data_in_leaf, val_score: 1.936227:  20%|###################2                                                                            | 1/5 [00:00<00:00,  4.61it/s]\u001b[32m[I 2021-08-18 21:40:05,652]\u001b[0m Trial 63 finished with value: 1.9362272863365964 and parameters: {'min_child_samples': 10}. Best is trial 63 with value: 1.9362272863365964.\u001b[0m\n",
      "min_data_in_leaf, val_score: 1.936227:  20%|###################2                                                                            | 1/5 [00:00<00:00,  4.61it/s]"
     ]
    },
    {
     "name": "stdout",
     "output_type": "stream",
     "text": [
      "[LightGBM] [Warning] Auto-choosing col-wise multi-threading, the overhead of testing was 0.001208 seconds.\n",
      "You can set `force_col_wise=true` to remove the overhead.\n",
      "[LightGBM] [Info] Total Bins 192\n",
      "[LightGBM] [Info] Number of data points in the train set: 11223, number of used features: 11\n",
      "[LightGBM] [Info] Start training from score 7.112893\n"
     ]
    },
    {
     "name": "stderr",
     "output_type": "stream",
     "text": [
      "/usr/local/lib/python3.9/site-packages/lightgbm/basic.py:1433: UserWarning: Overriding the parameters from Reference Dataset.\n",
      "  _log_warning('Overriding the parameters from Reference Dataset.')\n",
      "/usr/local/lib/python3.9/site-packages/lightgbm/basic.py:1245: UserWarning: categorical_column in param dict is overridden.\n",
      "  _log_warning('{} in param dict is overridden.'.format(cat_alias))\n",
      "min_data_in_leaf, val_score: 1.936227:  40%|######################################4                                                         | 2/5 [00:00<00:00,  5.03it/s]\u001b[32m[I 2021-08-18 21:40:05,838]\u001b[0m Trial 64 finished with value: 1.9439707012160237 and parameters: {'min_child_samples': 100}. Best is trial 63 with value: 1.9362272863365964.\u001b[0m\n",
      "min_data_in_leaf, val_score: 1.936227:  40%|######################################4                                                         | 2/5 [00:00<00:00,  5.03it/s]"
     ]
    },
    {
     "name": "stdout",
     "output_type": "stream",
     "text": [
      "[LightGBM] [Warning] Auto-choosing col-wise multi-threading, the overhead of testing was 0.001381 seconds.\n",
      "You can set `force_col_wise=true` to remove the overhead.\n",
      "[LightGBM] [Info] Total Bins 192\n",
      "[LightGBM] [Info] Number of data points in the train set: 11223, number of used features: 11\n",
      "[LightGBM] [Info] Start training from score 7.112893\n",
      "[LightGBM] [Warning] Auto-choosing col-wise multi-threading, the overhead of testing was 0.001057 seconds.\n",
      "You can set `force_col_wise=true` to remove the overhead.\n",
      "[LightGBM] [Info] Total Bins 192\n",
      "[LightGBM] [Info] Number of data points in the train set: 11223, number of used features: 11\n"
     ]
    },
    {
     "name": "stderr",
     "output_type": "stream",
     "text": [
      "/usr/local/lib/python3.9/site-packages/lightgbm/basic.py:1433: UserWarning: Overriding the parameters from Reference Dataset.\n",
      "  _log_warning('Overriding the parameters from Reference Dataset.')\n",
      "/usr/local/lib/python3.9/site-packages/lightgbm/basic.py:1245: UserWarning: categorical_column in param dict is overridden.\n",
      "  _log_warning('{} in param dict is overridden.'.format(cat_alias))\n",
      "min_data_in_leaf, val_score: 1.936227:  60%|#########################################################6                                      | 3/5 [00:00<00:00,  5.45it/s]\u001b[32m[I 2021-08-18 21:40:06,004]\u001b[0m Trial 65 finished with value: 1.9438078658707825 and parameters: {'min_child_samples': 5}. Best is trial 63 with value: 1.9362272863365964.\u001b[0m\n",
      "min_data_in_leaf, val_score: 1.936227:  60%|#########################################################6                                      | 3/5 [00:00<00:00,  5.45it/s]/usr/local/lib/python3.9/site-packages/lightgbm/basic.py:1433: UserWarning: Overriding the parameters from Reference Dataset.\n",
      "  _log_warning('Overriding the parameters from Reference Dataset.')\n",
      "/usr/local/lib/python3.9/site-packages/lightgbm/basic.py:1245: UserWarning: categorical_column in param dict is overridden.\n",
      "  _log_warning('{} in param dict is overridden.'.format(cat_alias))\n"
     ]
    },
    {
     "name": "stdout",
     "output_type": "stream",
     "text": [
      "[LightGBM] [Info] Start training from score 7.112893\n",
      "[LightGBM] [Warning] Auto-choosing col-wise multi-threading, the overhead of testing was 0.000902 seconds.\n",
      "You can set `force_col_wise=true` to remove the overhead.\n",
      "[LightGBM] [Info] Total Bins 192\n",
      "[LightGBM] [Info] Number of data points in the train set: 11223, number of used features: 11\n",
      "[LightGBM] [Info] Start training from score 7.112893\n"
     ]
    },
    {
     "name": "stderr",
     "output_type": "stream",
     "text": [
      "min_data_in_leaf, val_score: 1.936227:  80%|############################################################################8                   | 4/5 [00:00<00:00,  5.18it/s]\u001b[32m[I 2021-08-18 21:40:06,212]\u001b[0m Trial 66 finished with value: 1.9397429368886872 and parameters: {'min_child_samples': 50}. Best is trial 63 with value: 1.9362272863365964.\u001b[0m\n",
      "min_data_in_leaf, val_score: 1.936227:  80%|############################################################################8                   | 4/5 [00:00<00:00,  5.18it/s]/usr/local/lib/python3.9/site-packages/lightgbm/basic.py:1433: UserWarning: Overriding the parameters from Reference Dataset.\n",
      "  _log_warning('Overriding the parameters from Reference Dataset.')\n",
      "/usr/local/lib/python3.9/site-packages/lightgbm/basic.py:1245: UserWarning: categorical_column in param dict is overridden.\n",
      "  _log_warning('{} in param dict is overridden.'.format(cat_alias))\n",
      "min_data_in_leaf, val_score: 1.936227: 100%|################################################################################################| 5/5 [00:00<00:00,  5.54it/s]\u001b[32m[I 2021-08-18 21:40:06,369]\u001b[0m Trial 67 finished with value: 1.9428572226186867 and parameters: {'min_child_samples': 25}. Best is trial 63 with value: 1.9362272863365964.\u001b[0m\n",
      "min_data_in_leaf, val_score: 1.936227: 100%|################################################################################################| 5/5 [00:00<00:00,  5.33it/s]"
     ]
    },
    {
     "name": "stdout",
     "output_type": "stream",
     "text": [
      "[LightGBM] [Warning] Auto-choosing col-wise multi-threading, the overhead of testing was 0.001110 seconds.\n",
      "You can set `force_col_wise=true` to remove the overhead.\n",
      "[LightGBM] [Info] Total Bins 192\n",
      "[LightGBM] [Info] Number of data points in the train set: 11223, number of used features: 11\n",
      "[LightGBM] [Info] Start training from score 7.112893\n"
     ]
    },
    {
     "name": "stderr",
     "output_type": "stream",
     "text": [
      "\n"
     ]
    },
    {
     "data": {
      "text/plain": [
       "{'objective': 'regression',\n",
       " 'metric': 'rmse',\n",
       " 'boosting_type': 'gbdt',\n",
       " 'feature_pre_filter': False,\n",
       " 'lambda_l1': 0.0,\n",
       " 'lambda_l2': 0.0,\n",
       " 'num_leaves': 14,\n",
       " 'feature_fraction': 0.5,\n",
       " 'bagging_fraction': 1.0,\n",
       " 'bagging_freq': 0,\n",
       " 'min_child_samples': 10,\n",
       " 'num_iterations': 1000,\n",
       " 'early_stopping_round': 50,\n",
       " 'categorical_column': [0, 1, 2, 3, 4, 5, 6, 7]}"
      ]
     },
     "execution_count": 48,
     "metadata": {},
     "output_type": "execute_result"
    }
   ],
   "source": [
    "params = {\n",
    "    'objective': 'regression',\n",
    "    'metric': 'rmse',\n",
    "    \"boosting_type\": \"gbdt\",\n",
    "}\n",
    "\n",
    "best_params, history = {}, []\n",
    "\n",
    "# LightGBM学習\n",
    "gbm = lgb.train(params,\n",
    "                lgb_train,\n",
    "                num_boost_round=1000,\n",
    "                valid_sets=[lgb_train, lgb_eval],\n",
    "                verbose_eval=False,\n",
    "                early_stopping_rounds=50\n",
    "               )\n",
    "\n",
    "best_params = gbm.params\n",
    "best_params"
   ]
  },
  {
   "cell_type": "code",
   "execution_count": 49,
   "id": "7bd4aaba",
   "metadata": {},
   "outputs": [
    {
     "name": "stdout",
     "output_type": "stream",
     "text": [
      "              R2      RMSE\n",
      "scores  0.181342  2.030999\n"
     ]
    }
   ],
   "source": [
    "# LightGBM推論\n",
    "y_pred = gbm.predict(X_test, num_iteration=gbm.best_iteration)\n",
    "\n",
    "# 評価\n",
    "def calculate_scores(true, pred):\n",
    "    \"\"\"全ての評価指標を計算する\n",
    "\n",
    "    Parameters\n",
    "    ----------\n",
    "    true (np.array)       : 実測値\n",
    "    pred (np.array)       : 予測値\n",
    "\n",
    "    Returns\n",
    "    -------\n",
    "    scores (pd.DataFrame) : 各評価指標を纏めた結果\n",
    "\n",
    "    \"\"\"\n",
    "    scores = {}\n",
    "    scores = pd.DataFrame({'R2': r2_score(true, pred),\n",
    "                          'RMSE': np.sqrt(mean_squared_error(true, pred))},\n",
    "                           index = ['scores'])\n",
    "    return scores\n",
    "\n",
    "scores = calculate_scores(y_test, y_pred)\n",
    "print(scores)"
   ]
  },
  {
   "cell_type": "code",
   "execution_count": 50,
   "id": "09e83161",
   "metadata": {},
   "outputs": [
    {
     "data": {
      "text/plain": [
       "Text(0, 0.5, 'pred')"
      ]
     },
     "execution_count": 50,
     "metadata": {},
     "output_type": "execute_result"
    },
    {
     "data": {
      "image/png": "[encoded data removed]",
      "text/plain": [
       "<Figure size 1296x864 with 1 Axes>"
      ]
     },
     "metadata": {
      "needs_background": "light"
     },
     "output_type": "display_data"
    }
   ],
   "source": [
    "y_pred = gbm.predict(X_train, num_iteration=gbm.best_iteration)\n",
    "plt.figure(figsize=(18, 12))\n",
    "plt.scatter(y_train, y_pred, s=1) \n",
    "plt.xlabel('true')\n",
    "plt.ylabel('pred') "
   ]
  },
  {
   "cell_type": "code",
   "execution_count": 51,
   "id": "617e33f7",
   "metadata": {},
   "outputs": [
    {
     "data": {
      "text/plain": [
       "Text(0, 0.5, 'pred')"
      ]
     },
     "execution_count": 51,
     "metadata": {},
     "output_type": "execute_result"
    },
    {
     "data": {
      "image/png": "[encoded data removed]",
      "text/plain": [
       "<Figure size 1296x864 with 1 Axes>"
      ]
     },
     "metadata": {
      "needs_background": "light"
     },
     "output_type": "display_data"
    }
   ],
   "source": [
    "y_pred = gbm.predict(X_test, num_iteration=gbm.best_iteration)\n",
    "plt.figure(figsize=(18, 12))\n",
    "plt.scatter(y_test, y_pred, s=1) \n",
    "plt.xlabel('true')\n",
    "plt.ylabel('pred') "
   ]
  },
  {
   "cell_type": "code",
   "execution_count": 62,
   "id": "3b3e4ef7",
   "metadata": {},
   "outputs": [
    {
     "data": {
      "text/plain": [
       "<AxesSubplot:title={'center':'Feature importance'}, xlabel='Feature importance', ylabel='Features'>"
      ]
     },
     "execution_count": 62,
     "metadata": {},
     "output_type": "execute_result"
    },
    {
     "data": {
      "image/png": "[encoded data removed]",
      "text/plain": [
       "<Figure size 576x576 with 1 Axes>"
      ]
     },
     "metadata": {
      "needs_background": "light"
     },
     "output_type": "display_data"
    }
   ],
   "source": [
    "lgb.plot_importance(model, figsize=(8,8), max_num_features=25, importance_type='gain')"
   ]
  },
  {
   "cell_type": "code",
   "execution_count": 53,
   "id": "d7942228",
   "metadata": {},
   "outputs": [
    {
     "data": {
      "text/plain": [
       "<lightgbm.basic.Booster at 0x14f0f3340>"
      ]
     },
     "execution_count": 53,
     "metadata": {},
     "output_type": "execute_result"
    }
   ],
   "source": [
    "gbm.save_model('gbm.txt')"
   ]
  },
  {
   "cell_type": "code",
   "execution_count": 63,
   "id": "31cfc66b",
   "metadata": {},
   "outputs": [],
   "source": [
    "bst = lgb2.Booster(model_file='gbm.txt')"
   ]
  },
  {
   "cell_type": "code",
   "execution_count": 55,
   "id": "9eb730e2",
   "metadata": {},
   "outputs": [
    {
     "data": {
      "text/plain": [
       "Text(0, 0.5, 'pred')"
      ]
     },
     "execution_count": 55,
     "metadata": {},
     "output_type": "execute_result"
    },
    {
     "data": {
      "image/png": "[encoded data removed]",
      "text/plain": [
       "<Figure size 1296x864 with 1 Axes>"
      ]
     },
     "metadata": {
      "needs_background": "light"
     },
     "output_type": "display_data"
    }
   ],
   "source": [
    "y_pred = gbm.predict(X_test, num_iteration=gbm.best_iteration)\n",
    "plt.figure(figsize=(18, 12))\n",
    "plt.scatter(y_test, y_pred, s=1) \n",
    "plt.xlabel('true')\n",
    "plt.ylabel('pred') "
   ]
  },
  {
   "cell_type": "code",
   "execution_count": 64,
   "id": "217128fd",
   "metadata": {},
   "outputs": [],
   "source": [
    "columns = ['IAAB_E', 'IAAA_E', 'AAAX', 'AAAA', 'CKAB', 'AAAZ', 'AAAY', 'AAAU_01', 'CKAF_24', 'CKAF_21', 'CKAF_22']\n",
    "question = ['IAAB_E', 'AAAX', 'AAAA', 'CKAB', 'AAAZ', 'AAAY', 'AAAU_01', 'CKAF_24', 'CKAF_21', 'CKAF_22']\n",
    "def calc_happiness(answer):\n",
    "    input_data = pd.DataFrame(columns=columns)\n",
    "    for key, val in zip(question, answer):\n",
    "        input_data[key] = [val] * 23\n",
    "    input_data['IAAA_E'] = list(range(1, 24))\n",
    "    exp_variable = ['CKAB', 'IAAA_E', 'IAAB_E', 'AAAA', 'AAAX', 'AAAY', 'AAAZ', 'AAAU_01']\n",
    "    for e in exp_variable:\n",
    "        input_data[e] = input_data[e].astype('category')\n",
    "    bst = lgb2.Booster(model_file='gbm.txt')\n",
    "    y_pred = bst.predict(input_data, num_iteration=bst.best_iteration)\n",
    "    return list(y_pred)"
   ]
  },
  {
   "cell_type": "code",
   "execution_count": 65,
   "id": "ece5e1a7",
   "metadata": {},
   "outputs": [
    {
     "data": {
      "text/plain": [
       "<lightgbm.basic.Booster at 0x14f0f3340>"
      ]
     },
     "execution_count": 65,
     "metadata": {},
     "output_type": "execute_result"
    }
   ],
   "source": [
    "gbm"
   ]
  },
  {
   "cell_type": "code",
   "execution_count": 66,
   "id": "0318d30e",
   "metadata": {},
   "outputs": [
    {
     "data": {
      "text/plain": [
       "[6.87307419483534,\n",
       " 6.2774638618058916,\n",
       " 6.860013771751913,\n",
       " 7.527642379212879,\n",
       " 6.7747574506281305,\n",
       " 6.906279867841811,\n",
       " 7.058835968521361,\n",
       " 7.106084228342442,\n",
       " 7.20364326227055,\n",
       " 6.13570343625036,\n",
       " 7.3817915713794395,\n",
       " 7.016070703778833,\n",
       " 6.8022666579383975,\n",
       " 6.831358953806682,\n",
       " 6.6180881504440965,\n",
       " 6.579899555155935,\n",
       " 6.453325194213183,\n",
       " 7.242959497899866,\n",
       " 6.595708161982297,\n",
       " 6.255494300333282,\n",
       " 6.674128049828952,\n",
       " 6.919418510963023,\n",
       " 6.6458328710815415]"
      ]
     },
     "execution_count": 66,
     "metadata": {},
     "output_type": "execute_result"
    }
   ],
   "source": [
    "answer = [3, 2, 3, 2, 2, 3,'1',1, 2, 1]\n",
    "calc_happiness(answer)"
   ]
  },
  {
   "cell_type": "code",
   "execution_count": 67,
   "id": "240584b4",
   "metadata": {},
   "outputs": [
    {
     "data": {
      "text/plain": [
       "[7.522611926007149,\n",
       " 7.2087627901952676,\n",
       " 7.362057321524625,\n",
       " 7.936625713856075,\n",
       " 7.1539583031483716,\n",
       " 7.641204042590566,\n",
       " 7.592367837480161,\n",
       " 7.3673566535948,\n",
       " 7.482563960079222,\n",
       " 7.200585194103739,\n",
       " 7.764170112474514,\n",
       " 7.455505432101657,\n",
       " 7.476484466283708,\n",
       " 7.472243640338253,\n",
       " 7.424831679204013,\n",
       " 7.281134772582962,\n",
       " 7.175634829277084,\n",
       " 7.742987556274697,\n",
       " 7.502146193455239,\n",
       " 7.303578584285132,\n",
       " 7.205264410038201,\n",
       " 7.478445656235786,\n",
       " 7.104163157667107]"
      ]
     },
     "execution_count": 67,
     "metadata": {},
     "output_type": "execute_result"
    }
   ],
   "source": [
    "answer = [3, 5, 2, 3, 2, 2, 3,1,1, 2, 1]\n",
    "calc_happiness(answer)"
   ]
  },
  {
   "cell_type": "code",
   "execution_count": 545,
   "id": "242bc6f8",
   "metadata": {},
   "outputs": [
    {
     "data": {
      "text/plain": [
       "array([265, 285, 256, 185, 272, 161, 165, 125, 205, 222, 211], dtype=int32)"
      ]
     },
     "execution_count": 545,
     "metadata": {},
     "output_type": "execute_result"
    }
   ],
   "source": [
    "bst.feature_importance()"
   ]
  },
  {
   "cell_type": "code",
   "execution_count": 560,
   "id": "004d45a2",
   "metadata": {},
   "outputs": [
    {
     "name": "stdout",
     "output_type": "stream",
     "text": [
      "0        24.0\n",
      "1        11.0\n",
      "2        39.0\n",
      "3        39.0\n",
      "4        24.0\n",
      "         ... \n",
      "13851    39.0\n",
      "13852    39.0\n",
      "13853    29.0\n",
      "13854    39.0\n",
      "13855    27.0\n",
      "Name: IAAA_E, Length: 13856, dtype: category\n",
      "Categories (39, float64): [1.0, 2.0, 3.0, 4.0, ..., 36.0, 37.0, 38.0, 39.0]\n"
     ]
    },
    {
     "name": "stderr",
     "output_type": "stream",
     "text": [
      "/usr/local/lib/python3.9/site-packages/pandas/io/formats/format.py:1429: FutureWarning: Index.ravel returning ndarray is deprecated; in a future version this will return a view on self.\n",
      "  for val, m in zip(values.ravel(), mask.ravel())\n"
     ]
    }
   ],
   "source": [
    "print(exp_2.IAAA_E)"
   ]
  },
  {
   "cell_type": "code",
   "execution_count": 607,
   "id": "a0c3e1e2",
   "metadata": {},
   "outputs": [
    {
     "data": {
      "text/plain": [
       "13461        8\n",
       "8587         8\n",
       "10894        8\n",
       "5906         8\n",
       "636          8\n",
       "         ...  \n",
       "3051         8\n",
       "5629         8\n",
       "10498    3,4,6\n",
       "11243      3,4\n",
       "13307        8\n",
       "Name: AAAU_01, Length: 11223, dtype: category\n",
       "Categories (31, object): ['1,2,3', '1,2,3,4', '1,2,3,4,5', '1,2,3,4,5,6', ..., '6', '6,7', '7', '8']"
      ]
     },
     "execution_count": 607,
     "metadata": {},
     "output_type": "execute_result"
    }
   ],
   "source": [
    "X_train.AAAU_01"
   ]
  },
  {
   "cell_type": "code",
   "execution_count": 611,
   "id": "2af1d284",
   "metadata": {},
   "outputs": [
    {
     "data": {
      "text/html": [
       "<div>\n",
       "<style scoped>\n",
       "    .dataframe tbody tr th:only-of-type {\n",
       "        vertical-align: middle;\n",
       "    }\n",
       "\n",
       "    .dataframe tbody tr th {\n",
       "        vertical-align: top;\n",
       "    }\n",
       "\n",
       "    .dataframe thead th {\n",
       "        text-align: right;\n",
       "    }\n",
       "</style>\n",
       "<table border=\"1\" class=\"dataframe\">\n",
       "  <thead>\n",
       "    <tr style=\"text-align: right;\">\n",
       "      <th></th>\n",
       "      <th>IAAB_E</th>\n",
       "      <th>IAAA_E</th>\n",
       "      <th>AAAX</th>\n",
       "      <th>AAAA</th>\n",
       "      <th>CKAB</th>\n",
       "      <th>AAAZ</th>\n",
       "      <th>AAAY</th>\n",
       "      <th>AAAU_01</th>\n",
       "      <th>CKAF_24</th>\n",
       "      <th>CKAF_21</th>\n",
       "      <th>CKAF_22</th>\n",
       "    </tr>\n",
       "  </thead>\n",
       "  <tbody>\n",
       "    <tr>\n",
       "      <th>13461</th>\n",
       "      <td>40.0</td>\n",
       "      <td>2.0</td>\n",
       "      <td>10.0</td>\n",
       "      <td>12</td>\n",
       "      <td>1.0</td>\n",
       "      <td>3.0</td>\n",
       "      <td>1.0</td>\n",
       "      <td>8</td>\n",
       "      <td>2.0</td>\n",
       "      <td>2.0</td>\n",
       "      <td>3.0</td>\n",
       "    </tr>\n",
       "    <tr>\n",
       "      <th>8587</th>\n",
       "      <td>41.0</td>\n",
       "      <td>39.0</td>\n",
       "      <td>5.0</td>\n",
       "      <td>1</td>\n",
       "      <td>11.0</td>\n",
       "      <td>2.0</td>\n",
       "      <td>1.0</td>\n",
       "      <td>8</td>\n",
       "      <td>2.5</td>\n",
       "      <td>2.5</td>\n",
       "      <td>2.5</td>\n",
       "    </tr>\n",
       "    <tr>\n",
       "      <th>10894</th>\n",
       "      <td>38.0</td>\n",
       "      <td>35.0</td>\n",
       "      <td>2.0</td>\n",
       "      <td>4</td>\n",
       "      <td>6.0</td>\n",
       "      <td>1.0</td>\n",
       "      <td>1.0</td>\n",
       "      <td>8</td>\n",
       "      <td>4.0</td>\n",
       "      <td>4.0</td>\n",
       "      <td>3.0</td>\n",
       "    </tr>\n",
       "    <tr>\n",
       "      <th>5906</th>\n",
       "      <td>28.0</td>\n",
       "      <td>28.0</td>\n",
       "      <td>5.0</td>\n",
       "      <td>3</td>\n",
       "      <td>3.0</td>\n",
       "      <td>3.0</td>\n",
       "      <td>5.0</td>\n",
       "      <td>8</td>\n",
       "      <td>2.0</td>\n",
       "      <td>2.0</td>\n",
       "      <td>2.0</td>\n",
       "    </tr>\n",
       "    <tr>\n",
       "      <th>636</th>\n",
       "      <td>6.0</td>\n",
       "      <td>26.0</td>\n",
       "      <td>3.0</td>\n",
       "      <td>1</td>\n",
       "      <td>10.0</td>\n",
       "      <td>2.0</td>\n",
       "      <td>1.0</td>\n",
       "      <td>8</td>\n",
       "      <td>2.0</td>\n",
       "      <td>2.0</td>\n",
       "      <td>1.0</td>\n",
       "    </tr>\n",
       "    <tr>\n",
       "      <th>...</th>\n",
       "      <td>...</td>\n",
       "      <td>...</td>\n",
       "      <td>...</td>\n",
       "      <td>...</td>\n",
       "      <td>...</td>\n",
       "      <td>...</td>\n",
       "      <td>...</td>\n",
       "      <td>...</td>\n",
       "      <td>...</td>\n",
       "      <td>...</td>\n",
       "      <td>...</td>\n",
       "    </tr>\n",
       "    <tr>\n",
       "      <th>3051</th>\n",
       "      <td>24.0</td>\n",
       "      <td>24.0</td>\n",
       "      <td>6.0</td>\n",
       "      <td>4</td>\n",
       "      <td>5.0</td>\n",
       "      <td>1.0</td>\n",
       "      <td>2.0</td>\n",
       "      <td>8</td>\n",
       "      <td>2.0</td>\n",
       "      <td>3.0</td>\n",
       "      <td>2.0</td>\n",
       "    </tr>\n",
       "    <tr>\n",
       "      <th>5629</th>\n",
       "      <td>41.0</td>\n",
       "      <td>39.0</td>\n",
       "      <td>7.0</td>\n",
       "      <td>12</td>\n",
       "      <td>10.0</td>\n",
       "      <td>3.0</td>\n",
       "      <td>15.0</td>\n",
       "      <td>8</td>\n",
       "      <td>1.0</td>\n",
       "      <td>1.0</td>\n",
       "      <td>1.0</td>\n",
       "    </tr>\n",
       "    <tr>\n",
       "      <th>10498</th>\n",
       "      <td>7.0</td>\n",
       "      <td>19.0</td>\n",
       "      <td>10.0</td>\n",
       "      <td>2</td>\n",
       "      <td>6.0</td>\n",
       "      <td>3.0</td>\n",
       "      <td>7.0</td>\n",
       "      <td>3,4,6</td>\n",
       "      <td>2.0</td>\n",
       "      <td>4.0</td>\n",
       "      <td>1.0</td>\n",
       "    </tr>\n",
       "    <tr>\n",
       "      <th>11243</th>\n",
       "      <td>41.0</td>\n",
       "      <td>39.0</td>\n",
       "      <td>6.0</td>\n",
       "      <td>12</td>\n",
       "      <td>4.0</td>\n",
       "      <td>2.0</td>\n",
       "      <td>1.0</td>\n",
       "      <td>3,4</td>\n",
       "      <td>2.0</td>\n",
       "      <td>2.0</td>\n",
       "      <td>2.0</td>\n",
       "    </tr>\n",
       "    <tr>\n",
       "      <th>13307</th>\n",
       "      <td>40.0</td>\n",
       "      <td>29.0</td>\n",
       "      <td>10.0</td>\n",
       "      <td>12</td>\n",
       "      <td>4.0</td>\n",
       "      <td>6.0</td>\n",
       "      <td>1.0</td>\n",
       "      <td>8</td>\n",
       "      <td>2.0</td>\n",
       "      <td>2.0</td>\n",
       "      <td>2.0</td>\n",
       "    </tr>\n",
       "  </tbody>\n",
       "</table>\n",
       "<p>11223 rows × 11 columns</p>\n",
       "</div>"
      ],
      "text/plain": [
       "      IAAB_E IAAA_E  AAAX AAAA  CKAB AAAZ  AAAY AAAU_01  CKAF_24  CKAF_21  \\\n",
       "13461   40.0    2.0  10.0   12   1.0  3.0   1.0       8      2.0      2.0   \n",
       "8587    41.0   39.0   5.0    1  11.0  2.0   1.0       8      2.5      2.5   \n",
       "10894   38.0   35.0   2.0    4   6.0  1.0   1.0       8      4.0      4.0   \n",
       "5906    28.0   28.0   5.0    3   3.0  3.0   5.0       8      2.0      2.0   \n",
       "636      6.0   26.0   3.0    1  10.0  2.0   1.0       8      2.0      2.0   \n",
       "...      ...    ...   ...  ...   ...  ...   ...     ...      ...      ...   \n",
       "3051    24.0   24.0   6.0    4   5.0  1.0   2.0       8      2.0      3.0   \n",
       "5629    41.0   39.0   7.0   12  10.0  3.0  15.0       8      1.0      1.0   \n",
       "10498    7.0   19.0  10.0    2   6.0  3.0   7.0   3,4,6      2.0      4.0   \n",
       "11243   41.0   39.0   6.0   12   4.0  2.0   1.0     3,4      2.0      2.0   \n",
       "13307   40.0   29.0  10.0   12   4.0  6.0   1.0       8      2.0      2.0   \n",
       "\n",
       "       CKAF_22  \n",
       "13461      3.0  \n",
       "8587       2.5  \n",
       "10894      3.0  \n",
       "5906       2.0  \n",
       "636        1.0  \n",
       "...        ...  \n",
       "3051       2.0  \n",
       "5629       1.0  \n",
       "10498      1.0  \n",
       "11243      2.0  \n",
       "13307      2.0  \n",
       "\n",
       "[11223 rows x 11 columns]"
      ]
     },
     "execution_count": 611,
     "metadata": {},
     "output_type": "execute_result"
    }
   ],
   "source": [
    "X_train"
   ]
  },
  {
   "cell_type": "code",
   "execution_count": null,
   "id": "f99f016f",
   "metadata": {},
   "outputs": [],
   "source": []
  }
 ],
 "metadata": {
  "kernelspec": {
   "display_name": "Python 3 (ipykernel)",
   "language": "python",
   "name": "python3"
  },
  "language_info": {
   "codemirror_mode": {
    "name": "ipython",
    "version": 3
   },
   "file_extension": ".py",
   "mimetype": "text/x-python",
   "name": "python",
   "nbconvert_exporter": "python",
   "pygments_lexer": "ipython3",
   "version": "3.9.6"
  }
 },
 "nbformat": 4,
 "nbformat_minor": 5
}
